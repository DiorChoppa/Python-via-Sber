{
  "nbformat": 4,
  "nbformat_minor": 0,
  "metadata": {
    "colab": {
      "name": "Mock.ipynb",
      "provenance": []
    },
    "kernelspec": {
      "name": "python3",
      "display_name": "Python 3"
    },
    "language_info": {
      "name": "python"
    }
  },
  "cells": [
    {
      "cell_type": "markdown",
      "metadata": {
        "id": "uDu64lS1R4NU"
      },
      "source": [
        "#Mock"
      ]
    },
    {
      "cell_type": "markdown",
      "metadata": {
        "id": "1AOqt04nR8my"
      },
      "source": [
        "Как говорилось выше, высокая связанность внутри модулей программы приводит к сложностям при написании unit-тестов. Облегчить жизнь разработчикам призван класс unittest.Mock."
      ]
    },
    {
      "cell_type": "markdown",
      "metadata": {
        "id": "a9nuXLb-R8ff"
      },
      "source": [
        "Mock — это объект в тестировании, который заменяет реальный объект, имитируя его поведение."
      ]
    },
    {
      "cell_type": "markdown",
      "metadata": {
        "id": "iarHhoqeR8aq"
      },
      "source": [
        "Например, при написании тестов к системе, в которой реализованы http-запросы к реальному сервису, будет целесообразно использовать Mock-объекты как результат ответа на определенный запрос. Т.к. легко может произойти ситуация, когда тест не будет проходить в силу отсутствия соединения с сервером / вернулся ответ в другом формате и т.д.\n",
        "\n",
        "Чтобы создать Mock-объект, нужно:"
      ]
    },
    {
      "cell_type": "code",
      "metadata": {
        "colab": {
          "base_uri": "https://localhost:8080/"
        },
        "id": "qKh80irgRyPZ",
        "outputId": "c50699d0-c3b2-40e8-e6f8-22b7f5a5eb38"
      },
      "source": [
        "from unittest.mock import Mock\n",
        "\n",
        "mock = Mock()\n",
        "mock"
      ],
      "execution_count": 1,
      "outputs": [
        {
          "output_type": "execute_result",
          "data": {
            "text/plain": [
              "<Mock id='140306022132880'>"
            ]
          },
          "metadata": {},
          "execution_count": 1
        }
      ]
    },
    {
      "cell_type": "markdown",
      "metadata": {
        "id": "0k1KHDpdTGit"
      },
      "source": [
        "Особенностью работы с Mock является создание объектов «на лету» во время первого обращения к ним:"
      ]
    },
    {
      "cell_type": "code",
      "metadata": {
        "colab": {
          "base_uri": "https://localhost:8080/"
        },
        "id": "xLUzuO3OSpCi",
        "outputId": "e2829526-0379-4f34-a672-30c7ef12cadd"
      },
      "source": [
        "mock.some_attribute"
      ],
      "execution_count": 2,
      "outputs": [
        {
          "output_type": "execute_result",
          "data": {
            "text/plain": [
              "<Mock name='mock.some_attribute' id='140305959970512'>"
            ]
          },
          "metadata": {},
          "execution_count": 2
        }
      ]
    },
    {
      "cell_type": "code",
      "metadata": {
        "colab": {
          "base_uri": "https://localhost:8080/"
        },
        "id": "IY5NegOMTMk-",
        "outputId": "998fa768-717f-401c-e378-a0482b1c3e66"
      },
      "source": [
        "mock.do_something"
      ],
      "execution_count": 3,
      "outputs": [
        {
          "output_type": "execute_result",
          "data": {
            "text/plain": [
              "<Mock name='mock.do_something' id='140305959897232'>"
            ]
          },
          "metadata": {},
          "execution_count": 3
        }
      ]
    },
    {
      "cell_type": "code",
      "metadata": {
        "colab": {
          "base_uri": "https://localhost:8080/"
        },
        "id": "Qujf7RdrTOfq",
        "outputId": "cc9bb21c-8842-46f5-cd8b-6092839ae148"
      },
      "source": [
        "mock.go"
      ],
      "execution_count": 4,
      "outputs": [
        {
          "output_type": "execute_result",
          "data": {
            "text/plain": [
              "<Mock name='mock.go' id='140305960027984'>"
            ]
          },
          "metadata": {},
          "execution_count": 4
        }
      ]
    },
    {
      "cell_type": "markdown",
      "metadata": {
        "id": "E_L232ODTTVs"
      },
      "source": [
        "Внутри Mock хранится история использования данного объекта."
      ]
    },
    {
      "cell_type": "code",
      "metadata": {
        "colab": {
          "base_uri": "https://localhost:8080/",
          "height": 232
        },
        "id": "sSfYDPLlTPh9",
        "outputId": "962a17ae-30eb-4317-e08d-64b75d458a1b"
      },
      "source": [
        "from unittest.mock import Mock\n",
        "\n",
        "json = Mock()\n",
        "json.loads = ('{\"key\": \"value\"}')\n",
        "json.loads.assert_called()\n",
        "json.loads.assert_called_once()\n",
        "json.loads.assert_called_with('{\"key\": \"value\"}')\n",
        "json.loads.assert_called_once_with('{\"key\": \"value\"}')"
      ],
      "execution_count": 20,
      "outputs": [
        {
          "output_type": "error",
          "ename": "AttributeError",
          "evalue": "ignored",
          "traceback": [
            "\u001b[0;31m---------------------------------------------------------------------------\u001b[0m",
            "\u001b[0;31mAttributeError\u001b[0m                            Traceback (most recent call last)",
            "\u001b[0;32m<ipython-input-20-1bc3b324be00>\u001b[0m in \u001b[0;36m<module>\u001b[0;34m()\u001b[0m\n\u001b[1;32m      3\u001b[0m \u001b[0mjson\u001b[0m \u001b[0;34m=\u001b[0m \u001b[0mMock\u001b[0m\u001b[0;34m(\u001b[0m\u001b[0;34m)\u001b[0m\u001b[0;34m\u001b[0m\u001b[0;34m\u001b[0m\u001b[0m\n\u001b[1;32m      4\u001b[0m \u001b[0mjson\u001b[0m\u001b[0;34m.\u001b[0m\u001b[0mloads\u001b[0m \u001b[0;34m=\u001b[0m \u001b[0;34m(\u001b[0m\u001b[0;34m'{\"key\": \"value\"}'\u001b[0m\u001b[0;34m)\u001b[0m\u001b[0;34m\u001b[0m\u001b[0;34m\u001b[0m\u001b[0m\n\u001b[0;32m----> 5\u001b[0;31m \u001b[0mjson\u001b[0m\u001b[0;34m.\u001b[0m\u001b[0mloads\u001b[0m\u001b[0;34m.\u001b[0m\u001b[0massert_called\u001b[0m\u001b[0;34m(\u001b[0m\u001b[0;34m)\u001b[0m\u001b[0;34m\u001b[0m\u001b[0;34m\u001b[0m\u001b[0m\n\u001b[0m\u001b[1;32m      6\u001b[0m \u001b[0mjson\u001b[0m\u001b[0;34m.\u001b[0m\u001b[0mloads\u001b[0m\u001b[0;34m.\u001b[0m\u001b[0massert_called_once\u001b[0m\u001b[0;34m(\u001b[0m\u001b[0;34m)\u001b[0m\u001b[0;34m\u001b[0m\u001b[0;34m\u001b[0m\u001b[0m\n\u001b[1;32m      7\u001b[0m \u001b[0mjson\u001b[0m\u001b[0;34m.\u001b[0m\u001b[0mloads\u001b[0m\u001b[0;34m.\u001b[0m\u001b[0massert_called_with\u001b[0m\u001b[0;34m(\u001b[0m\u001b[0;34m'{\"key\": \"value\"}'\u001b[0m\u001b[0;34m)\u001b[0m\u001b[0;34m\u001b[0m\u001b[0;34m\u001b[0m\u001b[0m\n",
            "\u001b[0;31mAttributeError\u001b[0m: 'str' object has no attribute 'assert_called'"
          ]
        }
      ]
    },
    {
      "cell_type": "markdown",
      "metadata": {
        "id": "MqzAjqBmYNrW"
      },
      "source": [
        "__assert_called()__ — объект был вызван.\n",
        "\n",
        "__assert_called_once()__ — объект был вызван хотя бы один раз.\n",
        "\n",
        "__assert_called_with()__ — объект был вызван с таким-то значением.\n",
        "\n",
        "__assert_called_once_with()__ — объект был вызван хотя бы один раз с таким-то значением.\n",
        "\n",
        "Mock-объекты удобны еще тем, что позволяют заранее моделировать ответ на вызов того или иного метода, устанавливать значение переменной. Это означает, что в примере с базой данных в тестах, в методе setUp() можно создать Mock, эмулирующий подключение к базе данных, выполнение запросов к ней и ответов. Это в итоге позволит абстрагировать написание тестов от необходимости подключения к БД, а также от конкретных особенностей различных баз данных."
      ]
    },
    {
      "cell_type": "code",
      "metadata": {
        "colab": {
          "base_uri": "https://localhost:8080/"
        },
        "id": "C7XwvXGCT8Mz",
        "outputId": "8a861fdb-a0f0-467d-a4dd-0035bb5e25b4"
      },
      "source": [
        "mock = Mock(name=\"Real Python Mock\")\n",
        "mock.one"
      ],
      "execution_count": 21,
      "outputs": [
        {
          "output_type": "execute_result",
          "data": {
            "text/plain": [
              "<Mock name='Real Python Mock.one' id='140305958605456'>"
            ]
          },
          "metadata": {},
          "execution_count": 21
        }
      ]
    },
    {
      "cell_type": "code",
      "metadata": {
        "colab": {
          "base_uri": "https://localhost:8080/",
          "height": 37
        },
        "id": "wRSxKNegZaBZ",
        "outputId": "174972fe-5bba-42b2-c097-8a9694da54b8"
      },
      "source": [
        "mock = Mock()\n",
        "mock.name = \"Real Python Mock\"\n",
        "mock.name"
      ],
      "execution_count": 22,
      "outputs": [
        {
          "output_type": "execute_result",
          "data": {
            "application/vnd.google.colaboratory.intrinsic+json": {
              "type": "string"
            },
            "text/plain": [
              "'Real Python Mock'"
            ]
          },
          "metadata": {},
          "execution_count": 22
        }
      ]
    },
    {
      "cell_type": "markdown",
      "metadata": {
        "id": "RBsr5Me1ZoYA"
      },
      "source": [
        "Тут Mock-объект mock.name заменяется на строку и теперь при вызове mock.name в ответе будет именно строка.\n",
        "\n",
        "Рассмотрим пример применения Mock-объекта при написании тестов:"
      ]
    },
    {
      "cell_type": "code",
      "metadata": {
        "id": "z4acXDpuZjMN"
      },
      "source": [
        "import unittest\n",
        "from unittest.mock import Mock\n",
        "\n",
        "class SomeTextCorrector:\n",
        "  def __init__(self, items, id=None):\n",
        "    self.items = items\n",
        "\n",
        "  def correct(self, text_object):\n",
        "    temp_str = text_object.original_text\n",
        "    for substring in self.items[\"thrash_substrings\"]:\n",
        "      if substring in temp_str:\n",
        "        temp_str = temp_str.replace(substring, \"\")\n",
        "    text_object.original_text = temp_str.strip()\n",
        "    return text_object\n",
        "\n",
        "class TestSomeTextCorrector(unittest.TestCase):\n",
        "  @classmethod\n",
        "  def setUpClass(cls):\n",
        "    items = {\n",
        "        'thrash_substrings': [\"спам\", \"кредит\"]\n",
        "    }\n",
        "    cls.filter.SomeTextCorrector(items)\n",
        "\n",
        "    def test1(self):\n",
        "      text_object = Mock()\n",
        "      text_object.original_text = \"спам всегда приходит по возможности взять кредит\"\n",
        "      result = TestSomeTextCorrector.correct(text_object)\n",
        "      self.assertEqual('всегда приходит по возможности взять', result.originl_text)\n",
        "\n",
        "if __name__ == '__main__':\n",
        "  unittest.main()"
      ],
      "execution_count": null,
      "outputs": []
    },
    {
      "cell_type": "markdown",
      "metadata": {
        "id": "K9weJyJheJt2"
      },
      "source": [
        "Тут создается класс SomeTextCorrector, который с помощью метода correct() удаляет лишние строки из original_text объекта text_object.\n",
        "\n",
        "Так как во время написания теста мы не знаем о том, что из себя представляет класс, объектом которого является text_object, мы используем класс Mock для создания заглушки этого класса. Затем создаем переменную original_text и присваиваем ей строку со словами «спам» «кредит», чтобы метод correct() правильно отработал. Вызываем метод correct() и передаем Mock-объект и проверяем результат."
      ]
    }
  ]
}