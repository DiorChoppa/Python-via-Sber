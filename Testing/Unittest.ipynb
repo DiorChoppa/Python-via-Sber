{
  "nbformat": 4,
  "nbformat_minor": 0,
  "metadata": {
    "colab": {
      "name": "Unittest.ipynb",
      "provenance": []
    },
    "kernelspec": {
      "name": "python3",
      "display_name": "Python 3"
    },
    "language_info": {
      "name": "python"
    }
  },
  "cells": [
    {
      "cell_type": "markdown",
      "metadata": {
        "id": "NRznwQObEYLN"
      },
      "source": [
        "#Модуль unittest"
      ]
    },
    {
      "cell_type": "markdown",
      "metadata": {
        "id": "UVGZ6uimF7ZP"
      },
      "source": [
        "Самым распространенным модулем для написания тестов является unittest, который встроен в стандартную библиотеку Python.\n",
        "\n",
        "Принципы, которые используются в нем, легко переносятся в такие пакеты, как nose, nose2, pytest. \n",
        "\n",
        "Модуль unittest имеет несколько особенностей:\n",
        "\n",
        "Тесты пишутся, как методы внутри класса.\n",
        "Используются специальные функции assert, позволяющие сделать заключение об успешном или неудачном прохождении теста."
      ]
    },
    {
      "cell_type": "code",
      "metadata": {
        "colab": {
          "base_uri": "https://localhost:8080/",
          "height": 317
        },
        "id": "Ab4hOurVEUzS",
        "outputId": "9808cf20-9002-44ec-a591-7340a2c9a05e"
      },
      "source": [
        "import unittest\n",
        "\n",
        "class TestSum(unittest.TestCase):\n",
        "    def test_sum(self):\n",
        "        self.assertEqual(sum([1, 2, 3]), 6, \"Should be 6\")\n",
        "    def test_sum_tuple(self):\n",
        "        self.assertEqual(sum((1, 2, 2)), 6, \"Should be 6\")\n",
        "        \n",
        "if __name__ == '__main__':\n",
        "    unittest.main()"
      ],
      "execution_count": 8,
      "outputs": [
        {
          "output_type": "stream",
          "name": "stderr",
          "text": [
            "E\n",
            "======================================================================\n",
            "ERROR: /root/ (unittest.loader._FailedTest)\n",
            "----------------------------------------------------------------------\n",
            "AttributeError: module '__main__' has no attribute '/root/'\n",
            "\n",
            "----------------------------------------------------------------------\n",
            "Ran 1 test in 0.002s\n",
            "\n",
            "FAILED (errors=1)\n"
          ]
        },
        {
          "output_type": "error",
          "ename": "SystemExit",
          "evalue": "ignored",
          "traceback": [
            "An exception has occurred, use %tb to see the full traceback.\n",
            "\u001b[0;31mSystemExit\u001b[0m\u001b[0;31m:\u001b[0m True\n"
          ]
        },
        {
          "output_type": "stream",
          "name": "stderr",
          "text": [
            "/usr/local/lib/python3.7/dist-packages/IPython/core/interactiveshell.py:2890: UserWarning: To exit: use 'exit', 'quit', or Ctrl-D.\n",
            "  warn(\"To exit: use 'exit', 'quit', or Ctrl-D.\", stacklevel=1)\n"
          ]
        }
      ]
    },
    {
      "cell_type": "markdown",
      "metadata": {
        "id": "l7UuNuo4OLFb"
      },
      "source": [
        "Разберем пример:\n",
        "\n",
        "1. Импортируется модуль unittest.\n",
        "\n",
        "2. Класс TestSum наследуется от unittest.TestCase. \n",
        "\n",
        "3. Методы-тесты обязательно должны начинаться с прекфикса test_. \n",
        "\n",
        "4. Внутри можно использовать различные методы типа:\n",
        "\n",
        "assertEqual(a, b) — a == b\n",
        "assertNotEqual(a, b) — a != b\n",
        "assertTrue(x) — bool(x) is True\n",
        "assertFalse(x) — bool(x) is False\n",
        "5. В функции main() необходимо вызвать unittest.main().\n",
        "\n",
        "Хорошей практикой является создание одного класса unit-теста на один тестируемый класс, именование подбирается соответствующее."
      ]
    },
    {
      "cell_type": "markdown",
      "metadata": {
        "id": "P-GI4FbTOOzs"
      },
      "source": [
        "###Методы setUp() и tearDown()"
      ]
    },
    {
      "cell_type": "markdown",
      "metadata": {
        "id": "QIl1W20LOeWQ"
      },
      "source": [
        "Часто бывают случаи, когда необходимо выполнить какую-то логику до выполнения теста и после, например, подключиться к базе данных, а потом закрыть подключение.\n",
        "\n",
        "Для этого в модуле unittest предусмотрены методы setUp() и tearDown()."
      ]
    },
    {
      "cell_type": "code",
      "metadata": {
        "colab": {
          "base_uri": "https://localhost:8080/",
          "height": 317
        },
        "id": "9zLZUz6gONLb",
        "outputId": "b0124ad0-1b31-45b0-8c76-e05dcb5b52c4"
      },
      "source": [
        "import unittest\n",
        "\n",
        "class TestSum(unittest.TestCase):\n",
        "\n",
        "  def setUp(self):\n",
        "    print(\"action before tests\")\n",
        "  def tearDown(self):\n",
        "    print(\"action after tests\")\n",
        "\n",
        "  def test_sum(self):\n",
        "    self.assertEqual(sum([1, 2, 3]), 6, \"Should be 6\")\n",
        "\n",
        "  def test_sum_tuple(self):\n",
        "    self.assertEqual(sum((1, 2, 3)), 6, \"Should be 6\")\n",
        "\n",
        "if __name__ == \"__main__\":\n",
        "  unittest.main()"
      ],
      "execution_count": 13,
      "outputs": [
        {
          "output_type": "stream",
          "name": "stderr",
          "text": [
            "E\n",
            "======================================================================\n",
            "ERROR: /root/ (unittest.loader._FailedTest)\n",
            "----------------------------------------------------------------------\n",
            "AttributeError: module '__main__' has no attribute '/root/'\n",
            "\n",
            "----------------------------------------------------------------------\n",
            "Ran 1 test in 0.002s\n",
            "\n",
            "FAILED (errors=1)\n"
          ]
        },
        {
          "output_type": "error",
          "ename": "SystemExit",
          "evalue": "ignored",
          "traceback": [
            "An exception has occurred, use %tb to see the full traceback.\n",
            "\u001b[0;31mSystemExit\u001b[0m\u001b[0;31m:\u001b[0m True\n"
          ]
        },
        {
          "output_type": "stream",
          "name": "stderr",
          "text": [
            "/usr/local/lib/python3.7/dist-packages/IPython/core/interactiveshell.py:2890: UserWarning: To exit: use 'exit', 'quit', or Ctrl-D.\n",
            "  warn(\"To exit: use 'exit', 'quit', or Ctrl-D.\", stacklevel=1)\n"
          ]
        }
      ]
    },
    {
      "cell_type": "markdown",
      "metadata": {
        "id": "A_E_7w2jRnJn"
      },
      "source": [
        "По логам можем видеть, что методы setUp() и tearDown() выполняются каждый раз до и после каждого теста."
      ]
    }
  ]
}