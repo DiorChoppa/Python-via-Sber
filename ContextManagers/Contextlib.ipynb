{
  "nbformat": 4,
  "nbformat_minor": 0,
  "metadata": {
    "colab": {
      "name": "Contextlib.ipynb",
      "provenance": []
    },
    "kernelspec": {
      "name": "python3",
      "display_name": "Python 3"
    },
    "language_info": {
      "name": "python"
    }
  },
  "cells": [
    {
      "cell_type": "markdown",
      "metadata": {
        "id": "zZ5HIMSOkBfG"
      },
      "source": [
        "#Модуль contextlib"
      ]
    },
    {
      "cell_type": "markdown",
      "metadata": {
        "id": "-JuKF3clkK_0"
      },
      "source": [
        "В Python можно создавать контекстные менеджеры не только используя магические методы __\\_\\_enter\\_\\_()__ и __\\_\\_exit\\_\\_()__, но и используя модуль contextlib.\n",
        "\n",
        "Данный модуль несет в себе декоратор contextmanager, который привносит в функцию поведение контекстного менеджера."
      ]
    },
    {
      "cell_type": "code",
      "metadata": {
        "id": "QxfmlaEmj-AE"
      },
      "source": [
        "from contextlib import contextmanager\n",
        "\n",
        "@contextmanager\n",
        "def ft_open(path):\n",
        "  try:\n",
        "    file = open(path, \"w\")\n",
        "    #print(\"File opened.\")\n",
        "    yield file\n",
        "  except Exception:\n",
        "    print(\"Error!\")\n",
        "  finally:\n",
        "    print(\"Closing file.\")\n",
        "    file.close()"
      ],
      "execution_count": 6,
      "outputs": []
    },
    {
      "cell_type": "markdown",
      "metadata": {
        "id": "4NiWsb_eltkU"
      },
      "source": [
        "Тут ключевой особенностью является логическое разделение пользовательской функции на этапы.\n",
        "\n",
        "Первый этап: до оператора yield идет логика, схожая логикой внутри метода \\_\\_enter__(), который нужно было бы реализовать внутри класса. \n",
        "\n",
        "Второй этап: оператор yield возвращает нужный объект, который используется внутри блока with.\n",
        "\n",
        "Третий этап: после выполнения блока with следует этап очистки ресурсов и обработки ошибок."
      ]
    }
  ]
}