{
  "nbformat": 4,
  "nbformat_minor": 0,
  "metadata": {
    "colab": {
      "name": "task.ipynb",
      "provenance": []
    },
    "kernelspec": {
      "name": "python3",
      "display_name": "Python 3"
    },
    "language_info": {
      "name": "python"
    }
  },
  "cells": [
    {
      "cell_type": "markdown",
      "metadata": {
        "id": "4elWoo-am75C"
      },
      "source": [
        "Предлагаем реализовать собственный контекстный менеджер на основе одного из классов, реализованного в рамках модуля про ООП или же создать собственный класс из предложенных на выбор:\n",
        "\n",
        "Подключение и выполнение операций к базе данных sqlite \n",
        "Подключение и загрузка / скачивание файлов из хранилища s3\n",
        "Открытие и закрытие файла в ОС\n",
        "Рекомендуем предусмотреть ошибки, которые могут возникнуть в ходе работы и обработать их в методе \\_\\_exit__()."
      ]
    },
    {
      "cell_type": "markdown",
      "metadata": {
        "id": "fCwA0HeTnpwq"
      },
      "source": [
        "Создадим класс, у объекта которого необходимо вызывать метод post_work() перед прекращением работы с ним:"
      ]
    },
    {
      "cell_type": "code",
      "metadata": {
        "id": "sl71AVdOm1k1"
      },
      "source": [
        "class Resource:\n",
        "  def __init__(self, name):\n",
        "    self.__name = name\n",
        "    print(\"Resource: create {}\".format(name))\n",
        "  \n",
        "  def get_name(self):\n",
        "    return self.__name\n",
        "\n",
        "  def post_work(self):\n",
        "    print(\"Resource: close\")"
      ],
      "execution_count": 1,
      "outputs": []
    },
    {
      "cell_type": "markdown",
      "metadata": {
        "id": "yAT1hhqGnsZY"
      },
      "source": [
        "Теперь создадим контекстный менеджер для работы с Resource, который можно будет использовать с оператором with:"
      ]
    },
    {
      "cell_type": "code",
      "metadata": {
        "id": "xfdAbuZKnhXH"
      },
      "source": [
        "class ResourceForWith:\n",
        "  def __init__(self, name):\n",
        "    self.__resource = Resource(name)\n",
        "  \n",
        "  def __enter__(self):\n",
        "    return self.__resource\n",
        "  \n",
        "  def __exit__(self, exc_type, exc_val, exc_tb):\n",
        "    self.__resource.post_work()"
      ],
      "execution_count": 2,
      "outputs": []
    },
    {
      "cell_type": "markdown",
      "metadata": {
        "id": "vICTABsNoV_I"
      },
      "source": [
        "Пример работы с ResourceForWith и конструкцией with:"
      ]
    },
    {
      "cell_type": "code",
      "metadata": {
        "colab": {
          "base_uri": "https://localhost:8080/"
        },
        "id": "YNNmHxeDoSxx",
        "outputId": "3960e27d-2ee7-465d-b09f-31a733eaa5bf"
      },
      "source": [
        "with ResourceForWith(\"Student\") as o:\n",
        "  print(o.get_name())"
      ],
      "execution_count": 4,
      "outputs": [
        {
          "output_type": "stream",
          "name": "stdout",
          "text": [
            "Resource: create Student\n",
            "Student\n",
            "Resource: close\n"
          ]
        }
      ]
    }
  ]
}