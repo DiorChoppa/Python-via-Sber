{
  "nbformat": 4,
  "nbformat_minor": 0,
  "metadata": {
    "colab": {
      "name": "WHL.ipynb",
      "provenance": []
    },
    "kernelspec": {
      "name": "python3",
      "display_name": "Python 3"
    },
    "language_info": {
      "name": "python"
    }
  },
  "cells": [
    {
      "cell_type": "markdown",
      "metadata": {
        "id": "S5-W_DUdqPeO"
      },
      "source": [
        "#Создание собственного whl"
      ]
    },
    {
      "cell_type": "markdown",
      "metadata": {
        "id": "tiBBgTFfqxu7"
      },
      "source": [
        "Многие домашние (и не только) разработки приводят к тому, что созданным проектом хочется с кем-то поделиться. Для этого в Python придумали формат whl, сопутствующие утилиты, позволяющие упаковать проект для дальнейшего распространения.\n",
        "\n",
        "Для этого мы создадим небольшую иерархию папок:"
      ]
    },
    {
      "cell_type": "code",
      "metadata": {
        "id": "WOk8hMxZp-wq"
      },
      "source": [
        "python_course_package/ \n",
        "  example_pkg/ # пакет, который будем импортировать через import\n",
        "    __init__.py"
      ],
      "execution_count": null,
      "outputs": []
    },
    {
      "cell_type": "markdown",
      "metadata": {
        "id": "-nfB4zUoqz4r"
      },
      "source": [
        "Внутрь \\_\\_init__.py пропишем:"
      ]
    },
    {
      "cell_type": "code",
      "metadata": {
        "colab": {
          "base_uri": "https://localhost:8080/"
        },
        "id": "quc2raCDq2ew",
        "outputId": "a10f2ad6-f30f-4bac-8425-b849ec923a80"
      },
      "source": [
        "print(\"test package\")"
      ],
      "execution_count": 1,
      "outputs": [
        {
          "output_type": "stream",
          "name": "stdout",
          "text": [
            "test package\n"
          ]
        }
      ]
    },
    {
      "cell_type": "markdown",
      "metadata": {
        "id": "f399VVz9q67c"
      },
      "source": [
        "Внутри папки example_pkg создадим файл __setup.py__ c таким содержимым:"
      ]
    },
    {
      "cell_type": "code",
      "metadata": {
        "id": "aKap5uMbq4Qp"
      },
      "source": [
        "import setuptools\n",
        "setuptools.setup(\n",
        "    name=\"python-course-package\", # Replace with your own username\n",
        "    version=\"0.0.1\",\n",
        "    author=\"Sberbank\",\n",
        "    long_description=\"test package\",\n",
        "    long_description_content_type=\"text/markdown\",\n",
        "    packages=setuptools.find_packages(),\n",
        "    classifiers=[\n",
        "        \"Programming Language :: Python :: 3\",\n",
        "        \"License :: OSI Approved :: MIT License\",\n",
        "        \"Operating System :: OS Independent\",\n",
        "    ],\n",
        "    python_requires='>=3.6',\n",
        ")"
      ],
      "execution_count": null,
      "outputs": []
    },
    {
      "cell_type": "markdown",
      "metadata": {
        "id": "aPmlNcXmuc7D"
      },
      "source": [
        "setup.py - это скрипт для сборки с помощью библиотеки setuptools."
      ]
    },
    {
      "cell_type": "markdown",
      "metadata": {
        "id": "u3B3qpYdugva"
      },
      "source": [
        "После создания setup.py убедимся, что мы имеем последние версии библиотек для упаковки в whl с помощью команды:"
      ]
    },
    {
      "cell_type": "code",
      "metadata": {
        "id": "tmmc7C3IufB4"
      },
      "source": [
        "python3 -m pip install --user --upgrade setuptools wheel"
      ],
      "execution_count": null,
      "outputs": []
    },
    {
      "cell_type": "markdown",
      "metadata": {
        "id": "8Sfk8STmujh3"
      },
      "source": [
        "И теперь создадим новую библиотеку для Python. Из папки, где находится setup.py, вызовем команду:"
      ]
    },
    {
      "cell_type": "code",
      "metadata": {
        "id": "icsWIi65ujGN"
      },
      "source": [
        "python3 setup.py sdist bdist_wheel"
      ],
      "execution_count": null,
      "outputs": []
    },
    {
      "cell_type": "markdown",
      "metadata": {
        "id": "nMlxH9IHupKX"
      },
      "source": [
        "Аргумент sdist создаст архив с библиотекой с дефолтным форматом для операционной системы — tar.gz для Unix подобных систем и zip для Windows.\n",
        "\n",
        "Аргумент bdist_wheel создает дистрибутив библиотеки с расширением whl.\n",
        "\n",
        "После отработки, получим следующие папки:"
      ]
    },
    {
      "cell_type": "code",
      "metadata": {
        "id": "41jEc_Pyu2fm"
      },
      "source": [
        "build example_pkg setup.py\n",
        "dist python_course_package.egg-info"
      ],
      "execution_count": null,
      "outputs": []
    },
    {
      "cell_type": "markdown",
      "metadata": {
        "id": "MqFDAn0Pu9ek"
      },
      "source": [
        "Упакованная библиотека находится в папке dist:"
      ]
    },
    {
      "cell_type": "code",
      "metadata": {
        "id": "-sAWg7bGu_bG"
      },
      "source": [
        "python-course-package-0.0.1.tar.gz python_course_package-0.0.1-py3-none-any.whl"
      ],
      "execution_count": null,
      "outputs": []
    },
    {
      "cell_type": "markdown",
      "metadata": {
        "id": "NpEgcIOJvJaD"
      },
      "source": [
        "C помощью pip установим библиотеку себе в Python:"
      ]
    },
    {
      "cell_type": "code",
      "metadata": {
        "id": "LZw0o1hPvJCn"
      },
      "source": [
        "pip install python_course_package-0.0.1-py3-none-any.whl"
      ],
      "execution_count": null,
      "outputs": []
    },
    {
      "cell_type": "markdown",
      "metadata": {
        "id": "_yfUoKx1vOXw"
      },
      "source": [
        "А теперь импортируем созданную библиотеку и увидим результат вызова метода print() в консоли:"
      ]
    },
    {
      "cell_type": "code",
      "metadata": {
        "id": "bMseNBLdv9kt"
      },
      "source": [
        "import example_pkg"
      ],
      "execution_count": null,
      "outputs": []
    }
  ]
}