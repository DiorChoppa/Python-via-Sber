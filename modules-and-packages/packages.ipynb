{
  "nbformat": 4,
  "nbformat_minor": 0,
  "metadata": {
    "colab": {
      "name": "packages.ipynb",
      "provenance": []
    },
    "kernelspec": {
      "name": "python3",
      "display_name": "Python 3"
    },
    "language_info": {
      "name": "python"
    }
  },
  "cells": [
    {
      "cell_type": "markdown",
      "metadata": {
        "id": "AeGg3FWjl85v"
      },
      "source": [
        "#Пакеты"
      ]
    },
    {
      "cell_type": "markdown",
      "metadata": {
        "id": "l-wfLB1ZmhKQ"
      },
      "source": [
        "Во время разработки ПО, использования одних лишь модулей недостаточно, т. к. проект растет, хочется выделить отдельные модули внутрь логически обособленных единиц — этим в python являются пакеты. \n",
        "\n",
        "Так же, как модули позволяют избежать коллизии имен, пакеты позволяют избежать коллизий внутри имен модулей.\n",
        "\n",
        "Иерархически пакеты строятся вокруг обычных папок операционной системы."
      ]
    },
    {
      "cell_type": "code",
      "metadata": {
        "id": "ZmwHOTWKl4Vy"
      },
      "source": [
        "pkg # Папка в ОС\n",
        "- mod1.py \n",
        "- mod2.py\n",
        "- __init__.py"
      ],
      "execution_count": null,
      "outputs": []
    },
    {
      "cell_type": "code",
      "metadata": {
        "id": "nZ628mK3mjuM"
      },
      "source": [
        "#mod1.py\n",
        "def foo():\n",
        "    print('module1 foo()')\n",
        "class Foo:\n",
        "    pass\n",
        "#mod2.py\n",
        "def bar():\n",
        "    print('module2 bar()')\n",
        "class Bar:\n",
        "    pass"
      ],
      "execution_count": 2,
      "outputs": []
    },
    {
      "cell_type": "markdown",
      "metadata": {
        "id": "cKCIY3iGmu4P"
      },
      "source": [
        "Учитывая нашу иерархию, нужно убедиться, что пакет находится в списке путей, по которым будет искать python во время запуска, sys.path, PYTHONPATH и т.д. Если все это соблюдено, то импортировать модуль из пакета очень просто:"
      ]
    },
    {
      "cell_type": "code",
      "metadata": {
        "id": "r6ul8UjDmmIo"
      },
      "source": [
        "import <module_name>[, <module_name> ...] # импорт модулей"
      ],
      "execution_count": null,
      "outputs": []
    },
    {
      "cell_type": "code",
      "metadata": {
        "id": "WlGyJkyFo0nq"
      },
      "source": [
        "import pkg.mod1, pkg.mod2\n",
        "\n",
        "print(pkg.mod1.foo())\n",
        "x = pkg.mod2.Bar()\n",
        "print(x)"
      ],
      "execution_count": null,
      "outputs": []
    },
    {
      "cell_type": "code",
      "metadata": {
        "id": "AaYborpYo0lE"
      },
      "source": [
        "from pkg.mod1 import foo\n",
        "foo()"
      ],
      "execution_count": null,
      "outputs": []
    },
    {
      "cell_type": "code",
      "metadata": {
        "id": "RigyGS4Yo0iV"
      },
      "source": [
        "from pkg.mod2 import Bar as Qux\n",
        "x = Qux()\n",
        "print(x)"
      ],
      "execution_count": null,
      "outputs": []
    },
    {
      "cell_type": "markdown",
      "metadata": {
        "id": "AgP1yq0Io_e8"
      },
      "source": [
        "#Инициализация пакетов"
      ]
    },
    {
      "cell_type": "markdown",
      "metadata": {
        "id": "owbSdo6TpHOC"
      },
      "source": [
        "Если внутри пакета создать файл \\_\\_init__.py, то при импорте пакета или модуля из него выполнится и __init__.py.\n",
        "\n",
        "Это может быть полезно для определения глобальных переменных, свойственных для пакета, определения функций и т.д. "
      ]
    },
    {
      "cell_type": "code",
      "metadata": {
        "id": "HaVJTl7LpCTz"
      },
      "source": [
        "pkg\n",
        "- __init__.py\n",
        "- mod1.py\n",
        "- mod2.py"
      ],
      "execution_count": 5,
      "outputs": []
    },
    {
      "cell_type": "code",
      "metadata": {
        "id": "ep2J8KmMpGHi"
      },
      "source": [
        "__init__.py\n",
        "print(\"init in __init__.py\")\n",
        "A = [\"tes1t\", \"test2\"]"
      ],
      "execution_count": null,
      "outputs": []
    },
    {
      "cell_type": "code",
      "metadata": {
        "id": "sn6HhWEcpvkF"
      },
      "source": [
        "import pkg\n",
        "print(pkg.A)"
      ],
      "execution_count": null,
      "outputs": []
    }
  ]
}