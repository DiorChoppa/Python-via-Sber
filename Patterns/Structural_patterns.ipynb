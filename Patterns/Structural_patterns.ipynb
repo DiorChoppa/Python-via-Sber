{
  "nbformat": 4,
  "nbformat_minor": 0,
  "metadata": {
    "colab": {
      "name": "Structural-patterns.ipynb",
      "provenance": []
    },
    "kernelspec": {
      "name": "python3",
      "display_name": "Python 3"
    },
    "language_info": {
      "name": "python"
    }
  },
  "cells": [
    {
      "cell_type": "markdown",
      "metadata": {
        "id": "A6CqdcjfbUkv"
      },
      "source": [
        "#Структурные шаблоны"
      ]
    },
    {
      "cell_type": "markdown",
      "metadata": {
        "id": "l7QLufMMbYk0"
      },
      "source": [
        "Декоратор (Decorator) — это шаблон, который позволяет добавлять объектам новую функциональность, как бы оборачивая их."
      ]
    },
    {
      "cell_type": "markdown",
      "metadata": {
        "id": "iDk_G17nbe9j"
      },
      "source": [
        "К счастью разработчиков на Python, данный шаблон встроен по умолчанию. \n",
        "\n",
        "Более подробно о работе с декораторами можно посмотреть в модуле «Функции». Тут же еще раз приведем пример работы с декораторами в Python."
      ]
    },
    {
      "cell_type": "code",
      "metadata": {
        "id": "iT4G-CUibFgu"
      },
      "source": [
        "def func_time_decorator(func):\n",
        "  import time\n",
        "  def wrapper(*args, **kwargs):\n",
        "    start = time.time()\n",
        "    return_value = func(*args, **kwargs)\n",
        "    end = time.time()\n",
        "    print('[*] Время выполнения: {} секунд.'.format(end-start))\n",
        "    return return_value\n",
        "  return wrapper"
      ],
      "execution_count": 4,
      "outputs": []
    },
    {
      "cell_type": "markdown",
      "metadata": {
        "id": "lBooiYdYcadp"
      },
      "source": [
        "__Фасад (Facade) — это шаблон, который предоставляет интерфейс к сложной системе классов, сторонних библиотек и фреймворков.__"
      ]
    },
    {
      "cell_type": "markdown",
      "metadata": {
        "id": "7vDwXldccs2L"
      },
      "source": [
        "Пример: подключение нового функционала библиотеки Prometeus (для мониторинга), Jaeger (для трассировки) удобно делать с помощью классов, которые изолируют вызов и работу с этой библиотекой, отделяя ее от классов разрабатываемой системы."
      ]
    },
    {
      "cell_type": "code",
      "metadata": {
        "id": "PKaLMN9Db_yn"
      },
      "source": [
        "class FileAdapterFacade:\n",
        "  \"\"\"\n",
        "  Фасад для доступа к файлам, который скрывает\n",
        "  конкретную систему, где лежат файлы\n",
        "  \"\"\"\n",
        "  def __init__(self, subsystem) -> None:\n",
        "    self._file_system = subsystem\n",
        "  def get_file(self, file_name):\n",
        "    return self._file_system.get(file_name)\n",
        "\n",
        "class LocalStorager:\n",
        "  \"\"\"\n",
        "  Доступ к файлам на диске\n",
        "  \"\"\"\n",
        "  def get_file(self, file_name):\n",
        "    pass\n",
        "\n",
        "class CephStorager:\n",
        "  \"\"\"\n",
        "  Доступ к файлам, которые лежат удаленно в ceph bucket\n",
        "  Данный класс вдобавок может реализовывать\n",
        "  работы с библиотекой, подключения к ceph\n",
        "  \"\"\" \n",
        "  def get_file(self, file_name):\n",
        "    connector = self.connect()\n",
        "    connector.set_s3_mode()\n",
        "    connector.turn_off_ssl()\n",
        "    connector.estabilish()\n",
        "    file = connector.get_file(file_name)\n",
        "    return file"
      ],
      "execution_count": 9,
      "outputs": []
    },
    {
      "cell_type": "markdown",
      "metadata": {
        "id": "XHfB3EWJekvW"
      },
      "source": [
        "__Адаптер (Adapter) — это шаблон, который позволяет объектам с разными интерфейсами работать вместе.__"
      ]
    },
    {
      "cell_type": "markdown",
      "metadata": {
        "id": "CXp8jJ0gep8T"
      },
      "source": [
        "Пример: часто при разработке нескольких систем приходится разрабатывать систему-адаптер, которая через нее связывает несколько систем в единую. Внутри одного проекта это может быть класс, который готовит данные, а отдельные классы адаптируют их для отправки по rest или по kafka."
      ]
    },
    {
      "cell_type": "code",
      "metadata": {
        "colab": {
          "base_uri": "https://localhost:8080/"
        },
        "id": "R6g8FNzzeLgl",
        "outputId": "fe78aeb2-c3ce-483c-931d-91534b49884a"
      },
      "source": [
        "# coding=utf-8\n",
        "import requests\n",
        "\n",
        "CORRELATION_ID = \"correlationId\"\n",
        "\n",
        "class HttpRequest:\n",
        "  def __init__(self, url):\n",
        "    self.url = url\n",
        "\n",
        "  def request(self, obj):\n",
        "    try:\n",
        "      if CORRELATION_ID not in obj.headers.keys():\n",
        "        raise AttributeError\n",
        "      else:\n",
        "        response = requests.get(\n",
        "            self.url,\n",
        "            params=obj.params,\n",
        "            headers=obj.headers,\n",
        "        )\n",
        "        print(response)\n",
        "    except AttributeError:\n",
        "      print(\"not correlationId in headers\")\n",
        "\n",
        "class OldClass:\n",
        "  def __init__(self, headers, params):\n",
        "    self.headers = headers\n",
        "    self.params = params\n",
        "\n",
        "class OldClassHttpRequestAdapter:\n",
        "  def __init__(self, obj):\n",
        "    self.obj = obj\n",
        "  @property\n",
        "  def headers(self):\n",
        "    if CORRELATION_ID not in self.obj.headers.keys():\n",
        "      self.obj.headers[CORRELATION_ID] = \"1232-1112-3333\"\n",
        "    return self.obj.headers\n",
        "  @property\n",
        "  def params(self):\n",
        "    return self.obj.params\n",
        "\n",
        "http_request = HttpRequest(\"https://github.com\")\n",
        "old_class_obj = OldClass({\"test\":\"111\"}, {\"params1\":\"value1\"})\n",
        "adapter_obj = OldClassHttpRequestAdapter(old_class_obj)\n",
        "http_request.request(old_class_obj)\n",
        "http_request.request(adapter_obj)"
      ],
      "execution_count": 13,
      "outputs": [
        {
          "output_type": "stream",
          "name": "stdout",
          "text": [
            "not correlationId in headers\n",
            "<Response [200]>\n"
          ]
        }
      ]
    },
    {
      "cell_type": "markdown",
      "metadata": {
        "id": "vHzGK7UViUD2"
      },
      "source": [
        "__Компоновщик (Composite) — это шаблон, который позволяет сгруппировать множество объектов в дерево, а затем работать с ней, как с единым объектом.__"
      ]
    },
    {
      "cell_type": "markdown",
      "metadata": {
        "id": "SuQO1Pi1iYNH"
      },
      "source": [
        "Пример: при разработке программы под Windows / Mac с GUI, графический интерфейс можно представить в виде дерева, который с помощью компоновщика можно собрать в единое целое."
      ]
    },
    {
      "cell_type": "code",
      "metadata": {
        "id": "JrHWcnowhiu2"
      },
      "source": [
        "from abc import ABC, abstractmethod\n",
        "\n",
        "class GUIAbstractComponent(ABC):\n",
        "  \"\"\"\n",
        "  Базовый класс абстрактный компонент GUI интерфейса \n",
        "  \"\"\"\n",
        "  @property\n",
        "  def parent(self):\n",
        "    return self._parent\n",
        "  @parent.setter\n",
        "  def parent(self, parent):\n",
        "    self._parent = parent\n",
        "  def add(self, component):\n",
        "    pass\n",
        "  def remove(self, component):\n",
        "    pass\n",
        "  @abstractmethod\n",
        "  def action(self):\n",
        "    pass\n",
        "\n",
        "class Button(GUIAbstractComponent):\n",
        "  \"\"\"\n",
        "  Не имеет вложенных компонентов, выполняет действия.\n",
        "  \"\"\"\n",
        "  def action(self):\n",
        "    return \"Button\"\n",
        "\n",
        "class EditBox(GUIAbstractComponent):\n",
        "  def action(self):\n",
        "    return \"Leaf\"\n",
        "\n",
        "class Window(GUIAbstractComponent):\n",
        "  \"\"\"\n",
        "  Контейнер, который содержить в себе более простые объекты\n",
        "  \"\"\"\n",
        "  def __init__(self):\n",
        "    self._children = []\n",
        "  def add(self, component):\n",
        "    self._children.append(component)\n",
        "    component.parent = self\n",
        "  def remove(self, component):\n",
        "    self._cheldren.remove(component)\n",
        "    component.parent = None\n",
        "  def is_composite(self):\n",
        "    return True\n",
        "  def action(self):\n",
        "    \"\"\"\n",
        "    Контейнер проходится по своим детям и вызывает у них\n",
        "    действия, суммирует и отдает результат.\n",
        "    Таким образом, можно организовать перерисовку\n",
        "    всех компонентов в GUI.\n",
        "    \"\"\"\n",
        "    results = []\n",
        "    for child in self._children:\n",
        "      results.append(child.action())\n",
        "    return f\"Branch({'+'.join(results)})\"\n",
        "\n",
        "if __name__ == \"__main__\":\n",
        "  window = Window()\n",
        "  window.add(Button())\n",
        "  branch1.add(EditBox())"
      ],
      "execution_count": 17,
      "outputs": []
    },
    {
      "cell_type": "markdown",
      "metadata": {
        "id": "6n0_fpHDlsXR"
      },
      "source": [
        "__Заместитель (Proxy) — это шаблон, который позволяет вместо реальных объектов передать «заместителей», которые позволяют перехватить обращение и выполнить действие до и после вызова.__"
      ]
    },
    {
      "cell_type": "markdown",
      "metadata": {
        "id": "T4vbk5H7lx3i"
      },
      "source": [
        "Пример: вы используете библиотеку, которая реализовала доступ какому-нибудь ресурсу вашей сети, но в ней нет проверки на доступность этого ресурса. Вместо переписывания своего кода можно заменить объект класса из библиотеки собственным классом-заместителем, который реализует тот же самый метод, но перед этим собственными силами проверяет доступность ресурса в сети."
      ]
    },
    {
      "cell_type": "code",
      "metadata": {
        "id": "Aulmyll3lIBC"
      },
      "source": [
        "class LocalWeb():\n",
        "  def request(self):\n",
        "    print(\"request to locacweb\")\n",
        "  \n",
        "class Proxy(LocalWeb):\n",
        "  \"\"\"\n",
        "  Наследник от класса из библиотеки\n",
        "  \"\"\"\n",
        "  def __init__(self, local_web):\n",
        "    self._local_web = local_web\n",
        "  def request(self):\n",
        "    if self.check.access():\n",
        "      self._local_web.request()\n",
        "  def check_access(self) -> bool:\n",
        "    return True"
      ],
      "execution_count": 18,
      "outputs": []
    }
  ]
}