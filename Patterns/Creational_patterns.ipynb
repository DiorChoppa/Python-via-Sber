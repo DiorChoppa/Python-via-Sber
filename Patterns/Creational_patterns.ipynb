{
  "nbformat": 4,
  "nbformat_minor": 0,
  "metadata": {
    "colab": {
      "name": "Creational-patterns.ipynb",
      "provenance": []
    },
    "kernelspec": {
      "name": "python3",
      "display_name": "Python 3"
    },
    "language_info": {
      "name": "python"
    }
  },
  "cells": [
    {
      "cell_type": "markdown",
      "metadata": {
        "id": "sQ_bESf68wLp"
      },
      "source": [
        "#Порождающие шаблоны\n"
      ]
    },
    {
      "cell_type": "markdown",
      "metadata": {
        "id": "nnk0u_MY8skR"
      },
      "source": [
        "__Одиночка (Singleton) — это шаблон, гарантирующий единственный объект класса и предоставляющий к нему глобальную точку доступа.__"
      ]
    },
    {
      "cell_type": "markdown",
      "metadata": {
        "id": "s1Ye0vPN81lj"
      },
      "source": [
        "Один из самых известных паттернов, который необходимо применять с осторожностью, т.к. множество подключенных одиночек в проекте вызывают сильную связанность в коде, осложняют написание unit-тестов, будущий рефакторинг.\n",
        "\n",
        "Пример: единственное подключение к базе данных в проекте при использовании многопоточности."
      ]
    },
    {
      "cell_type": "code",
      "metadata": {
        "id": "F4G0OZ7D6GmN"
      },
      "source": [
        "from __future__ import annotations\n",
        "from typing import Optional\n",
        "\n",
        "class SingletonMeta(type):\n",
        "  _instance = None\n",
        "  def __call__(self):\n",
        "    if self._instance is None:\n",
        "      self_instance = super().__call__()\n",
        "    return self._instance\n",
        "\n",
        "class Singleton(metaclass=SingletonMeta):\n",
        "  def some_logic(self):\n",
        "    pass"
      ],
      "execution_count": 1,
      "outputs": []
    },
    {
      "cell_type": "markdown",
      "metadata": {
        "id": "QL28TmFm99ln"
      },
      "source": [
        "__Абстрактная фабрика (Abstract Factory) — это шаблон, позволяющий создавать семейство связанных объектов, отвязавшись от классов конкретных объектов.__"
      ]
    },
    {
      "cell_type": "markdown",
      "metadata": {
        "id": "nf2V6nfLAr3U"
      },
      "source": [
        "Пример: при проектировании интернет-магазина существуют категории, а в них уже конкретные варианты. В этом случае абстрактная фабрика позволяет описать создание категорий, а объекты категорий, в свою очередь, будут создавать конкретные товары."
      ]
    },
    {
      "cell_type": "code",
      "metadata": {
        "colab": {
          "base_uri": "https://localhost:8080/"
        },
        "id": "hwKVJ9569sAT",
        "outputId": "147d52f9-f0db-4fb2-a259-159f7aebcf5d"
      },
      "source": [
        "from __future__ import annotations\n",
        "from abc import ABC, abstractmethod\n",
        "\n",
        "class AbstractFactory(ABC):\n",
        "  \"\"\"\n",
        "  Интерфейс Абстрактной Фабрики объявляет набор методов,\n",
        "  которые возвращают различные абстрактные продукты\n",
        "  \"\"\"\n",
        "  @abstractmethod\n",
        "  def create_product(self):\n",
        "    pass\n",
        "\n",
        "  @abstractmethod\n",
        "  def create_provider(self):\n",
        "    pass\n",
        "\n",
        "class TeaFactory(AbstractFactory):\n",
        "  \"\"\"\n",
        "  Конкретная Фабрика, которая создает объекты чая\n",
        "  \"\"\"\n",
        "  def create_product(self):\n",
        "    return TeaProduct()\n",
        "  def create_provider(self):\n",
        "    return TeaProvider()\n",
        "\n",
        "class CoffeeFactory(AbstractFactory):\n",
        "  \"\"\"\n",
        "  Конкретная Фабрика, которая создает объекты кофе\n",
        "  \"\"\"\n",
        "  def create_product(self):\n",
        "    return CoffeeProduct()\n",
        "  def create_provider(self):\n",
        "    return CoffeeProvider()\n",
        "\n",
        "class AbstractProduct(ABC):\n",
        "  \"\"\"\n",
        "  Каждый отдельный продукт интернет магазина\n",
        "  \"\"\"\n",
        "  @abstractmethod\n",
        "  def some_ft(self):\n",
        "    pass\n",
        "\n",
        "class TeaProduct(AbstractProduct):\n",
        "  def some_ft(self):\n",
        "    return \"I am tea\"\n",
        "\n",
        "class CoffeeProduct(AbstractProduct):\n",
        "  def some_ft(self):\n",
        "    return \"I am coffee\"\n",
        "\n",
        "class AbstractProvider(ABC):\n",
        "  \"\"\"\n",
        "  Каждый отдельный поставщик интернет-магазина\n",
        "  \"\"\"\n",
        "  @abstractmethod\n",
        "  def country_list(self):\n",
        "    pass\n",
        "  \n",
        "class TeaProvider(AbstractProvider):\n",
        "  def country_list(self):\n",
        "    return [\"India\", \"China\"]\n",
        "\n",
        "  def some_business_logic():\n",
        "    product = TeaFactory.create_product(\"Tea\")\n",
        "    provider = TeaFactory.create_provider(\"Lipton\")\n",
        "    print(product.some_ft())\n",
        "    print(TeaProvider.country_list(\"Lipton\"))\n",
        "\n",
        "class CoffeeProvider(AbstractProvider):\n",
        "  def country_list(self):\n",
        "    return [\"Brazil\", \"Kenia\"]\n",
        "\n",
        "  def some_business_logic():\n",
        "    product = CoffeeFactory.create_product(\"Coffee\")\n",
        "    provider = CoffeeFactory.create_provider(\"Jacobs Monarch\")\n",
        "    print(product.some_ft())\n",
        "    print(CoffeeProvider.country_list(\"Jacobs Monarch\"))\n",
        "\n",
        "if __name__ == \"__main__\":\n",
        "  TeaProvider.some_business_logic()\n",
        "  CoffeeProvider.some_business_logic()"
      ],
      "execution_count": 18,
      "outputs": [
        {
          "output_type": "stream",
          "name": "stdout",
          "text": [
            "I am tea\n",
            "['India', 'China']\n",
            "I am coffee\n",
            "['Brazil', 'Kenia']\n"
          ]
        }
      ]
    },
    {
      "cell_type": "markdown",
      "metadata": {
        "id": "7I9enjoQOydb"
      },
      "source": [
        "__Строитель (Builder) — шаблон, который позволяет создавать сложные объекты пошагово.__"
      ]
    },
    {
      "cell_type": "markdown",
      "metadata": {
        "id": "dJYzrEOIO77z"
      },
      "source": [
        "Пример: при разработке ПО для строительной компании может понадобиться создать прототип дома. Нужно выбрать материал корпуса, фундаменты, цветы стен и т.д. Получим объект типа дом, который состоит из набора более небольших объектов. Чтобы более гибко контролировать процесс создания объекта дома, можно выделить его в отдельный класс __HouseBuilder__."
      ]
    },
    {
      "cell_type": "code",
      "metadata": {
        "id": "hm1vfy_gEDJU"
      },
      "source": [
        "from abc import ABC, abstractmethod, abstractproperty\n",
        "\n",
        "class AbstractBuilder(ABC):\n",
        "  \"\"\"\n",
        "  Абстрактный класс Строителя\n",
        "  \"\"\"\n",
        "  @abstractproperty\n",
        "  def product(self):\n",
        "    pass\n",
        "  @abstractmethod\n",
        "  def build_part1(self):\n",
        "    pass\n",
        "  @abstractmethod\n",
        "  def build_part2(self):\n",
        "    pass\n",
        "  @abstractmethod\n",
        "  def build_part3(self):\n",
        "    pass\n",
        "\n",
        "class HouseBuilder(AbstractBuilder):\n",
        "  def __init__(self):\n",
        "    self.reset()\n",
        "  def reset(self):\n",
        "    self._house = House()\n",
        "  @property\n",
        "  def product(self):\n",
        "    # Получить экземпляр объекта\n",
        "    house = self._house\n",
        "    self.reset()\n",
        "    return house\n",
        "  def build_part1(self):\n",
        "    self._house.add(\"Walls\")\n",
        "  def build_part2(self):\n",
        "    self._house.add(\"Roof\")\n",
        "  def build_part3(self):\n",
        "    self._house.add(\"Flat\")\n",
        "\n",
        "class House():\n",
        "  def __init__(self):\n",
        "    self.parts = []\n",
        "  def add(self, part):\n",
        "    self.parts.append(part)\n",
        "  def list_parts(self):\n",
        "    print(self.parts)\n",
        "\n",
        "class Director:\n",
        "  \"\"\"\n",
        "  Опциональный класс, который управляет этапами строительства. \n",
        "  Обычно данный функционал достаточно выполнить в других\n",
        "  классах / функциях, когда нужно создать объект.\n",
        "  Применяется, если есть несколько строителей, которые создают\n",
        "  разные сложные объекты, объединенные общей логикой.\n",
        "  \"\"\"\n",
        "  def __init__(self):\n",
        "    self._builder = None\n",
        "  @property\n",
        "  def builder(self):\n",
        "    return self._builder\n",
        "  @builder.setter\n",
        "  def builder(self, builder):\n",
        "    self._builder = builder\n",
        "  def build_product(self):\n",
        "    self.builder.build_part1\n",
        "    self.builder.build_part2\n",
        "    self.builder.build_part3"
      ],
      "execution_count": 19,
      "outputs": []
    },
    {
      "cell_type": "markdown",
      "metadata": {
        "id": "XpjGITOnUZ_Z"
      },
      "source": [
        "__Фабрика (Factory) — это шаблон, который позволяет создавать объекты класса, не раскрывая логики создания объектов.__"
      ]
    },
    {
      "cell_type": "code",
      "metadata": {
        "colab": {
          "base_uri": "https://localhost:8080/"
        },
        "id": "caSS-y15Ua2p",
        "outputId": "186d141c-41c2-471b-8e75-4805028ca806"
      },
      "source": [
        "from abc import ABCMeta, abstractmethod\n",
        "\n",
        "class Worker(metaclass=ABCMeta):\n",
        "  @abstractmethod\n",
        "  def who_i_am(self):\n",
        "    pass\n",
        "\n",
        "class SimpleWorker(Worker):\n",
        "  def who_i_am(self):\n",
        "    print(\"I am simple worker\")\n",
        "\n",
        "class Developer(Worker):\n",
        "  def who_i_am(self):\n",
        "    print(\"Developer is here\")\n",
        "\n",
        "class DevOpsMan(Worker):\n",
        "  def who_i_am(self):\n",
        "    print(\"DevOps is here\")\n",
        "\n",
        "class WorkersFactory:\n",
        "  registered_workers = {\n",
        "      None: SimpleWorker,\n",
        "      \"developer\": Developer,\n",
        "      \"dev_ops\": DevOpsMan\n",
        "  }\n",
        "  @classmethod\n",
        "  def create_worker(cls, worker_type=None):\n",
        "    worker_cls = cls.registered_workers[worker_type]\n",
        "    return worker_cls()\n",
        "\n",
        "if __name__ == \"__main__\":\n",
        "  w1 = WorkersFactory.create_worker()\n",
        "  w1.who_i_am()\n",
        "  w2 = WorkersFactory.create_worker(\"developer\")\n",
        "  w2.who_i_am()"
      ],
      "execution_count": 21,
      "outputs": [
        {
          "output_type": "stream",
          "name": "stdout",
          "text": [
            "I am simple worker\n",
            "Developer is here\n"
          ]
        }
      ]
    }
  ]
}