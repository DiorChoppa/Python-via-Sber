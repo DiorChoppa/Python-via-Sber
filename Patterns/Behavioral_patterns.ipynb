{
  "nbformat": 4,
  "nbformat_minor": 0,
  "metadata": {
    "colab": {
      "name": "Behaviour-patterns.ipynb",
      "provenance": []
    },
    "kernelspec": {
      "name": "python3",
      "display_name": "Python 3"
    },
    "language_info": {
      "name": "python"
    }
  },
  "cells": [
    {
      "cell_type": "markdown",
      "metadata": {
        "id": "kzyXrdPOdJ3m"
      },
      "source": [
        "#Поведенческие шаблоны"
      ]
    },
    {
      "cell_type": "markdown",
      "metadata": {
        "id": "r03iXaX8c19F"
      },
      "source": [
        "__Шаблоны проектирования — это типовое решение проблемы, которая может возникнуть в результате проектирования архитектуры проекта.__"
      ]
    },
    {
      "cell_type": "markdown",
      "metadata": {
        "id": "JKanlgYEc151"
      },
      "source": [
        "Особенностью шаблонов является общая концепция работы, которую нужно индивидуально применить к конкретному случаю.\n",
        "\n",
        "Написание вашего приложения с помощью шаблонов проектирования позволит повысить качество кода, его читабельность, расширяемость и переносимость. Проект, больше 70% которого можно разложить на шаблоны, как правило, имеет высокие показатели качества.\n",
        "\n",
        "Различают несколько видов шаблонов:\n",
        "\n",
        "__Поведенческие шаблоны__ — это шаблоны для эффективной коммуникации между объектами. К ним относят шаблоны: Стратегия (Strategy), Наблюдатель (Observer), Команда (Command), Состояние (State).\n",
        "\n",
        "__Порождающие шаблоны__ — это шаблоны для гибкого создания объектов без лишних зависимостей. К ним относят шаблоны: Одиночка (Singletone), Абстрактная фабрика (Abstract Factory), Строитель (Builder), Фабрика (Factory).\n",
        "\n",
        "__Структурные шаблоны__ — это шаблоны для построения различных связей между объектами. К ним относят шаблоны: Декоратор (Decorator), Фасад (Facade), Заместитель (Proxy), Адаптер (Adapter), Компоновщик (Composite)."
      ]
    },
    {
      "cell_type": "markdown",
      "metadata": {
        "id": "UqmJJ-GSc12y"
      },
      "source": [
        "__Стратегия (Strategy) — это шаблон, позволяющий вынести схожие алгоритмы во взаимозаменяемые собственные классы, которые меняют поведение системы во время исполнения программы.__"
      ]
    },
    {
      "cell_type": "markdown",
      "metadata": {
        "id": "Cr5UR1H4dacN"
      },
      "source": [
        "Пример: при разработке системы кратчайшего пути для курьера можно сделать семейство алгоритмов, которое вычисляет кратчайший путь в зависимости от транспортных средств курьера: пешком, на авто, на велосипеде."
      ]
    },
    {
      "cell_type": "code",
      "metadata": {
        "id": "OmdJjPzyc904"
      },
      "source": [
        "from abc import ABC, abstractmethod\n",
        "class Strategy(ABC):\n",
        "  \"\"\"\n",
        "  Абстрактный класс для стратегии\n",
        "  \"\"\"\n",
        "  @abstractmethod\n",
        "  def calc_effective_path(self, data):\n",
        "    pass\n",
        "\n",
        "class AutoStrategy(Strategy):\n",
        "  \"\"\"\n",
        "  Стратегия для курьера на авто\n",
        "  \"\"\"\n",
        "  def calc_effective_path(self, data):\n",
        "    #calc path\n",
        "    return data\n",
        "\n",
        "class BikeStrategy(Strategy):\n",
        "  \"\"\"\n",
        "  Стратегия для курьера на велосипеде\n",
        "  \"\"\"\n",
        "  def calc_effective_path(self, data):\n",
        "    #calc data\n",
        "    return data\n",
        "\n",
        "class Courier():\n",
        "  def __init__(self, strategy : Strategy) -> None:\n",
        "    \"\"\"\n",
        "    Принимает Стратегию в качестве параметра\n",
        "    \"\"\"\n",
        "    self._strategy = strategy\n",
        "  @property\n",
        "  def strategy(self) -> Strategy:\n",
        "    \"\"\"\n",
        "    Доступ из кода\n",
        "    \"\"\"\n",
        "    return self._strategy\n",
        "  @strategy.setter\n",
        "  def strategy(self, strategy: Strategy) -> None:\n",
        "    \"\"\"\n",
        "    Установка новой стратегии\n",
        "    \"\"\"\n",
        "    self_.strategy = strategy\n",
        "\n",
        "  def get_effective_path(self, data) -> None:\n",
        "    \"\"\"\n",
        "    Расчитать эффективный путь для курьера\n",
        "    \"\"\"\n",
        "    return self._strategy.calc_effective_path(data)"
      ],
      "execution_count": 4,
      "outputs": []
    },
    {
      "cell_type": "markdown",
      "metadata": {
        "id": "beFfjZUlwn_7"
      },
      "source": [
        "__Наблюдатель (Observer) — это шаблон, позволяющий одним объектам следить и реагировать на события других объектов.__\n",
        "\n",
        "Пример: при выборе товара из интернет-магазина можно увидеть, что если товара нет на текущий момент в наличие, то можно подписаться на уведомление о том, что когда он появится, будет выслано письмо на e-mail. "
      ]
    },
    {
      "cell_type": "code",
      "metadata": {
        "id": "UqJ9J_LQdhgf"
      },
      "source": [
        "from abc import ABC, abstractmethod\n",
        "\n",
        "class ShopList():\n",
        "  # Класс, реализующий список покупок\n",
        "  def __init__(self):\n",
        "    self._observers = [] # список подписчиков\n",
        "\n",
        "  def attach(self, observer):\n",
        "    self._observers.append(observer)\n",
        "\n",
        "  def detach(self, observer):\n",
        "    self._observers.remove(observer)\n",
        "\n",
        "  # Оповещение подписчиков об изменении\n",
        "  def notify(self) -> None:\n",
        "    for observer in self._observers:\n",
        "      observer.updte(self)\n",
        "\n",
        "  def business_logic(self) -> None:\n",
        "    \"\"\"\n",
        "    Какая-то бизнес логика\n",
        "    \"\"\"\n",
        "    self.notify()\n",
        "\n",
        "class Observer(ABC):\n",
        "  # Абстрактный класс наблюдателя\n",
        "  @abstractmethod\n",
        "  def update(self, shop_list_obj) -> None:\n",
        "    pass\n",
        "\n",
        "class EmailObserver(Observer):\n",
        "  def update(self, shop_list_obg):\n",
        "    pass"
      ],
      "execution_count": 2,
      "outputs": []
    },
    {
      "cell_type": "markdown",
      "metadata": {
        "id": "rjliL1wvy-io"
      },
      "source": [
        "__Команда (Command) — это шаблон, который преобразует запросы в объекты.__\n",
        "\n",
        "Пример: В консоли пользователь вызывает программу и передает ей на вход команду; из текстового вида она преобразуется в объект, выполнение ее способствует выполнению кода, который реализует необходимую бизнес-логику."
      ]
    },
    {
      "cell_type": "code",
      "metadata": {
        "id": "yjDf186Ky8wt"
      },
      "source": [
        "from __future__ import annotations\n",
        "from abc import ABC, abstractmethod\n",
        "\n",
        "class Command(ABC):\n",
        "  \"\"\"\n",
        "  Абстрактный класс команды\n",
        "  \"\"\"\n",
        "  @abstractmethod\n",
        "  def execute(self):\n",
        "    pass\n",
        "  \n",
        "class PrintCommand(Command):\n",
        "  def execute(self):\n",
        "    print(\"wohoo\")\n",
        "\n",
        "class CreateFileCommand(Command):\n",
        "  def __init__(self, fname):\n",
        "    self._fname = fname\n",
        "\n",
        "    def execute(self) -> None:\n",
        "      f = open(self.fname, \"w+\")\n",
        "      f.close()\n",
        "\n",
        "class CommandManager:\n",
        "  \"\"\"\n",
        "  Инициализация команд\n",
        "  \"\"\"\n",
        "  def start_command(self, command: Command):\n",
        "    self._start_command = command\n",
        "\n",
        "  def stop_command(self, command: Command):\n",
        "    self._stop_command = command\n",
        "  \n",
        "  def do_smth(self) -> None:\n",
        "    \"\"\"\n",
        "    Выполнение полезных действий с командами\n",
        "    \"\"\"\n",
        "    pass"
      ],
      "execution_count": 4,
      "outputs": []
    },
    {
      "cell_type": "markdown",
      "metadata": {
        "id": "_7IlBmVQ3R9-"
      },
      "source": [
        "__Состояние (State) — это шаблон, позволяющий менять поведение объектов в зависимости от своего состояния.__\n",
        "\n",
        "Поведения, которые зависят от состояния, выносятся в отдельный класс; первоначальный класс хранит ссылку на объекты классов-поведений.\n",
        "\n",
        "Пример: при разработке приложения для телефона, в случае отсутствия интернета, приложение посылает код для смены пароля от учетной записи через sms; если интернет подключен, то отправляет код через push-уведомление."
      ]
    },
    {
      "cell_type": "code",
      "metadata": {
        "id": "p9zNlrpZ3N_o"
      },
      "source": [
        "from __future__ import annotations\n",
        "from abc import ABC, abstractmethod\n",
        "\n",
        "class ContextHandler(ABC):\n",
        "  \"\"\"\n",
        "  Реализация бизнес логики и хранение ссылок на состояния\n",
        "  \"\"\"\n",
        "  def __init__(self, state):\n",
        "    self._state = state\n",
        "\n",
        "  def set_state(self, state: State):\n",
        "    self._state = state\n",
        "    self._state.context = self\n",
        "\n",
        "  def send_request(self):\n",
        "    self._state.handle()\n",
        "\n",
        "class State(ABC):\n",
        "  \"\"\"\n",
        "  Базовый класс состояния\n",
        "  \"\"\"\n",
        "  @property\n",
        "  def context(self):\n",
        "    return self._context\n",
        "\n",
        "  @context.setter\n",
        "  def context(self, context):\n",
        "    self._context = context\n",
        "\n",
        "  @abstractmethod\n",
        "  def handle(self) -> None:\n",
        "    pass\n",
        "\n",
        "class SmsState(State):\n",
        "\n",
        "  def send_sms(self, text):\n",
        "    pass\n",
        "  \n",
        "  def handle(self) -> None:\n",
        "    self.send_sms(\"test\")\n",
        "\n",
        "class PushState(State):\n",
        "  def send_push(self, text):\n",
        "    self.send_push(\"test\")\n",
        "\n",
        "  def handle(self) -> None:\n",
        "    self.send_push(\"test\")"
      ],
      "execution_count": 6,
      "outputs": []
    }
  ]
}
