{
  "nbformat": 4,
  "nbformat_minor": 0,
  "metadata": {
    "colab": {
      "name": "iterators.ipynb",
      "provenance": []
    },
    "kernelspec": {
      "name": "python3",
      "display_name": "Python 3"
    },
    "language_info": {
      "name": "python"
    }
  },
  "cells": [
    {
      "cell_type": "markdown",
      "metadata": {
        "id": "UI6FVsPMG2RL"
      },
      "source": [
        "#Итераторы"
      ]
    },
    {
      "cell_type": "markdown",
      "metadata": {
        "id": "MpgraRBuHGpB"
      },
      "source": [
        "В первую очередь, итератор — это паттерн, позволяющий получить доступ к элементам объекта-агрегатора без использования описаний каждого из агрегированных объектов.\n",
        "\n",
        "Основное назначение итераторов — это упрощение навигации по элементам объекта, в основе которых обычно лежит список, словарь, кортеж и т.д.\n",
        "\n",
        "В Python итератор - это объект, который для данного элемента возвращает следующий элемент либо вызывает исключение, если элементов больше нет.\n",
        "\n",
        "Основное применение итераторов в Python — это цикл __for__, который неявно для разработчика вызывает методы прохода по элементам объекта.\n",
        "\n",
        "Пример цикла __for__:"
      ]
    },
    {
      "cell_type": "code",
      "metadata": {
        "colab": {
          "base_uri": "https://localhost:8080/"
        },
        "id": "0Mey2Z1yGxvL",
        "outputId": "47c76656-29e3-40c0-ddb5-23582ddcfb68"
      },
      "source": [
        "num_list = [1, 2, 3, 4, 5]\n",
        "for i in num_list:\n",
        "  print(i)"
      ],
      "execution_count": 1,
      "outputs": [
        {
          "output_type": "stream",
          "name": "stdout",
          "text": [
            "1\n",
            "2\n",
            "3\n",
            "4\n",
            "5\n"
          ]
        }
      ]
    },
    {
      "cell_type": "markdown",
      "metadata": {
        "id": "voxpihqMHUIM"
      },
      "source": [
        "Воспользовавшись функцией iter(), можно получить объект итератора, а с помощью функции next() пройтись по элементам."
      ]
    },
    {
      "cell_type": "code",
      "metadata": {
        "colab": {
          "base_uri": "https://localhost:8080/"
        },
        "id": "RxD3lrPzHPhC",
        "outputId": "d665b6a0-88ef-44d3-a6df-6839e7a00ea1"
      },
      "source": [
        "itr = iter(num_list)\n",
        "print(itr)\n",
        "print(next(itr))"
      ],
      "execution_count": 4,
      "outputs": [
        {
          "output_type": "stream",
          "name": "stdout",
          "text": [
            "<list_iterator object at 0x7fe6c822d450>\n",
            "1\n"
          ]
        }
      ]
    },
    {
      "cell_type": "code",
      "metadata": {
        "colab": {
          "base_uri": "https://localhost:8080/",
          "height": 266
        },
        "id": "DO1yb3oZHczG",
        "outputId": "81b07bad-6a6c-4c96-9983-c871641d8a7c"
      },
      "source": [
        "print(next(itr))\n",
        "print(next(itr))\n",
        "print(next(itr))\n",
        "print(next(itr))\n",
        "print(next(itr))"
      ],
      "execution_count": 6,
      "outputs": [
        {
          "output_type": "stream",
          "name": "stdout",
          "text": [
            "2\n",
            "3\n",
            "4\n",
            "5\n"
          ]
        },
        {
          "output_type": "error",
          "ename": "StopIteration",
          "evalue": "ignored",
          "traceback": [
            "\u001b[0;31m---------------------------------------------------------------------------\u001b[0m",
            "\u001b[0;31mStopIteration\u001b[0m                             Traceback (most recent call last)",
            "\u001b[0;32m<ipython-input-6-9872f3bc26c2>\u001b[0m in \u001b[0;36m<module>\u001b[0;34m()\u001b[0m\n\u001b[1;32m      3\u001b[0m \u001b[0mprint\u001b[0m\u001b[0;34m(\u001b[0m\u001b[0mnext\u001b[0m\u001b[0;34m(\u001b[0m\u001b[0mitr\u001b[0m\u001b[0;34m)\u001b[0m\u001b[0;34m)\u001b[0m\u001b[0;34m\u001b[0m\u001b[0;34m\u001b[0m\u001b[0m\n\u001b[1;32m      4\u001b[0m \u001b[0mprint\u001b[0m\u001b[0;34m(\u001b[0m\u001b[0mnext\u001b[0m\u001b[0;34m(\u001b[0m\u001b[0mitr\u001b[0m\u001b[0;34m)\u001b[0m\u001b[0;34m)\u001b[0m\u001b[0;34m\u001b[0m\u001b[0;34m\u001b[0m\u001b[0m\n\u001b[0;32m----> 5\u001b[0;31m \u001b[0mprint\u001b[0m\u001b[0;34m(\u001b[0m\u001b[0mnext\u001b[0m\u001b[0;34m(\u001b[0m\u001b[0mitr\u001b[0m\u001b[0;34m)\u001b[0m\u001b[0;34m)\u001b[0m\u001b[0;34m\u001b[0m\u001b[0;34m\u001b[0m\u001b[0m\n\u001b[0m",
            "\u001b[0;31mStopIteration\u001b[0m: "
          ]
        }
      ]
    },
    {
      "cell_type": "markdown",
      "metadata": {
        "id": "cSKIKz-1H5sO"
      },
      "source": [
        "При разработке пользовательских классов, поведение итераторов позволяет реализовать магические методы __\\_\\_iter\\_\\_()__ и __\\_\\_next__()__.\n",
        "\n",
        "Метод __\\_\\_iter\\_\\_()__ нужен, чтобы с объектом класса мог работать цикл for.\n",
        "\n",
        "Метод __\\_\\_next\\_\\_()__ возвращает новый элемент последовательности и генерирует __StopIteration__, если последовательность закончилась.\n",
        "\n",
        "Пример:"
      ]
    },
    {
      "cell_type": "code",
      "metadata": {
        "id": "0dpp_6GLHr2I"
      },
      "source": [
        "class SimpleIterator:\n",
        "  def __iter__(self):\n",
        "    return self\n",
        "  \n",
        "  def __init__(self, limit):\n",
        "    self.limit = limit\n",
        "    self.counter = 0\n",
        "  \n",
        "  def __next__(self):\n",
        "    if self.counter <= limit:\n",
        "      self.counter += 1\n",
        "      return 1\n",
        "    else:\n",
        "      raise StopIteration"
      ],
      "execution_count": 9,
      "outputs": []
    }
  ]
}