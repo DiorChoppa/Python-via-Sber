{
  "nbformat": 4,
  "nbformat_minor": 0,
  "metadata": {
    "colab": {
      "name": "Context-Manager.ipynb",
      "provenance": []
    },
    "kernelspec": {
      "name": "python3",
      "display_name": "Python 3"
    },
    "language_info": {
      "name": "python"
    }
  },
  "cells": [
    {
      "cell_type": "markdown",
      "metadata": {
        "id": "9w__bz70LuX1"
      },
      "source": [
        "#Менеджер контекста"
      ]
    },
    {
      "cell_type": "markdown",
      "metadata": {
        "id": "gNVTPNozLz68"
      },
      "source": [
        "Каждому разработчику в ходе своей работы приходилось использовать файлы для чтения / записи, работать с сокетами или http-соединением. Обычно это выглядит так:"
      ]
    },
    {
      "cell_type": "code",
      "metadata": {
        "id": "a-57JuutLkAy"
      },
      "source": [
        "f = open(\"test.txt\", \"w\")\n",
        "data = f.read()\n",
        "f.close()"
      ],
      "execution_count": 10,
      "outputs": []
    },
    {
      "cell_type": "markdown",
      "metadata": {
        "id": "D7zsz5NVMg6v"
      },
      "source": [
        "Для упрощения кода, когда нужно что-то «открыть», произвести логику, «закрыть», в Python реализовали синтаксический сахар — контекстные менеджеры.\n",
        "\n",
        "Менеджер контекста в Python — это объект класса, который реализует внутри себя магические методы __\\_\\_enter\\_\\_()__ и __\\_\\_exit\\_\\_()__, благодаря которым объект можно использовать с оператором __with__.\n",
        "\n",
        "Когда выполнение программы доходит до места с оператором with, вызывается метод __\\_\\_enter\\_\\_()__ объекта, обычно в нем реализуют логику подключения к БД, открытие соединения и т.д., после выполняется код внутри блока __with__, а в конце блок __\\_\\_exit\\_\\_()__.\n",
        "\n",
        "Так выглядит открытие файла с помощью контекстного менеджера и оператора with:"
      ]
    },
    {
      "cell_type": "code",
      "metadata": {
        "id": "trUgTrGzMACu"
      },
      "source": [
        "with open(\"test.txt\", \"w\") as f_obj:\n",
        "  f_obj.write(\"test\")"
      ],
      "execution_count": null,
      "outputs": []
    },
    {
      "cell_type": "markdown",
      "metadata": {
        "id": "uM74TIRPNORD"
      },
      "source": [
        "Добавить к классу поведение контекстного менеджера можно, реализовав методы __\\_\\_enter\\_\\_()__ и __\\_\\_exit\\_\\_()__. Рассмотрим класс для подключения к базе данных:"
      ]
    },
    {
      "cell_type": "code",
      "metadata": {
        "id": "eV5bf9HgNSZK"
      },
      "source": [
        "import sqlite3\n",
        "\n",
        "class DataConn:\n",
        "  def __init__(self, db_name):\n",
        "    \"\"\"Конструктор\"\"\"\n",
        "    self.db_name = db_name\n",
        "  def __enter__(self):\n",
        "    \"\"\"\n",
        "    Открываем подключение с базой данных\n",
        "    \"\"\"\n",
        "    self.conn = sqlite3.connect(self.df_name)\n",
        "    return self.conn\n",
        "  def __exit__(self, exc_type, exc_val, exc_tb):\n",
        "    \"\"\"\n",
        "    Закрываем подключение\n",
        "    \"\"\"\n",
        "    self.conn.close()\n",
        "    if exc_val:\n",
        "      raise"
      ],
      "execution_count": null,
      "outputs": []
    },
    {
      "cell_type": "markdown",
      "metadata": {
        "id": "C8v38P_yYmd6"
      },
      "source": [
        "Метод __\\_\\_exit\\_\\_()__ в отличие от __\\_\\_enter\\_\\_()__ принимает три аргумента — тип класса ошибки, значение ошибки и трассировка ошибки. Эти аргументы будут равны None, если внутри блока with не будет ошибок. \n",
        "\n",
        "Если __\\_\\_exit\\_\\_()__ вернет True, то в случае ошибки внутри блока with она не распространится дальше. Если вернет False, то ошибка распространится дальше, это свойство можно гибко использовать для случаев, когда произошедшая ошибка критична для данной системы."
      ]
    }
  ]
}