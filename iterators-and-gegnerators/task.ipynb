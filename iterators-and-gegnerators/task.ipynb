{
  "nbformat": 4,
  "nbformat_minor": 0,
  "metadata": {
    "colab": {
      "name": "task.ipynb",
      "provenance": []
    },
    "kernelspec": {
      "name": "python3",
      "display_name": "Python 3"
    },
    "language_info": {
      "name": "python"
    }
  },
  "cells": [
    {
      "cell_type": "markdown",
      "metadata": {
        "id": "Zuwa7S5oaPiH"
      },
      "source": [
        "Предлагаем в качестве практики реализовать собственную функцию range(), используя материал из данного модуля. Необходимо предусмотреть корректную работу функции при генерации значения как с положительным шагом, так и отрицательным, например:\n",
        "\n",
        "start = 0; stop = 5; step = 1 — вывод: 0,1,2,3,4\n",
        "\n",
        "start = 5;  stop = 0; step = -1 — вывод: 5,4,3,2,1\n",
        "\n",
        "Если введены некорректные значения, то предусмотреть правильную обработку и сообщение об этом."
      ]
    },
    {
      "cell_type": "code",
      "metadata": {
        "id": "3saZVYdMaNbL"
      },
      "source": [
        "class SimpleIterator:\n",
        "  def __iter__(self):\n",
        "    return self\n",
        "  \n",
        "  def __init__(self, limit):\n",
        "    self.limit = limit\n",
        "    self.counter = 0\n",
        "  \n",
        "  def __next__(self, step=1):\n",
        "    if self.counter <= limit:\n",
        "      self.counter += step\n",
        "      return 1\n",
        "    else:\n",
        "      raise StopIteration"
      ],
      "execution_count": 2,
      "outputs": []
    },
    {
      "cell_type": "code",
      "metadata": {
        "id": "_B-0j9pFbkF5"
      },
      "source": [
        "def ft_range(start, stop, step=1):\n",
        "  a = [start]\n",
        "  start += step\n",
        "  if step == 0:\n",
        "    return 0\n",
        "  if (start <= stop and step > 0):\n",
        "    while (start < stop):\n",
        "      a.append(start)\n",
        "      start += step\n",
        "  elif (start > stop and step < 0):\n",
        "    while (start > stop):\n",
        "      a.append(start)\n",
        "      start += step\n",
        "  else:\n",
        "    return \"Error\"\n",
        "  return a"
      ],
      "execution_count": 24,
      "outputs": []
    },
    {
      "cell_type": "code",
      "metadata": {
        "colab": {
          "base_uri": "https://localhost:8080/"
        },
        "id": "Yv3HFAomgRej",
        "outputId": "42fdd68c-c308-49f9-8f63-da701098e1c9"
      },
      "source": [
        "ft_range(5, 0, -1)"
      ],
      "execution_count": 26,
      "outputs": [
        {
          "output_type": "execute_result",
          "data": {
            "text/plain": [
              "[5, 4, 3, 2, 1]"
            ]
          },
          "metadata": {},
          "execution_count": 26
        }
      ]
    }
  ]
}