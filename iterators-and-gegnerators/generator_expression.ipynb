{
  "nbformat": 4,
  "nbformat_minor": 0,
  "metadata": {
    "colab": {
      "name": "generator-expression.ipynb",
      "provenance": []
    },
    "kernelspec": {
      "name": "python3",
      "display_name": "Python 3"
    },
    "language_info": {
      "name": "python"
    }
  },
  "cells": [
    {
      "cell_type": "markdown",
      "metadata": {
        "id": "cWC-SksEZQfh"
      },
      "source": [
        "#Генераторные выражения"
      ]
    },
    {
      "cell_type": "markdown",
      "metadata": {
        "id": "pyZCEUZFZTlL"
      },
      "source": [
        "В Python генераторные выражения (generator expression) — это синтаксический сахар для создания объекта-генератора без необходимости создания функции с yield внутри.\n",
        "\n",
        "Например:"
      ]
    },
    {
      "cell_type": "code",
      "metadata": {
        "colab": {
          "base_uri": "https://localhost:8080/"
        },
        "id": "PMSfwPljZL-w",
        "outputId": "dad62009-5e3f-4670-8b29-04538dd19305"
      },
      "source": [
        "a = (i for i in range(1000000))\n",
        "a"
      ],
      "execution_count": 3,
      "outputs": [
        {
          "output_type": "execute_result",
          "data": {
            "text/plain": [
              "<generator object <genexpr> at 0x7fdf236189d0>"
            ]
          },
          "metadata": {},
          "execution_count": 3
        }
      ]
    },
    {
      "cell_type": "markdown",
      "metadata": {
        "id": "CHmssjmGZo9G"
      },
      "source": [
        "создаст объект-генератор из функции range() и присвоит это переменной a.\n",
        "\n",
        "Синтаксисом они схожи с list comprehension, которые были рассмотрены в модуле про структуры данных."
      ]
    },
    {
      "cell_type": "code",
      "metadata": {
        "colab": {
          "base_uri": "https://localhost:8080/"
        },
        "id": "eybatZ11ZhLN",
        "outputId": "02e9d4fc-db74-4701-e402-37038bd36f3a"
      },
      "source": [
        "[i for i in range(11)]"
      ],
      "execution_count": 5,
      "outputs": [
        {
          "output_type": "execute_result",
          "data": {
            "text/plain": [
              "[0, 1, 2, 3, 4, 5, 6, 7, 8, 9, 10]"
            ]
          },
          "metadata": {},
          "execution_count": 5
        }
      ]
    },
    {
      "cell_type": "markdown",
      "metadata": {
        "id": "w1yP4CsMZ3lu"
      },
      "source": [
        "Они отличаются тем, что генераторное выражение не создаст в памяти сразу всю структуру, а будет каждый раз вычислять новый элемент. Тем временем, list comprehension сразу создаст всю структуру в памяти, что может отразиться в худшую сторону при работе вашей системы."
      ]
    }
  ]
}