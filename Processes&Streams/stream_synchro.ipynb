{
  "nbformat": 4,
  "nbformat_minor": 0,
  "metadata": {
    "colab": {
      "name": "stream-synchro.ipynb",
      "provenance": []
    },
    "kernelspec": {
      "name": "python3",
      "display_name": "Python 3"
    },
    "language_info": {
      "name": "python"
    }
  },
  "cells": [
    {
      "cell_type": "markdown",
      "metadata": {
        "id": "PCgha0scPWNs"
      },
      "source": [
        "#Примитивы синхронизации потоков"
      ]
    },
    {
      "cell_type": "markdown",
      "metadata": {
        "id": "coCxj_0TPWBP"
      },
      "source": [
        "Одной из особенностей при написании многопоточных программ является состояние гонки. Это состояние возникает, когда два или более потоков обращаются к общим ресурсам. \n",
        "\n",
        "Например, мы имеем базу данных, в одной из ячеек которой лежит число, допустим, 0. Запуская два потока одновременно через ThreadPoolExecutor, мы запускаем функцию, которая считывает число, увеличивает его на 1 и записывает в базу данных."
      ]
    },
    {
      "cell_type": "code",
      "metadata": {
        "id": "9wZda0H9PdSK"
      },
      "source": [
        "class DataBase:\n",
        "  def __init__(self):\n",
        "    self.value = 0\n",
        "\n",
        "  def update(self, name):\n",
        "    print(name, \" — start thread\")\n",
        "    local_copy = self.value\n",
        "    local_copy += 1\n",
        "    time.sleep(0.1)\n",
        "    self.value = local_copy\n",
        "    print(name, \" — finish thread\")"
      ],
      "execution_count": 2,
      "outputs": []
    },
    {
      "cell_type": "markdown",
      "metadata": {
        "id": "PH1cgcCDPV_H"
      },
      "source": [
        "Мы ожидаем, что первый поток запишет 1, а второй впоследствии увеличит 1 до 2. Но т.к. обращение происходит практически одновременно (вспомним GIL), в результате так и останется 1. Так как оба потока считают 0 в качестве исходных данных. \n",
        "\n",
        "Чтобы успешно разрешить состояние гонки, в Python добавлены примитивы синхронизации, которые многим могут быть знакомы из других языков программирования."
      ]
    },
    {
      "cell_type": "markdown",
      "metadata": {
        "id": "GylS2M_hP_mM"
      },
      "source": [
        "__Lock — это блокировка, которая может одновременно удерживаться только одним потоком.__"
      ]
    },
    {
      "cell_type": "markdown",
      "metadata": {
        "id": "R-yRlUWTQANa"
      },
      "source": [
        "Если другой поток хочет получить доступ к lock, который занял другой поток, то он будет вынужден ждать, пока занявший поток не отпустит блокировку."
      ]
    },
    {
      "cell_type": "code",
      "metadata": {
        "id": "HFrsF9A9POU8"
      },
      "source": [
        "import threading\n",
        "\n",
        "lock = threading.Lock()\n",
        "lock.acquire()  # Выполнить блокировку данного участка кода\n",
        "#Some coding#\n",
        "lock.release()"
      ],
      "execution_count": 5,
      "outputs": []
    },
    {
      "cell_type": "markdown",
      "metadata": {
        "id": "KFxybVWqQfFq"
      },
      "source": [
        "Что удобно, можно использовать контекстный менеджер и не беспокоиться о необходимости выполнять явную блокировку / разблокировку."
      ]
    },
    {
      "cell_type": "code",
      "metadata": {
        "id": "VW2jFl1CQIFx"
      },
      "source": [
        "with self._lock:\n",
        "  locl_copy = self.value\n",
        "  local_copy += 1\n",
        "  time.sleep(0.1)\n",
        "  self.value = local_copy"
      ],
      "execution_count": 6,
      "outputs": []
    },
    {
      "cell_type": "markdown",
      "metadata": {
        "id": "MgNkyEW_Q4el"
      },
      "source": [
        "Семафор чем-то похож на Lock с той лишь разницей, что в него встроен счетчик, который блокирует доступ в случае превышения числа потоков, которые удерживают семафор. "
      ]
    },
    {
      "cell_type": "code",
      "metadata": {
        "id": "nQQJ5Jo5QrVK"
      },
      "source": [
        "import threading\n",
        "\n",
        "max_connections = 10\n",
        "semaphore = threading.BoundedSemaphore(max_connections)\n",
        "semaphore.acquire() #уменьшает счетчик на 1\n",
        "\"\"\"Доступ к общим ресурсам\"\"\"\n",
        "semaphore.release()"
      ],
      "execution_count": null,
      "outputs": []
    },
    {
      "cell_type": "markdown",
      "metadata": {
        "id": "zURHG_M1RXiq"
      },
      "source": [
        "С каждым acquire() счетчик уменьшается, с release() — увеличивается, но когда счетчик равен 0, новый поток будет вынужден ждать, пока не освободится место для него.\n",
        "\n",
        "Так же во время разработки программы с многопоточностью удобно использовать модуль Queue, который реализует механизм очередей с поддержкой threadsafe. Это означает, что, используя очередь, можно безопасно обмениваться информацией между потоками."
      ]
    },
    {
      "cell_type": "code",
      "metadata": {
        "colab": {
          "base_uri": "https://localhost:8080/"
        },
        "id": "I0DhvX3wRXzq",
        "outputId": "8b26992d-2a7d-4847-a083-5f7b59e7d0d6"
      },
      "source": [
        "import threading\n",
        "import time\n",
        "from queue import Queue\n",
        "from threading import Thread\n",
        "\n",
        "num_threads = 2\n",
        "def do_work(item):\n",
        "  time.sleep(1)\n",
        "  print(\"My task is \", item, \" I am \", threading.current_thread())\n",
        "\n",
        "def worker():\n",
        "  while True:\n",
        "    item = q.get()\n",
        "    print(\"got task — \", item)\n",
        "    do_work(item)\n",
        "    q.task_done()\n",
        "\n",
        "q = Queue()\n",
        "for i in range(num_threads):\n",
        "  t = Thread(target=worker)\n",
        "  t.setDaemon(True)\n",
        "  t.start()\n",
        "\n",
        "for i in range(0, 5):\n",
        "  q.put(i)\n",
        "\n",
        "q.join()"
      ],
      "execution_count": 7,
      "outputs": [
        {
          "output_type": "stream",
          "name": "stdout",
          "text": [
            "got task —  got task —  1\n",
            "0\n",
            "My task is My task is  0  I am  <Thread(Thread-11, started daemon 139946279646976)>\n",
            "got task —  2\n",
            " 1  I am  <Thread(Thread-12, started daemon 139946226910976)>\n",
            "got task —  3\n",
            "My task is  2  I am  <Thread(Thread-11, started daemon 139946279646976)>\n",
            "got task —  4\n",
            "My task is  3  I am  <Thread(Thread-12, started daemon 139946226910976)>\n",
            "My task is  4  I am  <Thread(Thread-11, started daemon 139946279646976)>\n"
          ]
        }
      ]
    },
    {
      "cell_type": "code",
      "metadata": {
        "id": "Mv30GBtxTFjp"
      },
      "source": [
        "get task - 0\n",
        "get task - 1\n",
        "my task is 0 i am <Thread(Thread-1, started daemon 123145343508480)>\n",
        "get task - 2\n",
        "my task is 1 i am <Thread(Thread-2, started daemon 123145348763648)>\n",
        "get task - 3\n",
        "my task is 2 i am <Thread(Thread-1, started daemon 123145343508480)>\n",
        "get task - 4\n",
        "my task is 3 i am <Thread(Thread-2, started daemon 123145348763648)>\n",
        "my task is 4 i am <Thread(Thread-1, started daemon 123145343508480)>"
      ],
      "execution_count": null,
      "outputs": []
    },
    {
      "cell_type": "markdown",
      "metadata": {
        "id": "7biRzmbJTPjn"
      },
      "source": [
        "В данном примере мы запускаем несколько потоков, создаем очередь и помещаем в нее задания. Потоки, используя безопасный метод q.get(), получают задания и выполняют их. \n",
        "\n",
        "На таком примере можно легко реализовать собственный скрипт для скачивания сайтов по доступным urls или приложение, которое после обсчета некоторых данных отдаст задачу на добавление результатов в базу данных."
      ]
    }
  ]
}