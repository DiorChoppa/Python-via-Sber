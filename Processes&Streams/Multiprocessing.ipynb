{
  "nbformat": 4,
  "nbformat_minor": 0,
  "metadata": {
    "colab": {
      "name": "Multiprocessing.ipynb",
      "provenance": []
    },
    "kernelspec": {
      "name": "python3",
      "display_name": "Python 3"
    },
    "language_info": {
      "name": "python"
    }
  },
  "cells": [
    {
      "cell_type": "markdown",
      "metadata": {
        "id": "PufG0mhhTzTG"
      },
      "source": [
        "#Модуль multiprocessing"
      ]
    },
    {
      "cell_type": "markdown",
      "metadata": {
        "id": "AYUyxAcfT_U_"
      },
      "source": [
        "Модуль multiprocessing несет в себе возможность создавать процессы таким же образом, как и потоки из модуля threading. Таким образом, можно обойти GIL и получить настоящую параллельную работу. \n",
        "\n",
        "Рассмотрим на примере, как создать новый процесс:"
      ]
    },
    {
      "cell_type": "code",
      "metadata": {
        "colab": {
          "base_uri": "https://localhost:8080/"
        },
        "id": "gHHAXzm8TT7Q",
        "outputId": "9602e7cb-8614-4503-9f8c-cbf6d8cdd591"
      },
      "source": [
        "import os\n",
        "from multiprocessing import Process, current_process\n",
        "\n",
        "def foo(number):\n",
        "  p_name = current_process().name\n",
        "  print(\"{0} : {1}\".format(number, p_name))\n",
        "\n",
        "if __name__ == '__main__':\n",
        "  random_numbers = [5, 10, 15, 20, 25]\n",
        "  p_list = []\n",
        "  proc = Process(target=foo, args=(5,))\n",
        "  for i, number in enumerate(random_numbers):\n",
        "    proc = Process(target=foo, args=(number,))\n",
        "    p_list.append(proc)\n",
        "    proc.start()\n",
        "  proc = Process(target=foo, name=\"test\", args=(2,))\n",
        "  proc.start()\n",
        "  p_list.append(proc)\n",
        "  for p in p_list:\n",
        "    p.join()"
      ],
      "execution_count": 6,
      "outputs": [
        {
          "output_type": "stream",
          "name": "stdout",
          "text": [
            "5 : Process-17\n",
            "10 : Process-18\n",
            "15 : Process-19\n",
            "20 : Process-20\n",
            "25 : Process-21\n",
            "2 : test\n"
          ]
        }
      ]
    },
    {
      "cell_type": "markdown",
      "metadata": {
        "id": "8piTS2FqVcX8"
      },
      "source": [
        "Тут мы создаем новый процесс, используя класс Process, стартуем его и в цикле for говорим главному процессу Python подождать, пока не завершатся все дочерние процессы, созданные ранее.\n",
        "\n",
        "Класс Process в качестве аргументов принимает:\n",
        "\n",
        "1. Target — функцию, которая будет выполняться при запуске процесса.\n",
        "2. Name — имя процесса, доступного через функцию current_process().\n",
        "3. args — аргументы для функции target().\n",
        "\n",
        "Также, как и с потоками, процессы поддерживают Lock для блокировки доступа к ресурсам."
      ]
    },
    {
      "cell_type": "code",
      "metadata": {
        "colab": {
          "base_uri": "https://localhost:8080/"
        },
        "id": "Ic2SiuUBUH_Y",
        "outputId": "99fb3120-6caf-4f9a-a6f3-36d2af236811"
      },
      "source": [
        "from multiprocessing import Process, Lock, current_process\n",
        "\n",
        "def printf(item, lock):\n",
        "  lock.acquire()\n",
        "  try:\n",
        "    print(item, current_process())\n",
        "  finally:\n",
        "    lock.release()\n",
        "\n",
        "if __name__ == \"__main__\":\n",
        "  lock = Lock()\n",
        "  items = ['test1', 'test2', 'test3']\n",
        "  for i in items:\n",
        "    p = Process(target=printf, args=(i, lock))\n",
        "    p.start()"
      ],
      "execution_count": 7,
      "outputs": [
        {
          "output_type": "stream",
          "name": "stdout",
          "text": [
            "test1 <Process(Process-23, started)>\n",
            "test2 <Process(Process-24, started)>\n",
            "test3 <Process(Process-25, started)>\n"
          ]
        }
      ]
    },
    {
      "cell_type": "markdown",
      "metadata": {
        "id": "VZWgjEO8WgyX"
      },
      "source": [
        "По примеру можем видеть, что, благодаря Lock, процессы работают с функцией по очереди.\n",
        "\n",
        "Аналогом ThreadPoolExecutor является класс Pool, который позволяет запустить несколько процессов одновременно."
      ]
    },
    {
      "cell_type": "code",
      "metadata": {
        "colab": {
          "base_uri": "https://localhost:8080/"
        },
        "id": "__ivkj2-WWHl",
        "outputId": "51b7d194-c4ea-44a4-d037-b5064638138a"
      },
      "source": [
        "from multiprocessing import Pool\n",
        "\n",
        "def calc(number):\n",
        "  return number ** 2\n",
        "\n",
        "if __name__ == \"__main__\":\n",
        "  numbers = [5, 10, 15, 20, 25]\n",
        "  pool = Pool(processes=3)\n",
        "  print(pool.map(calc, numbers))"
      ],
      "execution_count": 9,
      "outputs": [
        {
          "output_type": "stream",
          "name": "stdout",
          "text": [
            "[25, 100, 225, 400, 625]\n"
          ]
        }
      ]
    },
    {
      "cell_type": "markdown",
      "metadata": {
        "id": "mcQ1CWKtXOoJ"
      },
      "source": [
        "Мы создаем экземпляр класса Pool, указываем в processes, что хотим создать 3 процесса, а затем с помощью pool.map() передаем функцию для исполнения и список numbers, где впоследствии каждый из элементов списка будет подан на вход функции doubler().\n",
        "\n",
        "Для связи между процессами можно использовать уже знакомый класс Queue, который так же реализован в модуле multiprocessing"
      ]
    },
    {
      "cell_type": "code",
      "metadata": {
        "colab": {
          "base_uri": "https://localhost:8080/"
        },
        "id": "nHnvr4EGWqJT",
        "outputId": "248b3e0e-e868-4132-dacb-9907141f2088"
      },
      "source": [
        "from multiprocessing import Process, Queue\n",
        "\n",
        "stop = -1\n",
        "def task_creator(data, q):\n",
        "  for i in data:\n",
        "    q.put(i)\n",
        "\n",
        "def consumer(q):\n",
        "  while True:\n",
        "    data = q.get()\n",
        "    print(\"data: \".format(data))\n",
        "    processed = data * 2\n",
        "    print(processed)\n",
        "    if data is stop:\n",
        "      break\n",
        "\n",
        "if __name__ == \"__main__\":\n",
        "  q = Queue()\n",
        "  data = [10, 15, 20, 25, -1]\n",
        "  p1 = Process(target=task_creator, args=(data, q))\n",
        "  p2 = Process(target=consumer, args=(q,))\n",
        "  p1.start()\n",
        "  p2.start()\n",
        "  q.close()\n",
        "  q.join_thread()\n",
        "  p1.join()\n",
        "  p2.join()"
      ],
      "execution_count": 12,
      "outputs": [
        {
          "output_type": "stream",
          "name": "stdout",
          "text": [
            "data: \n",
            "20\n",
            "data: \n",
            "30\n",
            "data: \n",
            "40\n",
            "data: \n",
            "50\n",
            "data: \n",
            "-2\n"
          ]
        }
      ]
    },
    {
      "cell_type": "markdown",
      "metadata": {
        "id": "h0xrx7zNap7F"
      },
      "source": [
        "Здесь мы создаем два процесса и очередь. Один процесс при старте кладет данные в очередь, а другой считывает ее и выводит на экран. \n",
        "\n",
        "Очереди удобны, когда нужно связать между собой несколько процессов, например, одни кладут в очередь, другие обрабатывают.\n",
        "\n",
        "Но в модуле multiprocessing так же есть класс Pipe, который позволяет связать между собой только два процесса."
      ]
    },
    {
      "cell_type": "code",
      "metadata": {
        "colab": {
          "base_uri": "https://localhost:8080/"
        },
        "id": "bz9UxyQYaYX2",
        "outputId": "9e699fa8-acc3-4291-f81a-1be8e867ab21"
      },
      "source": [
        "import multiprocessing\n",
        "\n",
        "def sender(conn, msgs):\n",
        "  for mg in msgs:\n",
        "    conn.send(mg)\n",
        "    print(\"Sent message: {}\".format(mg))\n",
        "  conn.close()\n",
        "\n",
        "def reciever(conn):\n",
        "  while 1:\n",
        "    msg = conn.recv()\n",
        "    if msg == \"END\":\n",
        "      break\n",
        "    print(\"Recieved message: {}\".format(msg))\n",
        "\n",
        "if __name__ == \"__main__\":\n",
        "  msgs = [\"START\", \"MEDIAN\", \"END\"]\n",
        "  parent_conn, child_conn = multiprocessing.Pipe()\n",
        "  p1 = multiprocessing.Process(target=sender, args=(parent_conn, msgs))\n",
        "  p2 = multiprocessing.Process(target=reciever, args=(child_conn,))\n",
        "  p1.start()\n",
        "  p2.start()\n",
        "  p1.join()\n",
        "  p2.join()"
      ],
      "execution_count": 14,
      "outputs": [
        {
          "output_type": "stream",
          "name": "stdout",
          "text": [
            "Sent message: START\n",
            "Recieved message: START\n",
            "Sent message: MEDIAN\n",
            "Recieved message: MEDIAN\n",
            "Sent message: END\n"
          ]
        }
      ]
    },
    {
      "cell_type": "markdown",
      "metadata": {
        "id": "zKFiNyKEcNTm"
      },
      "source": [
        "В этом примере мы создаем два процесса, связываем их с помощью Pipe и организуем простую передачу текстовых сообщений от одного к другому.\n",
        "\n",
        "Хочется отметить, что Pipe возвращает два объекта — parent_conn и child_conn.\n",
        "\n",
        "parent_conn — объект, который отправляет данные через Pipe.\n",
        "\n",
        "child_conn — объект, которые принимает данные из Pipe.\n",
        "\n",
        "Pipe полезно использовать, когда один процесс работает в фоне, например, мониторит доступность сети, а другой процесс хочет сходить по какому-нибудь адресу и спрашивает о доступности сети у другого процесса, а потом принимает на основе этого решение."
      ]
    }
  ]
}