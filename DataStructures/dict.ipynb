{
  "nbformat": 4,
  "nbformat_minor": 0,
  "metadata": {
    "colab": {
      "name": "dict.ipynb",
      "provenance": []
    },
    "kernelspec": {
      "name": "python3",
      "display_name": "Python 3"
    },
    "language_info": {
      "name": "python"
    }
  },
  "cells": [
    {
      "cell_type": "markdown",
      "metadata": {
        "id": "lYgjWDt_Zyj6"
      },
      "source": [
        "#Dict"
      ]
    },
    {
      "cell_type": "markdown",
      "metadata": {
        "id": "Y-K4eI4HZ07e"
      },
      "source": [
        "Словарь (Dict) — это структура данных, которая хранит элементы по принципу ключ-значение."
      ]
    },
    {
      "cell_type": "markdown",
      "metadata": {
        "id": "gqerM1_baaQt"
      },
      "source": [
        "Это позволяет эффективно искать, вставлять, изменять и удалять любой объект связанный с ключом. Словарь в Python является реализацией абстрактной структуры данных — хеш-таблица. \n",
        "\n",
        "Все ключи в словарях должны быть хешируемыми. Хеш-объект имеет значение, которое никогда не изменяется в течение жизни объекта (свойство \\_\\_hash__), также это значение можно сравнить с другими похожими объектами (свойство __eq__).\n",
        "\n",
        "Кстати говоря, если мы сравниваем два объекта в Python, можно говорить об их равенстве только в том случае, если их хеши и значения одинаковые.\n",
        "\n",
        "Из свойства хешируемости следует, что в Python ключами словаря могут быть объекты, неизменяемые со временем (Immutable), — это строки, числа, пользовательские объекты, у которых реализованы свойства (__hash__, \\_\\_eq__). Tuple, frozen set могут быть ключами словаря — если в их составе нет изменяемых элементов, например — списки, множества."
      ]
    },
    {
      "cell_type": "code",
      "metadata": {
        "colab": {
          "base_uri": "https://localhost:8080/"
        },
        "id": "Gb22PEQ7XpPc",
        "outputId": "354b1f5f-530e-4aad-86b1-005a7f5c4638"
      },
      "source": [
        "d = {} # создание словаря\n",
        "d = {\"a\":1, \"abc\":2}\n",
        "d"
      ],
      "execution_count": 1,
      "outputs": [
        {
          "output_type": "execute_result",
          "data": {
            "text/plain": [
              "{'a': 1, 'abc': 2}"
            ]
          },
          "metadata": {},
          "execution_count": 1
        }
      ]
    },
    {
      "cell_type": "code",
      "metadata": {
        "colab": {
          "base_uri": "https://localhost:8080/"
        },
        "id": "ewI2kVkJa9Qc",
        "outputId": "059732e0-7cf8-44d8-fbdf-796b14020fa5"
      },
      "source": [
        "d = dict([(1, 2), (3, 4)]) # еще один способ созлать словарь\n",
        "d"
      ],
      "execution_count": 5,
      "outputs": [
        {
          "output_type": "execute_result",
          "data": {
            "text/plain": [
              "{1: 4, 3: 2}"
            ]
          },
          "metadata": {},
          "execution_count": 5
        }
      ]
    },
    {
      "cell_type": "code",
      "metadata": {
        "colab": {
          "base_uri": "https://localhost:8080/"
        },
        "id": "n2RmoDGwbCkr",
        "outputId": "31fb5f54-8f3d-4a24-c352-a4fd2681d5e6"
      },
      "source": [
        "d.clear() # очистка словаря\n",
        "d"
      ],
      "execution_count": 4,
      "outputs": [
        {
          "output_type": "execute_result",
          "data": {
            "text/plain": [
              "{}"
            ]
          },
          "metadata": {},
          "execution_count": 4
        }
      ]
    },
    {
      "cell_type": "code",
      "metadata": {
        "colab": {
          "base_uri": "https://localhost:8080/"
        },
        "id": "93gZ3TClbNme",
        "outputId": "ecd6d3d7-93eb-44eb-8fb9-d7be45ca807a"
      },
      "source": [
        "d = dict([(3, 2), (1, 4)])\n",
        "d[1]"
      ],
      "execution_count": 7,
      "outputs": [
        {
          "output_type": "execute_result",
          "data": {
            "text/plain": [
              "4"
            ]
          },
          "metadata": {},
          "execution_count": 7
        }
      ]
    },
    {
      "cell_type": "code",
      "metadata": {
        "colab": {
          "base_uri": "https://localhost:8080/"
        },
        "id": "J9iBlMhEbbpz",
        "outputId": "ca311d8d-b74a-4d7f-d577-653517602b94"
      },
      "source": [
        "d[7] = 15 # добавление нового ключа\n",
        "d"
      ],
      "execution_count": 8,
      "outputs": [
        {
          "output_type": "execute_result",
          "data": {
            "text/plain": [
              "{1: 4, 3: 2, 7: 15}"
            ]
          },
          "metadata": {},
          "execution_count": 8
        }
      ]
    },
    {
      "cell_type": "code",
      "metadata": {
        "colab": {
          "base_uri": "https://localhost:8080/"
        },
        "id": "yd3RPbQKbpPn",
        "outputId": "ea270d25-3705-416a-d403-7af6e70c3fbe"
      },
      "source": [
        "d[(1, 2)] = 144 # добавление нового ключа — кортежа\n",
        "d"
      ],
      "execution_count": 9,
      "outputs": [
        {
          "output_type": "execute_result",
          "data": {
            "text/plain": [
              "{(1, 2): 144, 1: 4, 3: 2, 7: 15}"
            ]
          },
          "metadata": {},
          "execution_count": 9
        }
      ]
    },
    {
      "cell_type": "code",
      "metadata": {
        "colab": {
          "base_uri": "https://localhost:8080/"
        },
        "id": "XBk1YhmpbsqV",
        "outputId": "b6ea52ae-873a-4783-a600-9500b880b659"
      },
      "source": [
        "d.items() # показать пары ключ-значение"
      ],
      "execution_count": 10,
      "outputs": [
        {
          "output_type": "execute_result",
          "data": {
            "text/plain": [
              "dict_items([(3, 2), (1, 4), (7, 15), ((1, 2), 144)])"
            ]
          },
          "metadata": {},
          "execution_count": 10
        }
      ]
    },
    {
      "cell_type": "code",
      "metadata": {
        "colab": {
          "base_uri": "https://localhost:8080/"
        },
        "id": "S-0UhtTPb_om",
        "outputId": "5978e9f6-af99-4515-f58e-c66d472b4855"
      },
      "source": [
        "d.keys() # только ключи"
      ],
      "execution_count": 11,
      "outputs": [
        {
          "output_type": "execute_result",
          "data": {
            "text/plain": [
              "dict_keys([3, 1, 7, (1, 2)])"
            ]
          },
          "metadata": {},
          "execution_count": 11
        }
      ]
    },
    {
      "cell_type": "code",
      "metadata": {
        "colab": {
          "base_uri": "https://localhost:8080/"
        },
        "id": "_fGJe8sdcEMj",
        "outputId": "d91e7a14-bb9b-4c64-d668-dc26ce61594b"
      },
      "source": [
        "d.values() # только значения"
      ],
      "execution_count": 12,
      "outputs": [
        {
          "output_type": "execute_result",
          "data": {
            "text/plain": [
              "dict_values([2, 4, 15, 144])"
            ]
          },
          "metadata": {},
          "execution_count": 12
        }
      ]
    },
    {
      "cell_type": "markdown",
      "metadata": {
        "id": "wgVQEC9ycOR8"
      },
      "source": [
        "Dict Comprehensions — аналогично с list, set существует семантический сахар и для создания словарей."
      ]
    },
    {
      "cell_type": "code",
      "metadata": {
        "colab": {
          "base_uri": "https://localhost:8080/"
        },
        "id": "xRXiAr0rcHBb",
        "outputId": "f8e85a28-d8cb-4187-f1ab-8b7b572bdae4"
      },
      "source": [
        "d = {a: a**2 for a in range(10)}\n",
        "d"
      ],
      "execution_count": 13,
      "outputs": [
        {
          "output_type": "execute_result",
          "data": {
            "text/plain": [
              "{0: 0, 1: 1, 2: 4, 3: 9, 4: 16, 5: 25, 6: 36, 7: 49, 8: 64, 9: 81}"
            ]
          },
          "metadata": {},
          "execution_count": 13
        }
      ]
    },
    {
      "cell_type": "markdown",
      "metadata": {
        "id": "nKM2AptrccHM"
      },
      "source": [
        "Для хеш-таблиц свойственно появление коллизий — это когда два разных объекта имеют одинаковый хеш. Существуют разные способы разрешения коллизий. Внутри CPython реализован метод открытой адресации."
      ]
    },
    {
      "cell_type": "markdown",
      "metadata": {
        "id": "AxryM6FqcksV"
      },
      "source": [
        "__Как словари устроены внутри Python__\n",
        "\n",
        "Внутри CPython словарь, как и множество, хранится в виде таблицы, а сама структура ячейки словаря описывается в CPython следующей структурой:"
      ]
    },
    {
      "cell_type": "code",
      "metadata": {
        "id": "bJFbYID5cUq1"
      },
      "source": [
        "typedef struct {\n",
        "    Py_hash_t me_hash;\n",
        "    PyObject *me_key;\n",
        "    PyObject *me_value;\n",
        "} PyDictEntry;  "
      ],
      "execution_count": null,
      "outputs": []
    },
    {
      "cell_type": "markdown",
      "metadata": {
        "id": "xCQg9gnKcpYH"
      },
      "source": [
        "где:\n",
        "\n",
        "me_hash — хеш хранимого объекта;\n",
        "\n",
        "me_key — ключ хранимого объекта;\n",
        "\n",
        "me_value — значение хранимого объекта."
      ]
    },
    {
      "cell_type": "markdown",
      "metadata": {
        "id": "avDb87DYdEoq"
      },
      "source": [
        "#OrderedDict"
      ]
    },
    {
      "cell_type": "markdown",
      "metadata": {
        "id": "JmKpq-s9dKYM"
      },
      "source": [
        "Подкласс словаря, в котором хранится порядок добавления ключей в словарь.\n",
        "\n",
        "Удобно использовать, когда нужно не только получать значения по ключу, но и время от времени итерироваться по структуре, зная, что вначале идут более ранние значения, а в конце более поздние:"
      ]
    },
    {
      "cell_type": "code",
      "metadata": {
        "colab": {
          "base_uri": "https://localhost:8080/"
        },
        "id": "ggwnWVykctlO",
        "outputId": "2733fd13-4433-4794-a426-d5523aea67aa"
      },
      "source": [
        "import collections\n",
        "\n",
        "d = collections.OrderedDict(one=1, two=2, three=3)\n",
        "d"
      ],
      "execution_count": 14,
      "outputs": [
        {
          "output_type": "execute_result",
          "data": {
            "text/plain": [
              "OrderedDict([('one', 1), ('two', 2), ('three', 3)])"
            ]
          },
          "metadata": {},
          "execution_count": 14
        }
      ]
    },
    {
      "cell_type": "code",
      "metadata": {
        "colab": {
          "base_uri": "https://localhost:8080/"
        },
        "id": "swbxaufcdTxM",
        "outputId": "1701099d-f0c1-42d4-94f6-66d90e9c55a3"
      },
      "source": [
        "d['four'] = 4\n",
        "d"
      ],
      "execution_count": 16,
      "outputs": [
        {
          "output_type": "execute_result",
          "data": {
            "text/plain": [
              "OrderedDict([('one', 1), ('two', 2), ('three', 3), ('four', 4)])"
            ]
          },
          "metadata": {},
          "execution_count": 16
        }
      ]
    },
    {
      "cell_type": "code",
      "metadata": {
        "colab": {
          "base_uri": "https://localhost:8080/"
        },
        "id": "BhmBHWxWdW2s",
        "outputId": "5cfb3028-6be6-4c51-e936-6ee7cb6e971e"
      },
      "source": [
        "d.keys()"
      ],
      "execution_count": 17,
      "outputs": [
        {
          "output_type": "execute_result",
          "data": {
            "text/plain": [
              "odict_keys(['one', 'two', 'three', 'four'])"
            ]
          },
          "metadata": {},
          "execution_count": 17
        }
      ]
    },
    {
      "cell_type": "markdown",
      "metadata": {
        "id": "sY1iCpnzdc2W"
      },
      "source": [
        "Начиная с python 3.6+, обычный словарь так же хранит данный порядок и, по сути, OrderedDict можно не использовать."
      ]
    },
    {
      "cell_type": "markdown",
      "metadata": {
        "id": "D4YVIisFddzW"
      },
      "source": [
        "#DefaultDict"
      ]
    },
    {
      "cell_type": "markdown",
      "metadata": {
        "id": "tgP8LXE_djDj"
      },
      "source": [
        "Подкласс словаря, особенностью которого является возможность задать значение по умолчанию, которое будет возвращено в случае обращения к словарю по ключу, который отсутствует. "
      ]
    },
    {
      "cell_type": "code",
      "metadata": {
        "colab": {
          "base_uri": "https://localhost:8080/"
        },
        "id": "Ad4CMASsdaEG",
        "outputId": "43c4200c-aed7-4bce-fa4d-7d65147541a7"
      },
      "source": [
        "from collections import defaultdict\n",
        "\n",
        "dd = defaultdict(list)\n",
        "dd['dogs'].append(\"Rufus\")\n",
        "dd['dogs'].append('Kathrin')\n",
        "dd['dogs'].append('Mr Sniffles')\n",
        "dd"
      ],
      "execution_count": 21,
      "outputs": [
        {
          "output_type": "execute_result",
          "data": {
            "text/plain": [
              "defaultdict(list, {'dogs': ['Rufus', 'Kathrin', 'Mr Sniffles']})"
            ]
          },
          "metadata": {},
          "execution_count": 21
        }
      ]
    },
    {
      "cell_type": "code",
      "metadata": {
        "colab": {
          "base_uri": "https://localhost:8080/"
        },
        "id": "Pi3SARPidsof",
        "outputId": "db692b6c-10a8-4071-c36e-a221e74df535"
      },
      "source": [
        "dd['wrong']"
      ],
      "execution_count": 23,
      "outputs": [
        {
          "output_type": "execute_result",
          "data": {
            "text/plain": [
              "[]"
            ]
          },
          "metadata": {},
          "execution_count": 23
        }
      ]
    }
  ]
}