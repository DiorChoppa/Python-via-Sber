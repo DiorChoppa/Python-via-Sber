{
  "nbformat": 4,
  "nbformat_minor": 0,
  "metadata": {
    "colab": {
      "name": "task1.ipynb",
      "provenance": []
    },
    "kernelspec": {
      "name": "python3",
      "display_name": "Python 3"
    },
    "language_info": {
      "name": "python"
    }
  },
  "cells": [
    {
      "cell_type": "code",
      "metadata": {
        "colab": {
          "base_uri": "https://localhost:8080/"
        },
        "id": "HMyW1X7QUDFO",
        "outputId": "622cd5cd-12cf-47be-a504-2f730bcd9ea9"
      },
      "source": [
        "list_fifo = []\n",
        "for i in range(5):\n",
        "  list_fifo.append(i)\n",
        "\n",
        "print(list_fifo)"
      ],
      "execution_count": 5,
      "outputs": [
        {
          "output_type": "stream",
          "name": "stdout",
          "text": [
            "[0, 1, 2, 3, 4]\n"
          ]
        }
      ]
    },
    {
      "cell_type": "code",
      "metadata": {
        "colab": {
          "base_uri": "https://localhost:8080/"
        },
        "id": "VeZ95TXkUYJc",
        "outputId": "713b61b0-35fe-4dfd-8c00-b6a107a1c01a"
      },
      "source": [
        "list_fifo.pop(0)\n",
        "print(list_fifo)"
      ],
      "execution_count": 4,
      "outputs": [
        {
          "output_type": "stream",
          "name": "stdout",
          "text": [
            "[2, 3, 4]\n"
          ]
        }
      ]
    },
    {
      "cell_type": "code",
      "metadata": {
        "colab": {
          "base_uri": "https://localhost:8080/"
        },
        "id": "C4byBUY3UhHn",
        "outputId": "18c42563-790c-49b5-9b42-a16cd3abcb49"
      },
      "source": [
        "list_fifo = []\n",
        "for i in range(5):\n",
        "  list_fifo.append(i)\n",
        "\n",
        "print(list_fifo)"
      ],
      "execution_count": 7,
      "outputs": [
        {
          "output_type": "stream",
          "name": "stdout",
          "text": [
            "[0, 1, 2, 3, 4]\n"
          ]
        }
      ]
    },
    {
      "cell_type": "code",
      "metadata": {
        "colab": {
          "base_uri": "https://localhost:8080/"
        },
        "id": "DTqnmuq1UqQu",
        "outputId": "75cf501a-6c2d-4c2c-e041-af21569dc254"
      },
      "source": [
        "simple_list = [1, 2, 3]\n",
        "simple_tuple = (1, 2)\n",
        "simple_tuple"
      ],
      "execution_count": 11,
      "outputs": [
        {
          "output_type": "execute_result",
          "data": {
            "text/plain": [
              "(1, 2)"
            ]
          },
          "metadata": {},
          "execution_count": 11
        }
      ]
    },
    {
      "cell_type": "code",
      "metadata": {
        "id": "Y-Hjq3PhVBMM"
      },
      "source": [
        "simple_dict = {}\n",
        "simple_dict[simple_tuple] = 5"
      ],
      "execution_count": 12,
      "outputs": []
    },
    {
      "cell_type": "code",
      "metadata": {
        "colab": {
          "base_uri": "https://localhost:8080/"
        },
        "id": "42QDYbHuVKpO",
        "outputId": "8944da2b-5e4c-4195-8b24-188e08170fdb"
      },
      "source": [
        "simple_list = [1, 2, 3,]\n",
        "simple_list = simple_list * 2\n",
        "simple_list"
      ],
      "execution_count": 13,
      "outputs": [
        {
          "output_type": "execute_result",
          "data": {
            "text/plain": [
              "[1, 2, 3, 1, 2, 3]"
            ]
          },
          "metadata": {},
          "execution_count": 13
        }
      ]
    },
    {
      "cell_type": "code",
      "metadata": {
        "colab": {
          "base_uri": "https://localhost:8080/"
        },
        "id": "_UMozLdQVbBC",
        "outputId": "3e593942-b671-4243-aef1-cf395c4d9dd8"
      },
      "source": [
        "simple_list = list(set(simple_list))\n",
        "simple_list"
      ],
      "execution_count": 15,
      "outputs": [
        {
          "output_type": "execute_result",
          "data": {
            "text/plain": [
              "[1, 2, 3]"
            ]
          },
          "metadata": {},
          "execution_count": 15
        }
      ]
    },
    {
      "cell_type": "code",
      "metadata": {
        "colab": {
          "base_uri": "https://localhost:8080/"
        },
        "id": "bU2UuQAxVihQ",
        "outputId": "0221b88e-c3ac-4397-ea20-4aa12c580206"
      },
      "source": [
        "simple_dict = {1:1, 2:3, 3:[1, 2, 3]}\n",
        "simple_dict"
      ],
      "execution_count": 19,
      "outputs": [
        {
          "output_type": "execute_result",
          "data": {
            "text/plain": [
              "{1: 1, 2: 3, 3: [1, 2, 3]}"
            ]
          },
          "metadata": {},
          "execution_count": 19
        }
      ]
    },
    {
      "cell_type": "code",
      "metadata": {
        "colab": {
          "base_uri": "https://localhost:8080/"
        },
        "id": "hze8HVYaV8P-",
        "outputId": "b30b3a11-e0f1-4ae1-c48c-c44cdc402c29"
      },
      "source": [
        "simple_dict.get(5, [])"
      ],
      "execution_count": 21,
      "outputs": [
        {
          "output_type": "execute_result",
          "data": {
            "text/plain": [
              "[]"
            ]
          },
          "metadata": {},
          "execution_count": 21
        }
      ]
    }
  ]
}