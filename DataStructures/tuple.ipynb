{
  "nbformat": 4,
  "nbformat_minor": 0,
  "metadata": {
    "colab": {
      "name": "tuple.ipynb",
      "provenance": []
    },
    "kernelspec": {
      "name": "python3",
      "display_name": "Python 3"
    },
    "language_info": {
      "name": "python"
    }
  },
  "cells": [
    {
      "cell_type": "markdown",
      "metadata": {
        "id": "eHG4OPF0OyJ_"
      },
      "source": [
        "####Именованные кортежи"
      ]
    },
    {
      "cell_type": "markdown",
      "metadata": {
        "id": "wBzpC2mrO49s"
      },
      "source": [
        "Именованные кортежи — это подкласс обычных кортежей, их удобство заключается в двух вещах:\n",
        "\n",
        "они неизменяемые, так же как и обычные кортежи и имеют все их свойства;\n",
        "каждый элемент кортежа доступен по уникальному строковому идентификатору. "
      ]
    },
    {
      "cell_type": "code",
      "metadata": {
        "colab": {
          "base_uri": "https://localhost:8080/"
        },
        "id": "C_nLien6Nuwf",
        "outputId": "b9d3899d-f9e1-4bc0-e29c-81cec5000efc"
      },
      "source": [
        "from collections import namedtuple\n",
        "Car = namedtuple('Car', 'color speed')\n",
        "my_car = Car('red', 200)\n",
        "\n",
        "print(my_car.color)\n",
        "print(my_car.speed)"
      ],
      "execution_count": 1,
      "outputs": [
        {
          "output_type": "stream",
          "name": "stdout",
          "text": [
            "red\n",
            "200\n"
          ]
        }
      ]
    },
    {
      "cell_type": "markdown",
      "metadata": {
        "id": "RuT6z3OwPooq"
      },
      "source": [
        "namedtuple содержится в модуле collections, который, помимо deque, несет в себе другие «продвинутые» структуры данных, такие как: ChainMap, defaultdict, deque, OrderedDict."
      ]
    },
    {
      "cell_type": "markdown",
      "metadata": {
        "id": "MKC36Qb3Poaw"
      },
      "source": [
        "Несмотря на доступ к значениям сохраненным в именованном кортеже через их идентификатор, вы всё ещё можете обращаться к ним через их индекс. Это свойство именованных кортежей может быть использовано для их распаковки в обычный кортеж:"
      ]
    },
    {
      "cell_type": "code",
      "metadata": {
        "colab": {
          "base_uri": "https://localhost:8080/"
        },
        "id": "wG9DtQU4PsZg",
        "outputId": "79ad0f78-1e60-4e54-b1c9-2ffc089a017f"
      },
      "source": [
        "print(my_car[0])\n",
        "print(\"\\n\")\n",
        "tuple(my_car)"
      ],
      "execution_count": 6,
      "outputs": [
        {
          "output_type": "stream",
          "name": "stdout",
          "text": [
            "red\n",
            "\n",
            "\n"
          ]
        },
        {
          "output_type": "execute_result",
          "data": {
            "text/plain": [
              "('red', 200)"
            ]
          },
          "metadata": {},
          "execution_count": 6
        }
      ]
    },
    {
      "cell_type": "markdown",
      "metadata": {
        "id": "GD_p4g5aRLJz"
      },
      "source": [
        "Объекты именованных кортежей внутренне реализуются в Python как обычные классы. Если смотреть с точки зрения эффективного использования памяти, то они лучше, чем обычные классы, при этом сохраняют удобство кортежей."
      ]
    }
  ]
}