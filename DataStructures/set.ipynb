{
  "nbformat": 4,
  "nbformat_minor": 0,
  "metadata": {
    "colab": {
      "name": "set.ipynb",
      "provenance": []
    },
    "kernelspec": {
      "name": "python3",
      "display_name": "Python 3"
    },
    "language_info": {
      "name": "python"
    }
  },
  "cells": [
    {
      "cell_type": "markdown",
      "metadata": {
        "id": "W44JUnipS3cl"
      },
      "source": [
        "#Set"
      ]
    },
    {
      "cell_type": "markdown",
      "metadata": {
        "id": "XPMjXsJVS6ba"
      },
      "source": [
        "Множество (Set) — это структура данных, которая хранит неупорядоченные уникальные хешируемые элементы. "
      ]
    },
    {
      "cell_type": "code",
      "metadata": {
        "colab": {
          "base_uri": "https://localhost:8080/"
        },
        "id": "1bkQkR9iSz1W",
        "outputId": "7038290a-716a-487c-d4b3-1cce1708ed58"
      },
      "source": [
        "s = set() # создание пустого множества\n",
        "s"
      ],
      "execution_count": 1,
      "outputs": [
        {
          "output_type": "execute_result",
          "data": {
            "text/plain": [
              "set()"
            ]
          },
          "metadata": {},
          "execution_count": 1
        }
      ]
    },
    {
      "cell_type": "code",
      "metadata": {
        "colab": {
          "base_uri": "https://localhost:8080/"
        },
        "id": "ZD_YZEyGTK9V",
        "outputId": "be872c1e-0f25-48cf-a862-2758732497d3"
      },
      "source": [
        "s = set((1, 2, 3, 4, 5))  # cоздание множества из кортежа\n",
        "s = set([1, 2, 3, 4, 5])  # создание множества из списка\n",
        "s = {1, 2, 3, 4, 5} # еще вариант создания множества\n",
        "s"
      ],
      "execution_count": 4,
      "outputs": [
        {
          "output_type": "execute_result",
          "data": {
            "text/plain": [
              "{1, 2, 3, 4, 5}"
            ]
          },
          "metadata": {},
          "execution_count": 4
        }
      ]
    },
    {
      "cell_type": "code",
      "metadata": {
        "colab": {
          "base_uri": "https://localhost:8080/"
        },
        "id": "T0Id4FFsTPu-",
        "outputId": "f3648082-899d-4169-f547-9f1ec6b8aaa0"
      },
      "source": [
        "s = {1, 2, 3, 4, 5, \"test\", ()}\n",
        "s"
      ],
      "execution_count": 5,
      "outputs": [
        {
          "output_type": "execute_result",
          "data": {
            "text/plain": [
              "{(), 1, 2, 3, 4, 5, 'test'}"
            ]
          },
          "metadata": {},
          "execution_count": 5
        }
      ]
    },
    {
      "cell_type": "code",
      "metadata": {
        "colab": {
          "base_uri": "https://localhost:8080/"
        },
        "id": "nuU6Xi3dTrnn",
        "outputId": "91969b13-a720-4a8f-f752-aa93859f91be"
      },
      "source": [
        "s.add(\"new test\") # добавление нового элемента\n",
        "s"
      ],
      "execution_count": 7,
      "outputs": [
        {
          "output_type": "execute_result",
          "data": {
            "text/plain": [
              "{(), 1, 2, 3, 4, 5, 'new test', 'test'}"
            ]
          },
          "metadata": {},
          "execution_count": 7
        }
      ]
    },
    {
      "cell_type": "code",
      "metadata": {
        "colab": {
          "base_uri": "https://localhost:8080/"
        },
        "id": "3fwi9vmCUOe9",
        "outputId": "6e4a88c5-4d8b-49a3-84d5-505c0c78fe1c"
      },
      "source": [
        "s.discard(3)\n",
        "s"
      ],
      "execution_count": 8,
      "outputs": [
        {
          "output_type": "execute_result",
          "data": {
            "text/plain": [
              "{(), 1, 2, 4, 5, 'new test', 'test'}"
            ]
          },
          "metadata": {},
          "execution_count": 8
        }
      ]
    },
    {
      "cell_type": "code",
      "metadata": {
        "colab": {
          "base_uri": "https://localhost:8080/"
        },
        "id": "pyG2vkJ6UQW9",
        "outputId": "6ef1f26c-c79c-4535-dc30-6c3e719ec625"
      },
      "source": [
        "first = set((1, 2, 3, 4, 5))\n",
        "second = set((6, 7, 8, 9, 10))\n",
        "first.union(second)"
      ],
      "execution_count": 10,
      "outputs": [
        {
          "output_type": "execute_result",
          "data": {
            "text/plain": [
              "{1, 2, 3, 4, 5, 6, 7, 8, 9, 10}"
            ]
          },
          "metadata": {},
          "execution_count": 10
        }
      ]
    },
    {
      "cell_type": "code",
      "metadata": {
        "colab": {
          "base_uri": "https://localhost:8080/"
        },
        "id": "3IbC7JKnUnbj",
        "outputId": "fbc83b31-1b48-4be8-81b8-6235c6ead18f"
      },
      "source": [
        "first.intersection(second)"
      ],
      "execution_count": 11,
      "outputs": [
        {
          "output_type": "execute_result",
          "data": {
            "text/plain": [
              "set()"
            ]
          },
          "metadata": {},
          "execution_count": 11
        }
      ]
    },
    {
      "cell_type": "markdown",
      "metadata": {
        "id": "T8yeondiUxti"
      },
      "source": [
        "####Set Comprehensions"
      ]
    },
    {
      "cell_type": "code",
      "metadata": {
        "colab": {
          "base_uri": "https://localhost:8080/"
        },
        "id": "Dn9QvXK-Un1z",
        "outputId": "359959bb-dde5-423a-87b5-beb4671362d0"
      },
      "source": [
        "{s for s in [1, 2, 1, 0]}"
      ],
      "execution_count": 12,
      "outputs": [
        {
          "output_type": "execute_result",
          "data": {
            "text/plain": [
              "{0, 1, 2}"
            ]
          },
          "metadata": {},
          "execution_count": 12
        }
      ]
    },
    {
      "cell_type": "code",
      "metadata": {
        "colab": {
          "base_uri": "https://localhost:8080/"
        },
        "id": "N9PbS8fqVBkl",
        "outputId": "f205c534-d0cf-4a37-d013-ba6989537287"
      },
      "source": [
        "{s**2 for s in [1, 2, 1, 0]}"
      ],
      "execution_count": 13,
      "outputs": [
        {
          "output_type": "execute_result",
          "data": {
            "text/plain": [
              "{0, 1, 4}"
            ]
          },
          "metadata": {},
          "execution_count": 13
        }
      ]
    },
    {
      "cell_type": "code",
      "metadata": {
        "colab": {
          "base_uri": "https://localhost:8080/"
        },
        "id": "bxXEaIzIVFBP",
        "outputId": "6ad0dd60-e091-4325-a91b-fac25e32c18d"
      },
      "source": [
        "{s**2 for s in range(10)}"
      ],
      "execution_count": 14,
      "outputs": [
        {
          "output_type": "execute_result",
          "data": {
            "text/plain": [
              "{0, 1, 4, 9, 16, 25, 36, 49, 64, 81}"
            ]
          },
          "metadata": {},
          "execution_count": 14
        }
      ]
    },
    {
      "cell_type": "code",
      "metadata": {
        "colab": {
          "base_uri": "https://localhost:8080/"
        },
        "id": "0PAkUqCaVJfz",
        "outputId": "76f1ac37-72bd-4105-e0db-488729d57fcb"
      },
      "source": [
        "{s for s in [1, 2, 3] if s%2}"
      ],
      "execution_count": 15,
      "outputs": [
        {
          "output_type": "execute_result",
          "data": {
            "text/plain": [
              "{1, 3}"
            ]
          },
          "metadata": {},
          "execution_count": 15
        }
      ]
    },
    {
      "cell_type": "code",
      "metadata": {
        "colab": {
          "base_uri": "https://localhost:8080/"
        },
        "id": "91pgPDwLVco3",
        "outputId": "92d9b5bc-fdb4-401f-898d-866c870ca7da"
      },
      "source": [
        "{(m, n) for n in range(2) for m in range(3, 5)}"
      ],
      "execution_count": 16,
      "outputs": [
        {
          "output_type": "execute_result",
          "data": {
            "text/plain": [
              "{(3, 0), (3, 1), (4, 0), (4, 1)}"
            ]
          },
          "metadata": {},
          "execution_count": 16
        }
      ]
    },
    {
      "cell_type": "markdown",
      "metadata": {
        "id": "jtvX5NcGV1zO"
      },
      "source": [
        "Сложность основных операций в нотации big (O)\n",
        "\n",
        "Таблица времени выполнения операций над множествами в нотации Big O выглядит следующим образом:\n",
        "\n",
        "Операция\tСредняя сложность\n",
        "<br>len — O(1)\n",
        "<br>add\t— O(1)\n",
        "<br>Проверка на входимость —\tO(1)\n",
        "<br>.remove\t— O(1)\n",
        "<br>.discard\t— O(1)\n",
        "<br>.pop\t— O(1)\n",
        "<br>.clear\t— O(1)\n",
        "<br>Создание\t— O(len(t))\n",
        "<br>Проверки ==, !=\t— O(len(s))\n",
        "<br>s.issubset(t)\t— O(len(s))\n",
        "<br>t.issuperset(s)\t— O(len(t))\n",
        "<br>.union\t— O(len(s)+len(t))\n",
        "<br>.intersection\t— O(min(len(s), len(t)))\n",
        "<br>.difference\t— O(len(s))\n",
        "<br>.symmetric_difference —\tO(len(s))\n",
        "<br>Проход\t— O(n)\n",
        "<br>.copy —\tO(n)"
      ]
    },
    {
      "cell_type": "markdown",
      "metadata": {
        "id": "ai1JNLpFWp8H"
      },
      "source": [
        "Как множества устроены внутри Python\n",
        "\n",
        "Внутри множества представляют таблицу, в ячейки которой добавляют новые элементы. В СPython множества представляют следующую структуру:"
      ]
    },
    {
      "cell_type": "code",
      "metadata": {
        "id": "GzdKvi4yV416"
      },
      "source": [
        "typedef struct{\n",
        "    PyObject_HEAD\n",
        "    Py_ssize_t fill;\n",
        "    Py_ssize_t used;\n",
        "    Py_ssize_t mask;\n",
        "    setentry *table;\n",
        "    Py_hash_t hash;\n",
        "    Py_ssize_t finger;\n",
        "    setentry smalltable[PySet_MINSIZE];\n",
        "    PyObject *weakreflist;\n",
        "} PySetObject;"
      ],
      "execution_count": null,
      "outputs": []
    },
    {
      "cell_type": "markdown",
      "metadata": {
        "id": "Enn_xd39WsUT"
      },
      "source": [
        "где:\n",
        "\n",
        "PyObject_HEAD — С-макрос, используется при объявлении новых типов, представляющих объекты без переменной длины;\n",
        "\n",
        "Py_ssize_t fill — количество активных и фиктивных записей;\n",
        "\n",
        "Py_ssize_t used — количество активных записей;\n",
        "\n",
        "setentry *table — указатель на таблицу, где хранятся данные;\n",
        "\n",
        "Py_hash_t hash — хеш, заполняется только в случае frozen set;\n",
        "\n",
        "Py_ssize_t finger — специальная переменная для определения элемента, который нужно выкинуть из коллекции при операции pop();\n",
        "\n",
        "PyObject *weakreflist — список ссылок для сборщика мусора."
      ]
    },
    {
      "cell_type": "markdown",
      "metadata": {
        "id": "gSgfKTMFWzaF"
      },
      "source": [
        "#Frozen Set"
      ]
    },
    {
      "cell_type": "markdown",
      "metadata": {
        "id": "aGBjFoN7WzNj"
      },
      "source": [
        "Неизменяемая версия множеств — уникальный и хешируемый набор элементов в структуре, так же, как и в обычном множестве. Отличается отсутствием возможности добавить или удалить новый элемент."
      ]
    },
    {
      "cell_type": "code",
      "metadata": {
        "colab": {
          "base_uri": "https://localhost:8080/"
        },
        "id": "AHK133wgWvXn",
        "outputId": "4fba23e0-a7b1-40b9-fe0e-75b40b1bbfb3"
      },
      "source": [
        "fs = frozenset((1, 2, 3))\n",
        "fs"
      ],
      "execution_count": 20,
      "outputs": [
        {
          "output_type": "execute_result",
          "data": {
            "text/plain": [
              "frozenset({1, 2, 3})"
            ]
          },
          "metadata": {},
          "execution_count": 20
        }
      ]
    },
    {
      "cell_type": "code",
      "metadata": {
        "colab": {
          "base_uri": "https://localhost:8080/"
        },
        "id": "CqrWW6CQXGSJ",
        "outputId": "c152f342-6e45-4df4-8ed4-34cf14fc5d57"
      },
      "source": [
        "frozenset({1, 2, 3})"
      ],
      "execution_count": 19,
      "outputs": [
        {
          "output_type": "execute_result",
          "data": {
            "text/plain": [
              "frozenset({1, 2, 3})"
            ]
          },
          "metadata": {},
          "execution_count": 19
        }
      ]
    },
    {
      "cell_type": "code",
      "metadata": {
        "colab": {
          "base_uri": "https://localhost:8080/",
          "height": 164
        },
        "id": "MjLLnNWIXJqM",
        "outputId": "f252899a-70f3-4590-bb6e-f3e19785bb88"
      },
      "source": [
        "fs.add(2)"
      ],
      "execution_count": 21,
      "outputs": [
        {
          "output_type": "error",
          "ename": "AttributeError",
          "evalue": "ignored",
          "traceback": [
            "\u001b[0;31m---------------------------------------------------------------------------\u001b[0m",
            "\u001b[0;31mAttributeError\u001b[0m                            Traceback (most recent call last)",
            "\u001b[0;32m<ipython-input-21-ea07e1c3bc2d>\u001b[0m in \u001b[0;36m<module>\u001b[0;34m()\u001b[0m\n\u001b[0;32m----> 1\u001b[0;31m \u001b[0mfs\u001b[0m\u001b[0;34m.\u001b[0m\u001b[0madd\u001b[0m\u001b[0;34m(\u001b[0m\u001b[0;36m2\u001b[0m\u001b[0;34m)\u001b[0m\u001b[0;34m\u001b[0m\u001b[0;34m\u001b[0m\u001b[0m\n\u001b[0m",
            "\u001b[0;31mAttributeError\u001b[0m: 'frozenset' object has no attribute 'add'"
          ]
        }
      ]
    }
  ]
}