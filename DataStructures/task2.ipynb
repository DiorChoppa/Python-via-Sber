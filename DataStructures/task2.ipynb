{
  "nbformat": 4,
  "nbformat_minor": 0,
  "metadata": {
    "colab": {
      "name": "task2.ipynb",
      "provenance": []
    },
    "kernelspec": {
      "name": "python3",
      "display_name": "Python 3"
    },
    "language_info": {
      "name": "python"
    }
  },
  "cells": [
    {
      "cell_type": "code",
      "metadata": {
        "colab": {
          "base_uri": "https://localhost:8080/"
        },
        "id": "KrdIL_MOW0Iy",
        "outputId": "e1dd7c24-21a2-4962-d343-cbf404b81855"
      },
      "source": [
        "import sys\n",
        "\n",
        "print(sys.getsizeof(1))"
      ],
      "execution_count": 2,
      "outputs": [
        {
          "output_type": "stream",
          "name": "stdout",
          "text": [
            "28\n"
          ]
        }
      ]
    },
    {
      "cell_type": "code",
      "metadata": {
        "colab": {
          "base_uri": "https://localhost:8080/"
        },
        "id": "91_rzJRhW-Hh",
        "outputId": "0473535c-a36b-4449-eec2-fb9f73224def"
      },
      "source": [
        "print(sys.getsizeof([]))"
      ],
      "execution_count": 3,
      "outputs": [
        {
          "output_type": "stream",
          "name": "stdout",
          "text": [
            "72\n"
          ]
        }
      ]
    },
    {
      "cell_type": "code",
      "metadata": {
        "colab": {
          "base_uri": "https://localhost:8080/"
        },
        "id": "uTn9dw87XE_c",
        "outputId": "c9cdb815-7a4e-4149-9bc4-48c6530cfa88"
      },
      "source": [
        "print(sys.getsizeof([1]))"
      ],
      "execution_count": 9,
      "outputs": [
        {
          "output_type": "stream",
          "name": "stdout",
          "text": [
            "80\n"
          ]
        }
      ]
    },
    {
      "cell_type": "code",
      "metadata": {
        "id": "dVec7mCCXLF5"
      },
      "source": [
        "def simple_get_true_size(obj, mem=None):\n",
        "  size = sys.getsizeof(obj)\n",
        "  if mem is None:\n",
        "    mem = set()\n",
        "\n",
        "  obj_id = id(obj)\n",
        "  if obj_id in mem:\n",
        "    return 0\n",
        "\n",
        "  mem.add(obj_id)\n",
        "\n",
        "  if isinstance(obj, dict):\n",
        "    size += sum([simple_get_true_size(key, mem) for key in obj.keys()])\n",
        "    size += sum([simple_get_true_size(value, mem) for value in obj.values()])\n",
        "\n",
        "  elif hasattr(obj, '__dict__'):\n",
        "    size += simple_get_true_size(obj.__dict__, mem)\n",
        "\n",
        "  elif hasattr(obj, '__iter__'):\n",
        "    size += sum([simple_get_true_size(i, mem) for i in obj])\n",
        "  \n",
        "  return size"
      ],
      "execution_count": 12,
      "outputs": []
    },
    {
      "cell_type": "code",
      "metadata": {
        "colab": {
          "base_uri": "https://localhost:8080/"
        },
        "id": "jbCQaekUZcpl",
        "outputId": "781f1dbe-7506-4391-a76b-e33862cb4fa2"
      },
      "source": [
        "simple_get_true_size([1, 2])"
      ],
      "execution_count": 22,
      "outputs": [
        {
          "output_type": "execute_result",
          "data": {
            "text/plain": [
              "144"
            ]
          },
          "metadata": {},
          "execution_count": 22
        }
      ]
    },
    {
      "cell_type": "code",
      "metadata": {
        "id": "p-CIz4gBZgdX"
      },
      "source": [
        ""
      ],
      "execution_count": null,
      "outputs": []
    }
  ]
}