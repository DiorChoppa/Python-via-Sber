{
  "nbformat": 4,
  "nbformat_minor": 0,
  "metadata": {
    "colab": {
      "name": "deque.ipynb",
      "provenance": []
    },
    "kernelspec": {
      "name": "python3",
      "display_name": "Python 3"
    },
    "language_info": {
      "name": "python"
    }
  },
  "cells": [
    {
      "cell_type": "markdown",
      "metadata": {
        "id": "rZXSLKRhRdmj"
      },
      "source": [
        "#Deque"
      ]
    },
    {
      "cell_type": "markdown",
      "metadata": {
        "id": "Ic4fiUeLRdj6"
      },
      "source": [
        "Deque — это структура данных, которая реализует двустороннюю очередь."
      ]
    },
    {
      "cell_type": "code",
      "metadata": {
        "colab": {
          "base_uri": "https://localhost:8080/"
        },
        "id": "meknNQWfRRGr",
        "outputId": "9ba164ef-ec3e-4776-ed6f-027b35daed39"
      },
      "source": [
        "from collections import deque\n",
        "\n",
        "a = deque([1, 2, 3])\n",
        "a"
      ],
      "execution_count": 2,
      "outputs": [
        {
          "output_type": "execute_result",
          "data": {
            "text/plain": [
              "deque([1, 2, 3])"
            ]
          },
          "metadata": {},
          "execution_count": 2
        }
      ]
    },
    {
      "cell_type": "code",
      "metadata": {
        "colab": {
          "base_uri": "https://localhost:8080/"
        },
        "id": "-cBUyrkHRy4C",
        "outputId": "73acf7d3-a341-4e6b-ead3-dbe02751b981"
      },
      "source": [
        "a.append(4)\n",
        "a"
      ],
      "execution_count": 3,
      "outputs": [
        {
          "output_type": "execute_result",
          "data": {
            "text/plain": [
              "deque([1, 2, 3, 4])"
            ]
          },
          "metadata": {},
          "execution_count": 3
        }
      ]
    },
    {
      "cell_type": "code",
      "metadata": {
        "colab": {
          "base_uri": "https://localhost:8080/"
        },
        "id": "mW22239BRtXs",
        "outputId": "5ed90c59-628c-4065-a1bc-e69d13b25f75"
      },
      "source": [
        "a.appendleft(6)\n",
        "a"
      ],
      "execution_count": 6,
      "outputs": [
        {
          "output_type": "execute_result",
          "data": {
            "text/plain": [
              "deque([6, 6, 6, 1, 2, 3, 4])"
            ]
          },
          "metadata": {},
          "execution_count": 6
        }
      ]
    },
    {
      "cell_type": "code",
      "metadata": {
        "colab": {
          "base_uri": "https://localhost:8080/"
        },
        "id": "_7BV6fE9R8x1",
        "outputId": "86084ba1-2bfd-4bcf-c7e1-8f640c152f66"
      },
      "source": [
        "a.pop()"
      ],
      "execution_count": 9,
      "outputs": [
        {
          "output_type": "execute_result",
          "data": {
            "text/plain": [
              "4"
            ]
          },
          "metadata": {},
          "execution_count": 9
        }
      ]
    },
    {
      "cell_type": "code",
      "metadata": {
        "colab": {
          "base_uri": "https://localhost:8080/"
        },
        "id": "wqdrNl_VR_Mm",
        "outputId": "0312c9c1-95da-4188-b8e2-e01992e99cea"
      },
      "source": [
        "  a"
      ],
      "execution_count": 10,
      "outputs": [
        {
          "output_type": "execute_result",
          "data": {
            "text/plain": [
              "deque([6, 1, 2, 3])"
            ]
          },
          "metadata": {},
          "execution_count": 10
        }
      ]
    },
    {
      "cell_type": "code",
      "metadata": {
        "colab": {
          "base_uri": "https://localhost:8080/"
        },
        "id": "HabmYnpaSDPQ",
        "outputId": "4568b0e2-d171-4603-993d-e5c719b95e6e"
      },
      "source": [
        "a.popleft()\n",
        "a"
      ],
      "execution_count": 11,
      "outputs": [
        {
          "output_type": "execute_result",
          "data": {
            "text/plain": [
              "deque([1, 2, 3])"
            ]
          },
          "metadata": {},
          "execution_count": 11
        }
      ]
    },
    {
      "cell_type": "markdown",
      "metadata": {
        "id": "X3nrfJakSQdt"
      },
      "source": [
        "Объекты deque в Python реализованы в виде двусвязных списков, что дает им отличную производительность для постановки в очередь и удаления из очереди, но низкую производительность O(n) для произвольного доступа к элементам в середине очереди."
      ]
    },
    {
      "cell_type": "markdown",
      "metadata": {
        "id": "egujPaF7SWHJ"
      },
      "source": [
        "#Как очереди устроены внутри Python"
      ]
    },
    {
      "cell_type": "markdown",
      "metadata": {
        "id": "_2o2o63rSVrc"
      },
      "source": [
        "В реализации CPython структура объекта deque выглядит следующим образом:"
      ]
    },
    {
      "cell_type": "code",
      "metadata": {
        "id": "UBgwrnMoSelc"
      },
      "source": [
        "typedef struct {\n",
        "    PyObject_VAR_HEAD\n",
        "    block *leftblock;\n",
        "    block *rightblock;\n",
        "    Py_ssize_t leftindex;\n",
        "    Py_ssize_t rightindex;\n",
        "    size_t state;\n",
        "    PyObject *weakreflist\n",
        "} dequeobject;"
      ],
      "execution_count": null,
      "outputs": []
    },
    {
      "cell_type": "markdown",
      "metadata": {
        "id": "D60Io_xJSgm6"
      },
      "source": [
        "где:\n",
        "\n",
        "PyObject_VAR_HEAD — C-макрос, который используется внутри CPython для структур с переменным количеством элементов;\n",
        "\n",
        "block *leftblock — указатель на левый блок, для добавления элементов слева;\n",
        "\n",
        "block *rightblock — аналогично, что и leftblock, но для добавления элементов справа;\n",
        "\n",
        "Py_ssize_t leftindex — индекс левого края объекта deque;\n",
        "\n",
        "Py_ssize_t rightindex — индекс правого края объекта deque;\n",
        "\n",
        "size_t state — переменная для отслеживания изменения индексов;\n",
        "\n",
        "PyObject *weakreflist — список ссылок для сборщика мусора."
      ]
    }
  ]
}