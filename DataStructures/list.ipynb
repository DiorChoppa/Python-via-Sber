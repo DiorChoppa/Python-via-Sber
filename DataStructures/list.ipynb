{
  "nbformat": 4,
  "nbformat_minor": 0,
  "metadata": {
    "colab": {
      "name": "list.ipynb",
      "provenance": []
    },
    "kernelspec": {
      "name": "python3",
      "display_name": "Python 3"
    },
    "language_info": {
      "name": "python"
    }
  },
  "cells": [
    {
      "cell_type": "code",
      "metadata": {
        "colab": {
          "base_uri": "https://localhost:8080/"
        },
        "id": "uN8x3O9YRj3U",
        "outputId": "2ec98283-3f0d-4c6b-cadc-d9601f97ff6c"
      },
      "source": [
        "list('новый список') # создание списка из строки"
      ],
      "execution_count": 1,
      "outputs": [
        {
          "output_type": "execute_result",
          "data": {
            "text/plain": [
              "['н', 'о', 'в', 'ы', 'й', ' ', 'с', 'п', 'и', 'с', 'о', 'к']"
            ]
          },
          "metadata": {},
          "execution_count": 1
        }
      ]
    },
    {
      "cell_type": "code",
      "metadata": {
        "colab": {
          "base_uri": "https://localhost:8080/"
        },
        "id": "4pPXLveWRreG",
        "outputId": "abdeab74-6d15-4694-be56-e6701281d47b"
      },
      "source": [
        "l = [1,23, [], {}, \"111\"]\n",
        "l[4] = \"omg\"\n",
        "l.pop(2)\n",
        "l"
      ],
      "execution_count": 2,
      "outputs": [
        {
          "output_type": "execute_result",
          "data": {
            "text/plain": [
              "[1, 23, {}, 'omg']"
            ]
          },
          "metadata": {},
          "execution_count": 2
        }
      ]
    },
    {
      "cell_type": "code",
      "metadata": {
        "colab": {
          "base_uri": "https://localhost:8080/"
        },
        "id": "b94sjG6aR4hT",
        "outputId": "17df94fa-5c97-44a8-ca18-3bda782f3ea3"
      },
      "source": [
        "squares = [x**2 for x in range(10)]\n",
        "squares"
      ],
      "execution_count": 4,
      "outputs": [
        {
          "output_type": "execute_result",
          "data": {
            "text/plain": [
              "[0, 1, 4, 9, 16, 25, 36, 49, 64, 81]"
            ]
          },
          "metadata": {},
          "execution_count": 4
        }
      ]
    },
    {
      "cell_type": "code",
      "metadata": {
        "colab": {
          "base_uri": "https://localhost:8080/"
        },
        "id": "RZCMkdjMSBcP",
        "outputId": "1b9b71a3-d5c0-4a9c-bb28-d1d2af3f7f2d"
      },
      "source": [
        "odds = [x for x in range(10) if x%2 != 0]\n",
        "odds"
      ],
      "execution_count": 6,
      "outputs": [
        {
          "output_type": "execute_result",
          "data": {
            "text/plain": [
              "[1, 3, 5, 7, 9]"
            ]
          },
          "metadata": {},
          "execution_count": 6
        }
      ]
    },
    {
      "cell_type": "code",
      "metadata": {
        "colab": {
          "base_uri": "https://localhost:8080/"
        },
        "id": "plWRsPscSMjf",
        "outputId": "f58fd6bc-d94e-4585-e56d-f75bdadf7a39"
      },
      "source": [
        "odds = [x**2 if x%2 == 0 else x**3 for x in range(10)]\n",
        "odds"
      ],
      "execution_count": 8,
      "outputs": [
        {
          "output_type": "execute_result",
          "data": {
            "text/plain": [
              "[0, 1, 4, 27, 16, 125, 36, 343, 64, 729]"
            ]
          },
          "metadata": {},
          "execution_count": 8
        }
      ]
    },
    {
      "cell_type": "code",
      "metadata": {
        "colab": {
          "base_uri": "https://localhost:8080/"
        },
        "id": "mLIlo2gKSifv",
        "outputId": "e1cbc203-9682-43f1-ea70-0920992cc600"
      },
      "source": [
        "second = [(x, y) for x in range(1, 5) for y in range(5, 1, -1) if x!= y]\n",
        "second"
      ],
      "execution_count": 9,
      "outputs": [
        {
          "output_type": "execute_result",
          "data": {
            "text/plain": [
              "[(1, 5),\n",
              " (1, 4),\n",
              " (1, 3),\n",
              " (1, 2),\n",
              " (2, 5),\n",
              " (2, 4),\n",
              " (2, 3),\n",
              " (3, 5),\n",
              " (3, 4),\n",
              " (3, 2),\n",
              " (4, 5),\n",
              " (4, 3),\n",
              " (4, 2)]"
            ]
          },
          "metadata": {},
          "execution_count": 9
        }
      ]
    },
    {
      "cell_type": "markdown",
      "metadata": {
        "id": "RPSiNFxvTOlR"
      },
      "source": [
        "####Объект списка представлен в виде следующей C-структуры:"
      ]
    },
    {
      "cell_type": "code",
      "metadata": {
        "id": "BqUo4bOwTVo-"
      },
      "source": [
        "typedef struct {\n",
        "    PyObject_VAR_HEAD\n",
        "    PyObject **ob_item;\n",
        "    Py_ssize_t allocated;\n",
        "} PyListObject;"
      ],
      "execution_count": null,
      "outputs": []
    },
    {
      "cell_type": "markdown",
      "metadata": {
        "id": "1-rXUfjNTOVz"
      },
      "source": [
        "где:\n",
        "\n",
        "PyObject_VAR_HEAD — C-макрос, который используется внутри CPython для структур с переменным количеством элементов;\n",
        "\n",
        "PyObject **ob_item — список указателей на элементы списка для быстрого доступа по индексу;\n",
        "\n",
        "Py_ssize_t allocated — константа, которая указывает на границу аллоцированной памяти. При добавлении нового элемента и превышении объема памяти будет произведен процесс выделения новой памяти для новых элементов."
      ]
    },
    {
      "cell_type": "markdown",
      "metadata": {
        "id": "kz3MOTzMTONs"
      },
      "source": [
        "sort —\tO(n log n)"
      ]
    }
  ]
}