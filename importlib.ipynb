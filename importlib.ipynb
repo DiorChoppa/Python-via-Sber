{
  "nbformat": 4,
  "nbformat_minor": 0,
  "metadata": {
    "colab": {
      "name": "importlib.ipynb",
      "provenance": []
    },
    "kernelspec": {
      "name": "python3",
      "display_name": "Python 3"
    },
    "language_info": {
      "name": "python"
    }
  },
  "cells": [
    {
      "cell_type": "markdown",
      "metadata": {
        "id": "P-J5nQGAJlis"
      },
      "source": [
        "#Модуль importlib"
      ]
    },
    {
      "cell_type": "markdown",
      "metadata": {
        "id": "Y6ceYirDJqX0"
      },
      "source": [
        "Данный модуль стандартной библиотеки python обеспечивает реализацию оператора import Python, а также функции \\_\\_import__().\n",
        "\n",
        "Позволяет динамически загружать модули и дает возможность создать собственный импортер для реализации кастомной загрузки модулей."
      ]
    },
    {
      "cell_type": "markdown",
      "metadata": {
        "id": "2i8xQ040JqQQ"
      },
      "source": [
        "__Динамический импорт__\n",
        "\n",
        "Importlib поддерживает динамическое импортирование модулей и позволяет загрузить модуль, имя которого было передано строкой."
      ]
    },
    {
      "cell_type": "markdown",
      "metadata": {
        "id": "MVV-KHdqlB8A"
      },
      "source": [
        "Например:"
      ]
    },
    {
      "cell_type": "code",
      "metadata": {
        "id": "7ykiuhRHJSP8"
      },
      "source": [
        "foo.py\n",
        "def main():\n",
        "    print(__name__)\n",
        "dynamic_import_module.py\n",
        "import importlib\n",
        "def dynamic_import(module):\n",
        "    return importlib.import_module(module)\n",
        "if __name__ == '__main__':\n",
        "    module = dynamic_import('foo')\n",
        "    module.main()"
      ],
      "execution_count": null,
      "outputs": []
    },
    {
      "cell_type": "markdown",
      "metadata": {
        "id": "7IgCONiIlFK7"
      },
      "source": [
        "Поиск модуля foo осуществляется по тем же правилам, что и при использовании оператора import.  \n",
        "\n",
        "Проверка на возможность импорта модуля осуществляется следующим образом:"
      ]
    },
    {
      "cell_type": "code",
      "metadata": {
        "id": "oAy1sLEulILy"
      },
      "source": [
        "import importlib.util\n",
        "def check_module(module_name):\n",
        "    module_spec = importlib.util.find_spec(module_name)\n",
        "    if module_spec is not None:\n",
        "        print('Module: {} can be imported!'.format(module_name))\n",
        "        return module_spec\n",
        "def import_module_from_spec(module_spec):\n",
        "    module = importlib.util.module_from_spec(module_spec)\n",
        "    module_spec.loader.exec_module(module)\n",
        "    return module\n",
        "if __name__ == '__main__':\n",
        "    module_spec = check_module('collections')\n",
        "    if module_spec:\n",
        "        module = import_module_from_spec(module_spec)\n",
        "        print(dir(module))"
      ],
      "execution_count": null,
      "outputs": []
    },
    {
      "cell_type": "markdown",
      "metadata": {
        "id": "JQp2ywfhlK1C"
      },
      "source": [
        "Если, используя importlib.import_module, на вход мы передавали строку, то тут мы сначала, используя importlib.util.find_spec, пробуем найти спецификацию модуля, а затем, если она найдена, используя importlib.util.module_from_spec, загружаем модуль и в module_spec.loader.exec_module исполняем его.\n",
        "\n",
        "Так же importlib поддерживает загрузку спецификации модуля по пути и имени."
      ]
    },
    {
      "cell_type": "code",
      "metadata": {
        "id": "x8CHAlVnlMtq"
      },
      "source": [
        "module_spec = importlib.util.spec_from_file_location(\n",
        "    module_name, module_file_path\n",
        ")"
      ],
      "execution_count": null,
      "outputs": []
    },
    {
      "cell_type": "markdown",
      "metadata": {
        "id": "XLsSlz-elOhx"
      },
      "source": [
        "Если спецификация найдена, модуль можно загрузить, используя известные механизмы из примера выше.\n",
        "\n",
        "Резюмируя, хочется отметить, что модуль importlib используется не часто, т.к. он привносит неявные (динамические) возможности подгрузки модулей, от этого он находит свое применения в задачах, когда необходимо выполнить какие-либо действия в момент загрузки модуля, хитро создать фабрику классов и т.д. Он может быть полезен при создании систем, которые на вход принимают python-файлы, проверяют их и исполняют, например, системы спортивного программирования — hackerrank.com и похожие."
      ]
    }
  ]
}