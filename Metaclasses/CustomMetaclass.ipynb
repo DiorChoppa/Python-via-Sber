{
  "nbformat": 4,
  "nbformat_minor": 0,
  "metadata": {
    "colab": {
      "name": "CustomMetaclass.ipynb",
      "provenance": []
    },
    "kernelspec": {
      "name": "python3",
      "display_name": "Python 3"
    },
    "language_info": {
      "name": "python"
    }
  },
  "cells": [
    {
      "cell_type": "markdown",
      "metadata": {
        "id": "Eh-y_iTl2cJT"
      },
      "source": [
        "#Собственный метакласс"
      ]
    },
    {
      "cell_type": "markdown",
      "metadata": {
        "id": "7E-RRw9a2e9T"
      },
      "source": [
        "Первое, с чего следует начать при создании собственного метакласса, это объявить новый класс, унаследовав его от type."
      ]
    },
    {
      "cell_type": "code",
      "metadata": {
        "id": "My-SKAdx2VjZ"
      },
      "source": [
        "class Meta(type):\n",
        "  def __new__(cls, name, bases, dct):\n",
        "    x = super().__new__(cls, name, bases, dct)\n",
        "    x.attr = 100\n",
        "    return x"
      ],
      "execution_count": 4,
      "outputs": []
    },
    {
      "cell_type": "markdown",
      "metadata": {
        "id": "lCGfJRqv2_jJ"
      },
      "source": [
        "В этом примере, помимо наследования, мы переопределяем метод \\_\\_new\\_\\_(). \n",
        "\n",
        "В строчке super().\\_\\_new\\_\\_(cls, name, bases, dct) создается объект type — это новый класс.\n",
        "\n",
        "В строчке x.attr = 100 новому классу присваивается уже встроенный атрибут attr = 100.\n",
        "\n",
        "В строчке return x возвращается новый класс.\n",
        "\n",
        "Теперь, чтобы новый пользовательский класс включил в себя особенности нового метакласса Meta, нужно сделать следующее:"
      ]
    },
    {
      "cell_type": "code",
      "metadata": {
        "colab": {
          "base_uri": "https://localhost:8080/"
        },
        "id": "s4Ziz_U_22Kx",
        "outputId": "09e4459b-b8e0-47e0-b87b-88549e1622e4"
      },
      "source": [
        "class Foo(metaclass=Meta):\n",
        "  pass\n",
        "\n",
        "f = Foo()\n",
        "print(f.attr)"
      ],
      "execution_count": 5,
      "outputs": [
        {
          "output_type": "stream",
          "name": "stdout",
          "text": [
            "100\n"
          ]
        }
      ]
    },
    {
      "cell_type": "markdown",
      "metadata": {
        "id": "WNGPbTWA3Ve8"
      },
      "source": [
        "Во время создания, используя ключевое слово metaclass, нужно указать, что класс Foo теперь использует не метакласс type, а метакласс Meta."
      ]
    },
    {
      "cell_type": "markdown",
      "metadata": {
        "id": "Z6byH5uO3YYa"
      },
      "source": [
        "__Когда следует создавать собственные метаклассы?__"
      ]
    },
    {
      "cell_type": "markdown",
      "metadata": {
        "id": "9l9Fdvgo3VTy"
      },
      "source": [
        "Учитывая богатый функционал Python с возможностью наследования (в том числе и множественного), использованием декораторов для обертки классов, остается все меньше места, чтобы однозначно ответить на вопрос, почему же следует создавать метакласс, а не базовый или абстрактный класс.\n",
        "\n",
        "Однако, если перед вами стоит задача внести общую логику для работы с целым набором классов, которые могут быть не связаны логически между собой, то в этом случае применение метаклассов может быть оправдано. \n",
        "\n",
        "Например, это может быть проверка на стилистически правильное именование констант и атрибутов в классе, добавление уникальных атрибутов для каждого класса, которое можно применить при логировании или записи в БД."
      ]
    }
  ]
}