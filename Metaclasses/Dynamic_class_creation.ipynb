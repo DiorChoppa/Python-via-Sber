{
  "nbformat": 4,
  "nbformat_minor": 0,
  "metadata": {
    "colab": {
      "name": "Dynamic-class-creation.ipynb",
      "provenance": []
    },
    "kernelspec": {
      "name": "python3",
      "display_name": "Python 3"
    },
    "language_info": {
      "name": "python"
    }
  },
  "cells": [
    {
      "cell_type": "markdown",
      "metadata": {
        "id": "yhhqN9h61QKl"
      },
      "source": [
        "#Динамическое создание классов"
      ]
    },
    {
      "cell_type": "markdown",
      "metadata": {
        "id": "Lq7lptW21T6H"
      },
      "source": [
        "Встроенная функция type() при передаче одного параметра возвращает тип объекта."
      ]
    },
    {
      "cell_type": "code",
      "metadata": {
        "colab": {
          "base_uri": "https://localhost:8080/"
        },
        "id": "0phquQU41VZm",
        "outputId": "a6d1df93-72e1-4be7-cc37-c2cb702e862e"
      },
      "source": [
        "type(3)"
      ],
      "execution_count": 1,
      "outputs": [
        {
          "output_type": "execute_result",
          "data": {
            "text/plain": [
              "int"
            ]
          },
          "metadata": {},
          "execution_count": 1
        }
      ]
    },
    {
      "cell_type": "code",
      "metadata": {
        "colab": {
          "base_uri": "https://localhost:8080/"
        },
        "id": "ivRc9S8f1ZJd",
        "outputId": "026f8e8a-772b-4e08-fb83-d5eecde8c983"
      },
      "source": [
        "type([1, 2, 3, 4, \"da\"])"
      ],
      "execution_count": 2,
      "outputs": [
        {
          "output_type": "execute_result",
          "data": {
            "text/plain": [
              "list"
            ]
          },
          "metadata": {},
          "execution_count": 2
        }
      ]
    },
    {
      "cell_type": "code",
      "metadata": {
        "colab": {
          "base_uri": "https://localhost:8080/"
        },
        "id": "BiZ4DTV_1bsz",
        "outputId": "52a13989-f9d8-462b-8e9a-38baed67a794"
      },
      "source": [
        "type((1, 2, 3))"
      ],
      "execution_count": 4,
      "outputs": [
        {
          "output_type": "execute_result",
          "data": {
            "text/plain": [
              "tuple"
            ]
          },
          "metadata": {},
          "execution_count": 4
        }
      ]
    },
    {
      "cell_type": "code",
      "metadata": {
        "colab": {
          "base_uri": "https://localhost:8080/"
        },
        "id": "zIUl1kbB1Y7l",
        "outputId": "5198e49a-c2fe-493a-c4ef-d137db593287"
      },
      "source": [
        "class Foo():\n",
        "  pass\n",
        "\n",
        "type(Foo())"
      ],
      "execution_count": 5,
      "outputs": [
        {
          "output_type": "execute_result",
          "data": {
            "text/plain": [
              "__main__.Foo"
            ]
          },
          "metadata": {},
          "execution_count": 5
        }
      ]
    },
    {
      "cell_type": "markdown",
      "metadata": {
        "id": "LLmK1a8k1T0U"
      },
      "source": [
        "Но на самом деле при вызове type() происходит создание нового класса, который является объектом метакласса type.\n",
        "\n",
        "Рассмотрим на примере, как можно динамически создать новый класс с помощью функции type()."
      ]
    },
    {
      "cell_type": "code",
      "metadata": {
        "colab": {
          "base_uri": "https://localhost:8080/"
        },
        "id": "JuA2QHpV0yut",
        "outputId": "00fb7585-b9dc-4179-e50f-b0eef3dd25b8"
      },
      "source": [
        "NewClass = type('NewClass', (), dict(attr=1))\n",
        "x = NewClass\n",
        "x.attr"
      ],
      "execution_count": 6,
      "outputs": [
        {
          "output_type": "execute_result",
          "data": {
            "text/plain": [
              "1"
            ]
          },
          "metadata": {},
          "execution_count": 6
        }
      ]
    },
    {
      "cell_type": "code",
      "metadata": {
        "colab": {
          "base_uri": "https://localhost:8080/"
        },
        "id": "eyjElxlI1_Nh",
        "outputId": "f74761d8-802f-40c1-82b2-136770099aee"
      },
      "source": [
        "x.__class__"
      ],
      "execution_count": 7,
      "outputs": [
        {
          "output_type": "execute_result",
          "data": {
            "text/plain": [
              "type"
            ]
          },
          "metadata": {},
          "execution_count": 7
        }
      ]
    },
    {
      "cell_type": "code",
      "metadata": {
        "colab": {
          "base_uri": "https://localhost:8080/"
        },
        "id": "GpNkuz8_2BjQ",
        "outputId": "034c952e-ca51-4fb7-b748-82275501069f"
      },
      "source": [
        "x.__class__.__bases__"
      ],
      "execution_count": 8,
      "outputs": [
        {
          "output_type": "execute_result",
          "data": {
            "text/plain": [
              "(object,)"
            ]
          },
          "metadata": {},
          "execution_count": 8
        }
      ]
    },
    {
      "cell_type": "markdown",
      "metadata": {
        "id": "3EWjoKCK2M7p"
      },
      "source": [
        "Здесь первый аргумент функции type() — имя класа, второй — кортеж базовых классов, третий — словарь аргументов."
      ]
    }
  ]
}