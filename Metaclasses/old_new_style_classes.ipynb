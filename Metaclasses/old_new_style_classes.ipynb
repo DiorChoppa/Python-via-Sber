{
  "nbformat": 4,
  "nbformat_minor": 0,
  "metadata": {
    "colab": {
      "name": "old-new-style-classes.ipynb",
      "provenance": []
    },
    "kernelspec": {
      "name": "python3",
      "display_name": "Python 3"
    },
    "language_info": {
      "name": "python"
    }
  },
  "cells": [
    {
      "cell_type": "markdown",
      "metadata": {
        "id": "FSrryzqpzK6F"
      },
      "source": [
        "#Old style / new style classes"
      ]
    },
    {
      "cell_type": "markdown",
      "metadata": {
        "id": "X5MUiQ_ezE_K"
      },
      "source": [
        "Метапрограммирование — это разработка программ, которая в результате своей работы создаёт другие программы и может влиять на всё семейство созданных программ."
      ]
    },
    {
      "cell_type": "markdown",
      "metadata": {
        "id": "tKsiNDumzVTn"
      },
      "source": [
        "В Python мы имеем подвид метапрограммирования, основанный на классах и называемых метаклассами. Во время ежедневной разработки вы и так их используете, просто они скрыты под капотом Python. В 99% случаев метаклассы не нужны, но понимание их работы имеет смысл, поскольку оно ведет к лучшему пониманию возможностей Python в целом и позволяет более элегантно решить задачу, когда это потребуется."
      ]
    },
    {
      "cell_type": "markdown",
      "metadata": {
        "id": "v_4TD0uVzYDz"
      },
      "source": [
        "__В Python, классы могут быть двух разновидностей: классы нового и старого стилей.__"
      ]
    },
    {
      "cell_type": "markdown",
      "metadata": {
        "id": "kqaXDNz5zkNU"
      },
      "source": [
        "В классах старого стиля (old style classes), тип и класс — это несколько разные вещи. Объект класса старого стиля всегда реализует встроенный тип instance. Но в то же время obj.\\_\\_class\\_\\_ возвращает конкретный класс, функция type(obj) возвращает instance."
      ]
    },
    {
      "cell_type": "code",
      "metadata": {
        "id": "AXYqGKuFy1Z3"
      },
      "source": [
        "#Пример для Python2:\n",
        "\n",
        ">>> class Foo:\n",
        "...    pass\n",
        "...\n",
        ">>> x = Foo()\n",
        ">>> x.__class__\n",
        "<class __main__.Foo at 0x000000000535CC48>\n",
        ">>> type(x)\n",
        "<type 'instance'>"
      ],
      "execution_count": null,
      "outputs": []
    },
    {
      "cell_type": "markdown",
      "metadata": {
        "id": "XpuCfhqbz_QD"
      },
      "source": [
        "В классах нового стиля (new style classes), понятия класс и тип унифицированы. Если obj — объект класса, то type(obj) - это obj.\\_\\_class\\_\\_():"
      ]
    },
    {
      "cell_type": "code",
      "metadata": {
        "id": "7yLv41Z90NFz"
      },
      "source": [
        "#Пример для Python3:\n",
        "\n",
        ">>> class Foo:\n",
        "...    pass\n",
        ">>> obj = Foo()\n",
        ">>> obj.__class__\n",
        "<class '__main__.Foo'>\n",
        ">>> type(obj)\n",
        "<class '__main__.Foo'>\n",
        ">>> obj.__class__ is type(obj)\n",
        "True"
      ],
      "execution_count": null,
      "outputs": []
    },
    {
      "cell_type": "markdown",
      "metadata": {
        "id": "PyNFDURO0KCn"
      },
      "source": [
        "В Python3 все классы являются классами нового стиля, поэтому правильно говорить о типе и классе объекта, как об одинаковых вещах.\n",
        "\n",
        "В Python2 все классы по умолчанию являются классами старого стиля, с версии 2.2 появились классы нового стиля, но для их объявления нужно явно наследовать класс от object."
      ]
    },
    {
      "cell_type": "code",
      "metadata": {
        "id": "6rcqKUZs0HvO"
      },
      "source": [
        "#Пример Python2:\n",
        "\n",
        ">>> class Foo:\n",
        "...    pass\n",
        "...\n",
        ">>> x = Foo()\n",
        ">>> type(x)\n",
        "<class '__main__.Foo'>\n",
        ">>> type(Foo)\n",
        "<class 'type'>"
      ],
      "execution_count": null,
      "outputs": []
    },
    {
      "cell_type": "markdown",
      "metadata": {
        "id": "qE_Jr5gB0m07"
      },
      "source": [
        "Как видно, все классы являются объектами класса type.\n",
        "\n",
        "Но в то же время класс type также является объектом класса type."
      ]
    },
    {
      "cell_type": "markdown",
      "metadata": {
        "id": "MfYREL2o0uiO"
      },
      "source": [
        "Type — это метакласс, объектами которого являются любые классы в Python, но в тоже время класс type является экземпляром метакласса type"
      ]
    }
  ]
}