{
  "nbformat": 4,
  "nbformat_minor": 0,
  "metadata": {
    "colab": {
      "name": "try-except.ipynb",
      "provenance": []
    },
    "kernelspec": {
      "name": "python3",
      "display_name": "Python 3"
    },
    "language_info": {
      "name": "python"
    }
  },
  "cells": [
    {
      "cell_type": "markdown",
      "metadata": {
        "id": "AiRnSZa-7YnT"
      },
      "source": [
        "#Ключевые слова try, except"
      ]
    },
    {
      "cell_type": "markdown",
      "metadata": {
        "id": "lLlpFwyT7iA2"
      },
      "source": [
        "Данные ключевые слова образуют блоки, внутри которых перехватываются исключения определенных типов."
      ]
    },
    {
      "cell_type": "markdown",
      "metadata": {
        "id": "yLnxz0W78Okc"
      },
      "source": [
        "Внутри try располагается «обычная» логика программы, внутри except — то, что нужно выполнить, если произошло исключение, например: логирование, запись в БД, прекращение работы и тд."
      ]
    },
    {
      "cell_type": "code",
      "metadata": {
        "colab": {
          "base_uri": "https://localhost:8080/"
        },
        "id": "zC2myPGy6gWI",
        "outputId": "f52d39c7-9919-4389-a093-400962756cf8"
      },
      "source": [
        "x = 5\n",
        "for i in range (-2, 3):\n",
        "  y = i\n",
        "  try:\n",
        "    print(x / y)\n",
        "  except ZeroDivisionError:\n",
        "    print(\"Ooops! Y is zero\")"
      ],
      "execution_count": 4,
      "outputs": [
        {
          "output_type": "stream",
          "name": "stdout",
          "text": [
            "-2.5\n",
            "-5.0\n",
            "Ooops! Y is zero\n",
            "5.0\n",
            "2.5\n"
          ]
        }
      ]
    },
    {
      "cell_type": "markdown",
      "metadata": {
        "id": "S-J-Vgi1855X"
      },
      "source": [
        "Хорошей практикой является явное использование классов исключений, в нашем случае __ZeroDivisionError__."
      ]
    },
    {
      "cell_type": "markdown",
      "metadata": {
        "id": "IjD4c6F29Cz-"
      },
      "source": [
        "Но параметр с классом исключения не является необязательным. Если он пропущен, то блок __try-except__ будет перехватывать все исключения, порожденные в коде, то есть по умолчанию возьмет класс __Exception__."
      ]
    },
    {
      "cell_type": "code",
      "metadata": {
        "id": "UaklRqgq8Zx6"
      },
      "source": [
        "try:\n",
        "  print(x / y)\n",
        "except:\n",
        "  print(\"I'll catch them all\")"
      ],
      "execution_count": null,
      "outputs": []
    },
    {
      "cell_type": "markdown",
      "metadata": {
        "id": "LsLGXV4j9Smx"
      },
      "source": [
        "Также можно использовать несколько классов исключений:"
      ]
    },
    {
      "cell_type": "code",
      "metadata": {
        "id": "v3VyAYTb9S15"
      },
      "source": [
        "try: \n",
        "    print( x / y)\n",
        "except ZeroDivisionError, ValueError, NumberError:\n",
        "    print(\"Ooops y is zero\")"
      ],
      "execution_count": null,
      "outputs": []
    },
    {
      "cell_type": "markdown",
      "metadata": {
        "id": "ZIz62L7V9cfw"
      },
      "source": [
        "Эти классы можно перечислить через запятую, но обычно используют конструкцию из нескольких блоков except, чтобы на каждый класс исключения реагировать уникально."
      ]
    },
    {
      "cell_type": "code",
      "metadata": {
        "id": "DcI8Oiqx9hNh"
      },
      "source": [
        "try: \n",
        "    print( x / y)\n",
        "except ZeroDivisionError:\n",
        "    print(\"Ooops y is ZeroDivisionError\")\n",
        "except ValueError:\n",
        "    print(\"Ooops y is ValueError\")\n",
        "except NumberError:\n",
        "    print(\"Ooops y is NumberError\")"
      ],
      "execution_count": null,
      "outputs": []
    },
    {
      "cell_type": "markdown",
      "metadata": {
        "id": "xr7xWyt99lIJ"
      },
      "source": [
        "При возникновении исключения идет проверка блоков except сверху вниз.\n",
        "\n",
        "Особенностью работы блока try является то, что исполнение кода идет только до первого исключения."
      ]
    },
    {
      "cell_type": "code",
      "metadata": {
        "id": "H1Mbjzjn9n2f"
      },
      "source": [
        "try: \n",
        "    print( x / y)\n",
        "    raise ValueError\n",
        "except ZeroDivisionError:\n",
        "    print(\"Ooops y is ZeroDivisionError\")\n",
        "except ValueError:\n",
        "    print(\"Ooops y is ValueError\")\n",
        "except NumberError:\n",
        "    print(\"Ooops y is NumberError\")"
      ],
      "execution_count": null,
      "outputs": []
    },
    {
      "cell_type": "markdown",
      "metadata": {
        "id": "5HRNWHQ591VH"
      },
      "source": [
        "Это означает, что конструкцией try-except лучше оборачивать только тот код, в котором может произойти исключение, в идеале — одну строчку.\n",
        "\n",
        "Также плохой практикой является использование внутри блока except ключевого слова pass, т.к. по сути — это подавление ошибки, что приводит к неуправляемому поведению в программе."
      ]
    },
    {
      "cell_type": "markdown",
      "metadata": {
        "id": "Eu2dIy_W96Wr"
      },
      "source": [
        "##Ключевое слово else в блоке try-except"
      ]
    },
    {
      "cell_type": "markdown",
      "metadata": {
        "id": "mYcqJ9GN-BVQ"
      },
      "source": [
        "Если вам необходимо выполнить какую-то дополнительную логику в случае, если исключение не произошло, то для этого в конструкции try-except можно использовать ключевое слово else."
      ]
    },
    {
      "cell_type": "code",
      "metadata": {
        "colab": {
          "base_uri": "https://localhost:8080/"
        },
        "id": "OpuDsqj495xa",
        "outputId": "2a54f43c-8289-495a-f2dc-27bd1bd29f8d"
      },
      "source": [
        "try: \n",
        "    print(x / y)\n",
        "except ZeroDivisionError:\n",
        "    print(\"Ooops y is ZeroDivisionError\")\n",
        "else:\n",
        "  print(\"No error\")"
      ],
      "execution_count": 9,
      "outputs": [
        {
          "output_type": "stream",
          "name": "stdout",
          "text": [
            "2.5\n",
            "No error\n"
          ]
        }
      ]
    },
    {
      "cell_type": "markdown",
      "metadata": {
        "id": "Gpr3sJgU-YMH"
      },
      "source": [
        "##Ключевое слово finally в блоке try-except"
      ]
    },
    {
      "cell_type": "markdown",
      "metadata": {
        "id": "pKZ7rFXm-jUo"
      },
      "source": [
        "Часто необходимо выполнить код в любом случае, когда произошло исключение или нет, например — закрыть соединение с БД, закрыть файл, если во время его обработки произошло исключение. Для таких случаев предусмотрено ключевое слово __finally__."
      ]
    },
    {
      "cell_type": "code",
      "metadata": {
        "colab": {
          "base_uri": "https://localhost:8080/"
        },
        "id": "6MpZetoa-NOd",
        "outputId": "1c95d3cc-197c-4d67-df6d-fdd2f6f09eab"
      },
      "source": [
        "try: \n",
        "    print(x / y)\n",
        "except ZeroDivisionError:\n",
        "    print(\"Ooops y is ZeroDivisionError\")\n",
        "else:\n",
        "  print(\"No error\")\n",
        "finally:\n",
        "  print(\"This code always run\")"
      ],
      "execution_count": 10,
      "outputs": [
        {
          "output_type": "stream",
          "name": "stdout",
          "text": [
            "2.5\n",
            "No error\n",
            "This code always run\n"
          ]
        }
      ]
    },
    {
      "cell_type": "markdown",
      "metadata": {
        "id": "Ad8bNfyd_HjD"
      },
      "source": [
        "Слова else и finally, в отличие от try-except, не являются обязательными и их использование ложится на усмотрение разработчика."
      ]
    }
  ]
}