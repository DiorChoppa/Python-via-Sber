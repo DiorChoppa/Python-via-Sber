{
  "nbformat": 4,
  "nbformat_minor": 0,
  "metadata": {
    "colab": {
      "name": "Custom-error-classes.ipynb",
      "provenance": []
    },
    "kernelspec": {
      "name": "python3",
      "display_name": "Python 3"
    },
    "language_info": {
      "name": "python"
    }
  },
  "cells": [
    {
      "cell_type": "markdown",
      "metadata": {
        "id": "QStFSPet4eD8"
      },
      "source": [
        "#Пользовательские классы ошибок"
      ]
    },
    {
      "cell_type": "markdown",
      "metadata": {
        "id": "B9gwmdy240zb"
      },
      "source": [
        "В Python существует большое количество встроенных классов исключений которых обычно достаточно для разработки. Но во время работы часто возникает необходимо отловить исключительную ситуацию, которая специфичная для конкретного проекта. Для этого можно создать собственный класс исключений:"
      ]
    },
    {
      "cell_type": "code",
      "metadata": {
        "id": "83GmG65w3qDv"
      },
      "source": [
        "class MyExceptionClass(Exception):\n",
        "  def __init__(self, text):\n",
        "    self.text = text"
      ],
      "execution_count": null,
      "outputs": []
    },
    {
      "cell_type": "markdown",
      "metadata": {
        "id": "4Owt09V15Gx4"
      },
      "source": [
        "Для определения собственных исключений, необходимо, чтобы они напрямую или опосредованно были наследниками класса __Exception__."
      ]
    },
    {
      "cell_type": "code",
      "metadata": {
        "colab": {
          "base_uri": "https://localhost:8080/"
        },
        "id": "hlCU19d95GQJ",
        "outputId": "1bfb4919-d458-436a-8bec-4eb7951f4765"
      },
      "source": [
        "class MyExceptionClass(Exception):\n",
        "  def __init__(self, text):\n",
        "    self.text = text\n",
        "  \n",
        "x = 10\n",
        "try:\n",
        "  if x == 10:\n",
        "    raise MyExceptionClass(\"This is custom Exception\")\n",
        "except MyExceptionClass as mec:\n",
        "  print(mec)"
      ],
      "execution_count": 4,
      "outputs": [
        {
          "output_type": "stream",
          "name": "stdout",
          "text": [
            "This is custom Exception\n"
          ]
        }
      ]
    },
    {
      "cell_type": "markdown",
      "metadata": {
        "id": "Jd-_a97W6SJM"
      },
      "source": [
        "В этом примере мы вызываем собственно исключение с помощью raise и перехватываем с помощью try-except. Так как внутри класса Exception переопределен метод __str__(), поэтому в блоке try-except мы можем распечатать объект класса через print(), а не обращаться к переменной txt."
      ]
    }
  ]
}