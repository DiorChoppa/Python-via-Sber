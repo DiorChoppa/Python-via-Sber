{
  "nbformat": 4,
  "nbformat_minor": 0,
  "metadata": {
    "colab": {
      "name": "СlassException.ipynb",
      "provenance": []
    },
    "kernelspec": {
      "name": "python3",
      "display_name": "Python 3"
    },
    "language_info": {
      "name": "python"
    }
  },
  "cells": [
    {
      "cell_type": "markdown",
      "metadata": {
        "id": "qfF3_XvS1hcZ"
      },
      "source": [
        "#Класс Exception, основные виды ошибок"
      ]
    },
    {
      "cell_type": "markdown",
      "metadata": {
        "id": "A4jdeo_U1o89"
      },
      "source": [
        "##Exception"
      ]
    },
    {
      "cell_type": "markdown",
      "metadata": {
        "id": "s0KIgKbw13JT"
      },
      "source": [
        "Ошибки во время исполнения программы в Python принято называть exception или исключением.\n",
        "\n",
        "Такие ситуации характеризуются неверной логикой работы программы и говорят о том, что не все возможные ситуации обработаны корректно."
      ]
    },
    {
      "cell_type": "code",
      "metadata": {
        "colab": {
          "base_uri": "https://localhost:8080/",
          "height": 164
        },
        "id": "0Ca-66uS1Zd_",
        "outputId": "5e3ffd97-a15b-42ea-99d2-892081dabc61"
      },
      "source": [
        "print(0 / 0)"
      ],
      "execution_count": 1,
      "outputs": [
        {
          "output_type": "error",
          "ename": "ZeroDivisionError",
          "evalue": "ignored",
          "traceback": [
            "\u001b[0;31m---------------------------------------------------------------------------\u001b[0m",
            "\u001b[0;31mZeroDivisionError\u001b[0m                         Traceback (most recent call last)",
            "\u001b[0;32m<ipython-input-1-b6c088d31521>\u001b[0m in \u001b[0;36m<module>\u001b[0;34m()\u001b[0m\n\u001b[0;32m----> 1\u001b[0;31m \u001b[0mprint\u001b[0m\u001b[0;34m(\u001b[0m\u001b[0;36m0\u001b[0m \u001b[0;34m/\u001b[0m \u001b[0;36m0\u001b[0m\u001b[0;34m)\u001b[0m\u001b[0;34m\u001b[0m\u001b[0;34m\u001b[0m\u001b[0m\n\u001b[0m",
            "\u001b[0;31mZeroDivisionError\u001b[0m: division by zero"
          ]
        }
      ]
    },
    {
      "cell_type": "markdown",
      "metadata": {
        "id": "q41kiafa2I7M"
      },
      "source": [
        "Тут происходит деление на 0, что приводит к весьма очевидному исключению. Если бы в знаменателе вместо нуля была переменная, это говорило бы разработчику, что нужно добавить проверку на это краевое условие.\n",
        "\n",
        "Но не только Python может порождать исключения во время работы программы, разработчик, используя ключевое слово __raise__ может побудить собственное исключение:"
      ]
    },
    {
      "cell_type": "code",
      "metadata": {
        "colab": {
          "base_uri": "https://localhost:8080/",
          "height": 198
        },
        "id": "L_IvHelh15Wk",
        "outputId": "166cd877-f494-46ad-c601-07e2b311120f"
      },
      "source": [
        "x = 10\n",
        "if x > 5:\n",
        "  raise Exception('x should not exceed 5. The value of x was: {}'.format(x))"
      ],
      "execution_count": 4,
      "outputs": [
        {
          "output_type": "error",
          "ename": "Exception",
          "evalue": "ignored",
          "traceback": [
            "\u001b[0;31m---------------------------------------------------------------------------\u001b[0m",
            "\u001b[0;31mException\u001b[0m                                 Traceback (most recent call last)",
            "\u001b[0;32m<ipython-input-4-7521dc40b910>\u001b[0m in \u001b[0;36m<module>\u001b[0;34m()\u001b[0m\n\u001b[1;32m      1\u001b[0m \u001b[0mx\u001b[0m \u001b[0;34m=\u001b[0m \u001b[0;36m10\u001b[0m\u001b[0;34m\u001b[0m\u001b[0;34m\u001b[0m\u001b[0m\n\u001b[1;32m      2\u001b[0m \u001b[0;32mif\u001b[0m \u001b[0mx\u001b[0m \u001b[0;34m>\u001b[0m \u001b[0;36m5\u001b[0m\u001b[0;34m:\u001b[0m\u001b[0;34m\u001b[0m\u001b[0;34m\u001b[0m\u001b[0m\n\u001b[0;32m----> 3\u001b[0;31m   \u001b[0;32mraise\u001b[0m \u001b[0mException\u001b[0m\u001b[0;34m(\u001b[0m\u001b[0;34m'x should not exceed 5. The value of x was: {}'\u001b[0m\u001b[0;34m.\u001b[0m\u001b[0mformat\u001b[0m\u001b[0;34m(\u001b[0m\u001b[0mx\u001b[0m\u001b[0;34m)\u001b[0m\u001b[0;34m)\u001b[0m\u001b[0;34m\u001b[0m\u001b[0;34m\u001b[0m\u001b[0m\n\u001b[0m",
            "\u001b[0;31mException\u001b[0m: x should not exceed 5. The value of x was: 10"
          ]
        }
      ]
    },
    {
      "cell_type": "markdown",
      "metadata": {
        "id": "cXEVa2mx2kNT"
      },
      "source": [
        "После __raise__ не обязательно должен идти класс исключения, но это является распространенной практикой, т.к. позволяет более точно описать исключительную ситуацию в системе.\n",
        "\n",
        "В Python базовым классом для исключений является класс __BaseException__."
      ]
    },
    {
      "cell_type": "code",
      "metadata": {
        "id": "ihahC6yA2VMM"
      },
      "source": [
        "BaseException\n",
        " +-- SystemExit\n",
        " +-- KeyboardInterrupt\n",
        " +-- GeneratorExit\n",
        " +-- Exception\n",
        "      +-- StopIteration\n",
        "      +-- StopAsyncIteration\n",
        "      ...\n",
        "      +-- Warning"
      ],
      "execution_count": null,
      "outputs": []
    },
    {
      "cell_type": "markdown",
      "metadata": {
        "id": "J8vO0VIU20ZJ"
      },
      "source": [
        "__SystemExit__ — исключение, порождаемое функцией __sys.exit()__ при выходе из программы.\n",
        "\n",
        "__KeyboardInterrupt__ — прерывание программы пользователем (обычно с помощью __Ctrl+C__).\n",
        "\n",
        "__GeneratorExit__ порождается при вызове метода __close()__ объекта __generator__.\n",
        "\n",
        "__Exception__ является базовым классом для исключений, отличных от системных (__SystemExit__, __KeyboardInterrupt__, __GeneratorExit__).\n",
        "\n",
        "Также от этого класса должны быть унаследован пользовательский класс при создании собственного класса исключения."
      ]
    }
  ]
}