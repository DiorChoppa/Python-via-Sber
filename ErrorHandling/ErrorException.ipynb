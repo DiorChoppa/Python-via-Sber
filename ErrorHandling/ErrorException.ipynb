{
  "nbformat": 4,
  "nbformat_minor": 0,
  "metadata": {
    "colab": {
      "name": "ErrorException.ipynb",
      "provenance": []
    },
    "kernelspec": {
      "name": "python3",
      "display_name": "Python 3"
    },
    "language_info": {
      "name": "python"
    }
  },
  "cells": [
    {
      "cell_type": "markdown",
      "metadata": {
        "id": "4tia21uqzsln"
      },
      "source": [
        "#Синтаксические ошибки"
      ]
    },
    {
      "cell_type": "markdown",
      "metadata": {
        "id": "mBFq-8l0z7w5"
      },
      "source": [
        "В Python, как и во многих других языках программирования, программа приостанавливает свою работу, если происходит ошибка, обработка которой не предусмотрена в программе. "
      ]
    },
    {
      "cell_type": "markdown",
      "metadata": {
        "id": "81ja1JTX0A_o"
      },
      "source": [
        "В Python можно выделить два типа ошибок:\n",
        "\n",
        "* Синтаксические ошибки, которые происходят из-за ошибок в синтаксисе Python.\n",
        "* Ошибки во время исполнения программы — они же исключения."
      ]
    },
    {
      "cell_type": "markdown",
      "metadata": {
        "id": "ib_OJYGR0agC"
      },
      "source": [
        "__Частые ошибки, которые преследуют разработчика во время программирования, — это синтаксические.__"
      ]
    },
    {
      "cell_type": "markdown",
      "metadata": {
        "id": "uSDULcw60i5p"
      },
      "source": [
        "Они обычно происходят из-за невнимательности — лишняя скобка, микс пробелов и табов в файле, орфографические ошибки при написании операторов и т.д."
      ]
    },
    {
      "cell_type": "code",
      "metadata": {
        "colab": {
          "base_uri": "https://localhost:8080/",
          "height": 130
        },
        "id": "f4OC7jRtzDaR",
        "outputId": "6ddc3a19-2b89-4897-bad7-636b3ca1355d"
      },
      "source": [
        "print(0 / 0))"
      ],
      "execution_count": 1,
      "outputs": [
        {
          "output_type": "error",
          "ename": "SyntaxError",
          "evalue": "ignored",
          "traceback": [
            "\u001b[0;36m  File \u001b[0;32m\"<ipython-input-1-b786f13d5138>\"\u001b[0;36m, line \u001b[0;32m1\u001b[0m\n\u001b[0;31m    print(0 / 0))\u001b[0m\n\u001b[0m                ^\u001b[0m\n\u001b[0;31mSyntaxError\u001b[0m\u001b[0;31m:\u001b[0m invalid syntax\n"
          ]
        }
      ]
    },
    {
      "cell_type": "markdown",
      "metadata": {
        "id": "rnjvPajS0orE"
      },
      "source": [
        "Это произошло из-за лишней скобки в функции print().\n",
        "\n",
        "Такие ошибки быстро исправляются, а PyCharm имеет встроенную аналитику синтаксиса, что позволяет до запуска программы исправить допущенные неточности."
      ]
    }
  ]
}