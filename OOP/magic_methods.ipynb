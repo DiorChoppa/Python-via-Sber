{
  "nbformat": 4,
  "nbformat_minor": 0,
  "metadata": {
    "colab": {
      "name": "magic-methods.ipynb",
      "provenance": []
    },
    "kernelspec": {
      "name": "python3",
      "display_name": "Python 3"
    },
    "language_info": {
      "name": "python"
    }
  },
  "cells": [
    {
      "cell_type": "markdown",
      "metadata": {
        "id": "QHb6Z7yj99ug"
      },
      "source": [
        "#Магические методы"
      ]
    },
    {
      "cell_type": "markdown",
      "metadata": {
        "id": "JTd-K8EP99m9"
      },
      "source": [
        "Магические методы — это специальные методы, которые имеют двойное подчеркивание в начале и в конце своих имен.\n",
        "\n",
        "Эти методы не вызываются вручную, Python это делает за нас.\n",
        "\n",
        "Речь о идет о возможности совершать операции == , in, <= , >= и другие, которые так удобны при работе со встроенными классами."
      ]
    },
    {
      "cell_type": "markdown",
      "metadata": {
        "id": "XXAV33m499Yw"
      },
      "source": [
        "\\_\\_init__ — инициализация объекта класса\n",
        "\n",
        "\\_\\_del__(self) — вызывается, когда сборщик мусора удаляет объект\n",
        "\n",
        "\\_\\_str__(self) — когда вызывается функция str() применимо к объекту класса\n",
        "\n",
        "\\_\\_eq__(self, other) — сравнение объекта через ==\n",
        "\n",
        "\\_\\_add__(self, other) — сложение через +\n",
        "\n",
        "\\_\\_sub__(self, other) — вычитание через -\n",
        "\n",
        "\\_\\_int__(self) — преобразование объекта функцией int()\n",
        "\n",
        "\\_\\_hash__(self) — определение хеша объекта при вызове функции hash()\n",
        "\n",
        "\\_\\_len__(self) — количество элементов в контейнере объекта"
      ]
    },
    {
      "cell_type": "code",
      "metadata": {
        "colab": {
          "base_uri": "https://localhost:8080/"
        },
        "id": "BG25kt2L9ftq",
        "outputId": "dcd66ed4-33c5-4f4d-db9a-5c2553c6faba"
      },
      "source": [
        "class Person:\n",
        "  def __init__(self, name, age):\n",
        "    self.__name = name\n",
        "    self.__age = age\n",
        "  def __str__(self):\n",
        "    return self.__name + \"/\" + str(self.__age)\n",
        "\n",
        "p = Person(\"Bob\", 24)\n",
        "print(str(p))"
      ],
      "execution_count": 2,
      "outputs": [
        {
          "output_type": "stream",
          "name": "stdout",
          "text": [
            "Bob/24\n"
          ]
        }
      ]
    }
  ]
}