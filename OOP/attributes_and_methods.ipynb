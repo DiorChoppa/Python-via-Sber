{
  "nbformat": 4,
  "nbformat_minor": 0,
  "metadata": {
    "colab": {
      "name": "attributes-and-methods.ipynb",
      "provenance": []
    },
    "kernelspec": {
      "name": "python3",
      "display_name": "Python 3"
    },
    "language_info": {
      "name": "python"
    }
  },
  "cells": [
    {
      "cell_type": "markdown",
      "metadata": {
        "id": "taJBJ3JSE2zQ"
      },
      "source": [
        "###Создание класса"
      ]
    },
    {
      "cell_type": "code",
      "metadata": {
        "id": "WONU47x7Bs8L"
      },
      "source": [
        "class Cat(object):\n",
        "    pass"
      ],
      "execution_count": null,
      "outputs": []
    },
    {
      "cell_type": "markdown",
      "metadata": {
        "id": "bCgLSyHlE7HO"
      },
      "source": [
        "###Атрибуты объекта"
      ]
    },
    {
      "cell_type": "code",
      "metadata": {
        "id": "3bzdXWIIE6r5"
      },
      "source": [
        "class Auto:\n",
        "  def __init__(self, model, year):\n",
        "    self.model = model\n",
        "    self.year = year"
      ],
      "execution_count": null,
      "outputs": []
    },
    {
      "cell_type": "markdown",
      "metadata": {
        "id": "Jhb7B10DFkxq"
      },
      "source": [
        "где:\n",
        "\n",
        "self — это указатель на сам объект;\n",
        "\n",
        "model, year — это переменные, которые передаются внутрь объекта при вызове метода __init__(). Они могут быть числами, строками, другими классами, функциями, объектами и т.д.;\n",
        "\n",
        "self.model = model и self.year = year — это создание атрибута объекта.\n",
        "\n",
        "Метод не нужно специально вызывать, он вызывается автоматически при создании объекта класса."
      ]
    },
    {
      "cell_type": "markdown",
      "metadata": {
        "id": "Vdvon-ixGKLi"
      },
      "source": [
        "###Атрибуты класса"
      ]
    },
    {
      "cell_type": "code",
      "metadata": {
        "id": "p9At33CiFlVn"
      },
      "source": [
        "class Auto:\n",
        "  wheel_count = 4\n",
        "  def __init__(self, model, year):\n",
        "    self.model = model\n",
        "    self.year = year"
      ],
      "execution_count": 1,
      "outputs": []
    },
    {
      "cell_type": "code",
      "metadata": {
        "id": "avGG5QnGGadF"
      },
      "source": [
        "new_mercedes_auto = Auto(model=\"Mercedes\", year=\"2021\")"
      ],
      "execution_count": 2,
      "outputs": []
    },
    {
      "cell_type": "markdown",
      "metadata": {
        "id": "a6OLEpiCGKXL"
      },
      "source": [
        "###Методы объекта"
      ]
    },
    {
      "cell_type": "code",
      "metadata": {
        "id": "aubvb7jnHBwK"
      },
      "source": [
        "class Auto:\n",
        "  wheel_count = 4\n",
        "  def __init__(self, model, year):\n",
        "    self.model = model\n",
        "    self.year = year\n",
        "\n",
        "  def print_model(self):\n",
        "    print(self.model)\n",
        "\n",
        "  def set_year(self, new_year=\"2022\"):\n",
        "    self.year = new_year"
      ],
      "execution_count": 3,
      "outputs": []
    },
    {
      "cell_type": "markdown",
      "metadata": {
        "id": "GvucRxccGKaX"
      },
      "source": [
        "Можно использовать переменное количество аргументов:"
      ]
    },
    {
      "cell_type": "code",
      "metadata": {
        "id": "xkDfys2XIKuq"
      },
      "source": [
        "def set_year(self, *args, **kwargs):\n",
        "  pass"
      ],
      "execution_count": null,
      "outputs": []
    },
    {
      "cell_type": "markdown",
      "metadata": {
        "id": "L24-kYTGIvNB"
      },
      "source": [
        "###Методы класса"
      ]
    },
    {
      "cell_type": "code",
      "metadata": {
        "id": "sQbEL_6TIxCh"
      },
      "source": [
        "class MyClass:\n",
        "  class_const = \"new const\"\n",
        "\n",
        "  @classmethod\n",
        "  def method(cls, arg):\n",
        "    print('classmethod - %s %s' % (arg, cls.class_const ))"
      ],
      "execution_count": 4,
      "outputs": []
    },
    {
      "cell_type": "markdown",
      "metadata": {
        "id": "4BWT5Cm8JhZx"
      },
      "source": [
        "В Python, чтобы создать метод класса, нужно использовать декоратор @classmethod и первым аргументом передавать не self, как в случае с объектом, а cls — то есть указатель на сам класс.\n",
        "\n",
        "Как и в случае с методами объектов, вызов метода класса не подразумевает явной передачи аргумента cls:"
      ]
    },
    {
      "cell_type": "code",
      "metadata": {
        "colab": {
          "base_uri": "https://localhost:8080/"
        },
        "id": "_-7RNw6tJgy0",
        "outputId": "55b44335-4c0f-4198-a348-b8c924d8b8a4"
      },
      "source": [
        "MyClass.method(\"call class method\")"
      ],
      "execution_count": 5,
      "outputs": [
        {
          "output_type": "stream",
          "name": "stdout",
          "text": [
            "classmethod - call class method new const\n"
          ]
        }
      ]
    },
    {
      "cell_type": "markdown",
      "metadata": {
        "id": "ZuJ5sul-JyKe"
      },
      "source": [
        "Особенностью использования классовых методов является возможность получить доступ к переменным класса.\n",
        "\n",
        "На практике классовые методы создаются для операций над классовыми атрибутами, то есть те случаи, когда создание объекта не нужно."
      ]
    },
    {
      "cell_type": "markdown",
      "metadata": {
        "id": "PnMxzQSNJ1ci"
      },
      "source": [
        "###Декоратор @staticmethod"
      ]
    },
    {
      "cell_type": "markdown",
      "metadata": {
        "id": "6JJjbcIfKB_J"
      },
      "source": [
        "@staticmethod — это возможность в Python сделать статический метод, т.е. метод, который можно вызвать как используя класс, так и используя объект класса, но при этом в первом случае нет доступа к переменным класса, а во втором нет доступа к переменным объекта."
      ]
    },
    {
      "cell_type": "code",
      "metadata": {
        "colab": {
          "base_uri": "https://localhost:8080/"
        },
        "id": "S3tHTrd0Jolu",
        "outputId": "54eab473-1ebe-4314-a943-70149c21e4b0"
      },
      "source": [
        "class Calculator:\n",
        "  @staticmethod\n",
        "  def sum(x, y):\n",
        "    return x + y\n",
        "\n",
        "c = Calculator()\n",
        "\n",
        "print(c.sum(2, 2))\n",
        "print(Calculator.sum(1, 2))"
      ],
      "execution_count": 6,
      "outputs": [
        {
          "output_type": "stream",
          "name": "stdout",
          "text": [
            "4\n",
            "3\n"
          ]
        }
      ]
    },
    {
      "cell_type": "markdown",
      "metadata": {
        "id": "TRrL3mtBLlvn"
      },
      "source": [
        "###Декоратор @property"
      ]
    },
    {
      "cell_type": "markdown",
      "metadata": {
        "id": "JhS7Pmr5Lpnd"
      },
      "source": [
        "@property — это возможность Python преобразовать метод класса в атрибут с доступом только для чтения. "
      ]
    },
    {
      "cell_type": "code",
      "metadata": {
        "id": "rsFe4xWtLfJU"
      },
      "source": [
        "class Student:\n",
        "  def __init__(self, fullname):\n",
        "    self._full_name = fullname\n",
        "\n",
        "  @property\n",
        "  def fullname(self):\n",
        "    return self._full_name\n",
        "\n",
        "  @fullname.setter\n",
        "  def fullname(self, value):\n",
        "    seld._full_name = value\n",
        "\n",
        "\n",
        "s = Student(\"Tom Hanks\")\n",
        "print(s.fullname)\n",
        "s.fullname = \"Bob Dylan\"\n",
        "print(s.fullname)"
      ],
      "execution_count": 7,
      "outputs": []
    },
    {
      "cell_type": "markdown",
      "metadata": {
        "id": "xkquaucCLlLF"
      },
      "source": [
        "В этом примере мы, используя @property, делаем доступ для внутреннего атрибута _full_name, используя конструкцию @<метод обернутый property>.setter, устанавливаем возможность изменять этот атрибут."
      ]
    }
  ]
}