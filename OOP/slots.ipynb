{
  "nbformat": 4,
  "nbformat_minor": 0,
  "metadata": {
    "colab": {
      "name": "Slots.ipynb",
      "provenance": []
    },
    "kernelspec": {
      "name": "python3",
      "display_name": "Python 3"
    },
    "language_info": {
      "name": "python"
    }
  },
  "cells": [
    {
      "cell_type": "markdown",
      "metadata": {
        "id": "Gk0whz_eGkHs"
      },
      "source": [
        "#Слоты"
      ]
    },
    {
      "cell_type": "markdown",
      "metadata": {
        "id": "DqWDTTL4GkAN"
      },
      "source": [
        "Внутри классов Python, неявно для разработчика, создает словарь, в котором хранятся все атрибуты класса. Это позволяет модифицировать атрибуты объекта в ходе работы программы."
      ]
    },
    {
      "cell_type": "code",
      "metadata": {
        "colab": {
          "base_uri": "https://localhost:8080/"
        },
        "id": "SOgdIEsvGf3a",
        "outputId": "dcd3ba01-b331-4f29-87e5-21adc05e0013"
      },
      "source": [
        "class Person:\n",
        "  def __init__(self, name, age):\n",
        "    self.name = name\n",
        "    self.age = age\n",
        "  def __str__(self):\n",
        "    return self.name + \"/\" + str(self.age)\n",
        "  \n",
        "p = Person(\"Bob\", 24)\n",
        "print(p.__dict__)"
      ],
      "execution_count": 1,
      "outputs": [
        {
          "output_type": "stream",
          "name": "stdout",
          "text": [
            "{'name': 'Bob', 'age': 24}\n"
          ]
        }
      ]
    },
    {
      "cell_type": "markdown",
      "metadata": {
        "id": "Un0_h-eBHhgy"
      },
      "source": [
        "Но в некоторых случаях, когда создается большое количество небольших объектов, это может быть затратно по памяти. Решить проблему лишнего потребления памяти, а также возможность зафиксировать количество атрибутов в классе, позволяют слоты — \\_\\_slots__ .\n",
        "\n",
        "В \\_\\_slots__ могут быть перечислены атрибуты, для значений которых требуется зарезервировать место, при этом словарь __dict__ не будет создан, вместо него будет использовать кортеж."
      ]
    },
    {
      "cell_type": "code",
      "metadata": {
        "colab": {
          "base_uri": "https://localhost:8080/",
          "height": 198
        },
        "id": "MDas7aPcH2wr",
        "outputId": "b1ac6406-b026-48eb-e24d-b908d8f14a83"
      },
      "source": [
        "class Person:\n",
        "  __slots__ = (\"name\", \"age\")\n",
        "  def __init__(self, name, age):\n",
        "    self.name = name\n",
        "    self.age = age\n",
        "  def __str__(self):\n",
        "    return self.name + \"/\" + str(self.age)\n",
        "\n",
        "p = Person(\"Bob\", 24)\n",
        "print(p.__dict__)"
      ],
      "execution_count": 4,
      "outputs": [
        {
          "output_type": "error",
          "ename": "AttributeError",
          "evalue": "ignored",
          "traceback": [
            "\u001b[0;31m---------------------------------------------------------------------------\u001b[0m",
            "\u001b[0;31mAttributeError\u001b[0m                            Traceback (most recent call last)",
            "\u001b[0;32m<ipython-input-4-77ace8c6d4e2>\u001b[0m in \u001b[0;36m<module>\u001b[0;34m()\u001b[0m\n\u001b[1;32m      8\u001b[0m \u001b[0;34m\u001b[0m\u001b[0m\n\u001b[1;32m      9\u001b[0m \u001b[0mp\u001b[0m \u001b[0;34m=\u001b[0m \u001b[0mPerson\u001b[0m\u001b[0;34m(\u001b[0m\u001b[0;34m\"Bob\"\u001b[0m\u001b[0;34m,\u001b[0m \u001b[0;36m24\u001b[0m\u001b[0;34m)\u001b[0m\u001b[0;34m\u001b[0m\u001b[0;34m\u001b[0m\u001b[0m\n\u001b[0;32m---> 10\u001b[0;31m \u001b[0mprint\u001b[0m\u001b[0;34m(\u001b[0m\u001b[0mp\u001b[0m\u001b[0;34m.\u001b[0m\u001b[0m__dict__\u001b[0m\u001b[0;34m)\u001b[0m\u001b[0;34m\u001b[0m\u001b[0;34m\u001b[0m\u001b[0m\n\u001b[0m",
            "\u001b[0;31mAttributeError\u001b[0m: 'Person' object has no attribute '__dict__'"
          ]
        }
      ]
    },
    {
      "cell_type": "code",
      "metadata": {
        "colab": {
          "base_uri": "https://localhost:8080/"
        },
        "id": "vcda3xeCJVV8",
        "outputId": "844463f5-85e5-4d9a-f7ba-1d0ebe197aa6"
      },
      "source": [
        "class Person:\n",
        "  __slots__ = (\"name\", \"age\")\n",
        "  def __init__(self, name, age):\n",
        "    self.name = name\n",
        "    self.age = age\n",
        "  \n",
        "  def __str__(self):\n",
        "    return self.name + \"/\" + str(self.age)\n",
        "\n",
        "p = Person(\"Bob\", 24)\n",
        "print(p.__slots__)\n",
        "print(type(p.__slots__))"
      ],
      "execution_count": 8,
      "outputs": [
        {
          "output_type": "stream",
          "name": "stdout",
          "text": [
            "('name', 'age')\n",
            "<class 'tuple'>\n"
          ]
        }
      ]
    },
    {
      "cell_type": "markdown",
      "metadata": {
        "id": "Qm9YvHg6JTVy"
      },
      "source": [
        "Также слоты удобно применять в те моменты, когда класс разработан и его дальнейшее расширение не планируется, это может послужить дополнительной информацией для других разработчиков системы."
      ]
    }
  ]
}