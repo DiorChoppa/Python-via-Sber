{
  "nbformat": 4,
  "nbformat_minor": 0,
  "metadata": {
    "colab": {
      "name": "Inheritance.ipynb",
      "provenance": []
    },
    "kernelspec": {
      "name": "python3",
      "display_name": "Python 3"
    },
    "language_info": {
      "name": "python"
    }
  },
  "cells": [
    {
      "cell_type": "markdown",
      "metadata": {
        "id": "o-CTJiznfnHK"
      },
      "source": [
        "#Наследование"
      ]
    },
    {
      "cell_type": "markdown",
      "metadata": {
        "id": "AV6hK54AftRx"
      },
      "source": [
        "Наследование — это принцип ООП, позволяющий описать новый класс на основе уже существующего.\n",
        "<br>Класс, от которого производится наследование, называется базовым или родительским. Новый класс — потомком, наследником или производным классом. При этом класс-наследник получает в свое распоряжение методы и переменные базового класса."
      ]
    },
    {
      "cell_type": "markdown",
      "metadata": {
        "id": "ofogK_YUhkIL"
      },
      "source": [
        "В python3 все классы неявно наследуются от класса object:"
      ]
    },
    {
      "cell_type": "code",
      "metadata": {
        "colab": {
          "base_uri": "https://localhost:8080/"
        },
        "id": "53Jb4Q_RfAkj",
        "outputId": "a522c377-eb97-4f0e-f2ef-fce4e0334554"
      },
      "source": [
        "class MyClass:\n",
        "  pass\n",
        "  \n",
        "c = MyClass()\n",
        "dir(c)"
      ],
      "execution_count": null,
      "outputs": [
        {
          "output_type": "execute_result",
          "data": {
            "text/plain": [
              "['__class__',\n",
              " '__delattr__',\n",
              " '__dict__',\n",
              " '__dir__',\n",
              " '__doc__',\n",
              " '__eq__',\n",
              " '__format__',\n",
              " '__ge__',\n",
              " '__getattribute__',\n",
              " '__gt__',\n",
              " '__hash__',\n",
              " '__init__',\n",
              " '__init_subclass__',\n",
              " '__le__',\n",
              " '__lt__',\n",
              " '__module__',\n",
              " '__ne__',\n",
              " '__new__',\n",
              " '__reduce__',\n",
              " '__reduce_ex__',\n",
              " '__repr__',\n",
              " '__setattr__',\n",
              " '__sizeof__',\n",
              " '__str__',\n",
              " '__subclasshook__',\n",
              " '__weakref__']"
            ]
          },
          "metadata": {},
          "execution_count": 2
        }
      ]
    },
    {
      "cell_type": "markdown",
      "metadata": {
        "id": "5uKTILdliCSr"
      },
      "source": [
        "То есть все пользовательские классы уже имеют набор стандартных переменных и методов:"
      ]
    },
    {
      "cell_type": "code",
      "metadata": {
        "id": "OZkpEWT2iFBE"
      },
      "source": [
        "class Cat:\n",
        "\n",
        "  def __init__(self, first_name, last_name=\"Cat\"):\n",
        "    self.first_name = first_name\n",
        "    self.last_name = last_name\n",
        "\n",
        "  def meow(self):\n",
        "    print(\"The cat is meow.\")"
      ],
      "execution_count": null,
      "outputs": []
    },
    {
      "cell_type": "markdown",
      "metadata": {
        "id": "_kRowVfYiivY"
      },
      "source": [
        "Создали базовый класс Cat и определили несколько методов:"
      ]
    },
    {
      "cell_type": "code",
      "metadata": {
        "colab": {
          "base_uri": "https://localhost:8080/"
        },
        "id": "HJfV2PMdiiJG",
        "outputId": "751df2d4-4a4d-49cb-82db-8e27f54e760f"
      },
      "source": [
        "class Savannah(Cat):\n",
        "  pass\n",
        "\n",
        "savannah = Savannah(\"Lisa\")\n",
        "print(savannah.first_name + ' ' + savannah.last_name)\n",
        "savannah.meow()"
      ],
      "execution_count": null,
      "outputs": [
        {
          "output_type": "stream",
          "name": "stdout",
          "text": [
            "Lisa Cat\n",
            "The cat is meow.\n"
          ]
        }
      ]
    },
    {
      "cell_type": "markdown",
      "metadata": {
        "id": "LRZ4l4yHiCw7"
      },
      "source": [
        "Создали новый класс Savannah и унаследовали от класса Cat, видим, что при вызове исполняются методы базового класса. Но данный пример очень простой, так как обычно при наследовании программист переопределяет методы базового класса и пишет свои, тем самым расширяя функционал. Но при конструировании родительских и дочерних классов важно учитывать дизайн программы, чтобы переопределение не приводило к ненужному или избыточному коду:"
      ]
    },
    {
      "cell_type": "code",
      "metadata": {
        "id": "CWZkTx-CjWQO"
      },
      "source": [
        "class Lion(Cat):\n",
        "  def __init__(self, first_name, last_name=\"Cat\",\n",
        "               color=\"white\", location=\"Russia\"):\n",
        "    self.first_name = first_name\n",
        "    self.last_name = last_name\n",
        "    self.color = color\n",
        "    self.location = location\n",
        "\n",
        "  def print_tiger_location(self):\n",
        "      print(self.location)"
      ],
      "execution_count": null,
      "outputs": []
    },
    {
      "cell_type": "markdown",
      "metadata": {
        "id": "mz7aK8lMiC0O"
      },
      "source": [
        "В данном примере есть одна особенность, мы просто сделали наследование от класса Cat, при этом мы полностью переопределили \\_\\_init__. Но часто бывает удобно сначала вызвать метод базового класса, а затем дополнить его логикой класса наследника:"
      ]
    },
    {
      "cell_type": "markdown",
      "metadata": {
        "id": "qpbj258HlMun"
      },
      "source": [
        "Тут нам поможет ключевое слово super, которое позволяет обратиться к классу-предку, вызвать его метод и передать в него необходимые аргументы.\n",
        "\n",
        "Помимо наследования с одним предком, Python поддерживает множественное наследование — это когда класс может наследовать атрибуты и методы от нескольких родительских классов."
      ]
    },
    {
      "cell_type": "code",
      "metadata": {
        "id": "HilqPLYQkXDe"
      },
      "source": [
        "class Tiger(Cat):\n",
        "  def __init__(self, first_name, last_name=\"Cat\",\n",
        "               color=\"orange_with_black\", location=\"Russia\"):\n",
        "    super().__init__(first_name, last_name)\n",
        "    self.color = color\n",
        "    self.location = location\n",
        "\n",
        "  def print_tiger_location(self):\n",
        "      print(self.location)"
      ],
      "execution_count": null,
      "outputs": []
    },
    {
      "cell_type": "markdown",
      "metadata": {
        "id": "bRSotPOMiC3g"
      },
      "source": [
        "Также существует частный случай множественного наследования, когда методы и атрибуты родительских классов не перекрывают друг друга — это называется MixIn."
      ]
    },
    {
      "cell_type": "code",
      "metadata": {
        "id": "fLyxcsRelY0S"
      },
      "source": [
        "class FlyingDuck:\n",
        "\n",
        "  def fly(self):\n",
        "    print(\"I'm flying duck!\")\n",
        "\n",
        "class RedDuck:\n",
        "\n",
        "  def color(self):\n",
        "    return(\"red\")\n",
        "\n",
        "class RedFlyingDuck(FlyingDuck, RedDuck):\n",
        "  pass"
      ],
      "execution_count": null,
      "outputs": []
    },
    {
      "cell_type": "markdown",
      "metadata": {
        "id": "H4J_z6mbiC6e"
      },
      "source": [
        "Опасность, которую несет множественное наследование, — это шанс запутаться, так в этом случае Python применяет принцип MRO для вызова метода базовых классов. Также код становится тяжело поддерживаемым, т.к. изменения в одном из классов-родителей могут быть критичны для классов-наследников."
      ]
    },
    {
      "cell_type": "markdown",
      "metadata": {
        "id": "IQ-6sVjoiDB3"
      },
      "source": [
        "#Method Resolution Order (MRO)\n",
        "Method Resolution Order (MRO) — это порядок, в котором Python ищет метод в иерархии классов."
      ]
    },
    {
      "cell_type": "markdown",
      "metadata": {
        "id": "bXtBdlvuiDFg"
      },
      "source": [
        ""
      ]
    },
    {
      "cell_type": "code",
      "metadata": {
        "colab": {
          "base_uri": "https://localhost:8080/"
        },
        "id": "Vlje3TNXh7Ea",
        "outputId": "773e1e79-39ee-4685-a1e3-95ae1d371939"
      },
      "source": [
        "class A:\n",
        "    def process(self):\n",
        "        print(\"A process()\")\n",
        "\n",
        "class B:\n",
        "    pass\n",
        "\n",
        "class C(A, B):\n",
        "    pass\n",
        "\n",
        "obj = C()     \n",
        "print(C.mro())"
      ],
      "execution_count": null,
      "outputs": [
        {
          "output_type": "stream",
          "name": "stdout",
          "text": [
            "[<class '__main__.C'>, <class '__main__.A'>, <class '__main__.B'>, <class 'object'>]\n"
          ]
        }
      ]
    },
    {
      "cell_type": "markdown",
      "metadata": {
        "id": "Bo8bmShesYsW"
      },
      "source": [
        "Тут нам поможет ключевое слово __super__, которое позволяет обратиться к классу-предку, вызвать его метод и передать в него необходимые аргументы.\n",
        "\n",
        "Помимо наследования с одним предком, Python поддерживает множественное наследование — это когда класс может наследовать атрибуты и методы от нескольких родительских классов."
      ]
    },
    {
      "cell_type": "markdown",
      "metadata": {
        "id": "e7Cnlf5vnHMP"
      },
      "source": [
        "Метод mro(), доступный по умолчания для классов, возвращает список, в котором он будет искать метод для выполнения, в случае, если метод не будет найден, произойдет ошибка.<br>На этом примере мы можем видеть, что поиск происходит слева направо."
      ]
    },
    {
      "cell_type": "code",
      "metadata": {
        "colab": {
          "base_uri": "https://localhost:8080/"
        },
        "id": "8Y5N3BzDnIk8",
        "outputId": "0c8a196c-e29c-4672-9185-df06351de582"
      },
      "source": [
        "class A:\n",
        "    def process(self):\n",
        "        print(\"A process()\")\n",
        "\n",
        "class B:\n",
        "    def process(self):\n",
        "        print(\"B process()\")\n",
        "\n",
        "class C(A, B):\n",
        "    def process(self):\n",
        "        print(\"C process()\")\n",
        "\n",
        "class D(C,B):\n",
        "    pass\n",
        "\n",
        "obj = D()\n",
        "print(D.mro())"
      ],
      "execution_count": null,
      "outputs": [
        {
          "output_type": "stream",
          "name": "stdout",
          "text": [
            "[<class '__main__.D'>, <class '__main__.C'>, <class '__main__.A'>, <class '__main__.B'>, <class 'object'>]\n"
          ]
        }
      ]
    },
    {
      "cell_type": "markdown",
      "metadata": {
        "id": "gafPItx_ndZf"
      },
      "source": [
        "Тут мы идем в глубину сначала по дереву первого предка, потом, т.к. предок B есть у класса C, повторно он не вызывается."
      ]
    },
    {
      "cell_type": "code",
      "metadata": {
        "id": "_GGDIwsTnW_F"
      },
      "source": [
        "class A:\n",
        "    def process(self):\n",
        "        print(\"A process()\")\n",
        "\n",
        "class B(A):\n",
        "    pass\n",
        "\n",
        "class C(A):\n",
        "    def process(self):\n",
        "        print(\"C process()\")\n",
        "\n",
        "class D(B,C):\n",
        "    pass\n",
        "\n",
        "obj = D()"
      ],
      "execution_count": null,
      "outputs": []
    },
    {
      "cell_type": "code",
      "metadata": {
        "colab": {
          "base_uri": "https://localhost:8080/"
        },
        "id": "3O6WSckGnbsb",
        "outputId": "ab27ca17-aedb-4c8a-bde0-137841a79ec0"
      },
      "source": [
        "D.mro()"
      ],
      "execution_count": null,
      "outputs": [
        {
          "output_type": "execute_result",
          "data": {
            "text/plain": [
              "[__main__.D, __main__.B, __main__.C, __main__.A, object]"
            ]
          },
          "metadata": {},
          "execution_count": 13
        }
      ]
    },
    {
      "cell_type": "markdown",
      "metadata": {
        "id": "qVAAuf84n2f-"
      },
      "source": [
        "В данном случае Python применяет хитрость и следующим образом меняет классы для поиска:\n",
        "\n",
        "D -> B -> A -> C -> A\n",
        "\n",
        "D -> B-> A -> object -> C -> A -> object\n",
        "\n",
        "D -> B -> C -> A -> object"
      ]
    },
    {
      "cell_type": "markdown",
      "metadata": {
        "id": "0Fg6UhtVn6iV"
      },
      "source": [
        "Наследование — это инструмент на котором держится грамотное проектирование системы, это умение выделить базовые сущности и, на их основе, сделать наследников, которые будут нести более узкоспециализированный функционал.\n",
        "\n",
        "Множественное наследование обычно не применяется, так как приводит к ошибкам и усложнению кода. Единственные случаи, когда это оправдано, наследование от интерфейсов / абстрактных классов, которые не несут конкретной реализации, при этом базовые классы для наследника должны быть максимально различны, чтобы не было пересечений по методам или переменным."
      ]
    }
  ]
}