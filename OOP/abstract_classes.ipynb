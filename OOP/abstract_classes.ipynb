{
  "nbformat": 4,
  "nbformat_minor": 0,
  "metadata": {
    "colab": {
      "name": "Abstract-classes.ipynb",
      "provenance": []
    },
    "kernelspec": {
      "name": "python3",
      "display_name": "Python 3"
    },
    "language_info": {
      "name": "python"
    }
  },
  "cells": [
    {
      "cell_type": "markdown",
      "metadata": {
        "id": "WgMrJV8m5Wbe"
      },
      "source": [
        "####Абстрагирование — это выделение набора значимых характеристик сущности.\n",
        "Абстракция — это набор всех таких характеристик."
      ]
    },
    {
      "cell_type": "markdown",
      "metadata": {
        "id": "Js9Ae5Cy5jKC"
      },
      "source": [
        "Абстрактным называется класс, который содержит один и более абстрактных методов. Абстрактным называется объявленный, но не реализованный метод. Невозможно создать объекты абстрактных классов, от них нужно отнаследоваться и реализовать все их абстрактные методы, и только тогда можно создать экземпляр такого класса. В Python отсутствует встроенная поддержка абстрактных классов, для этой цели используется модуль __abc__ (Abstract Base Class):"
      ]
    },
    {
      "cell_type": "code",
      "metadata": {
        "colab": {
          "base_uri": "https://localhost:8080/"
        },
        "id": "D5gitAU_5MHg",
        "outputId": "38585dc7-d43c-4ee4-cc20-e32355b3c500"
      },
      "source": [
        "from abc import ABC, abstractmethod\n",
        "\n",
        "class ChessPiece(ABC):\n",
        "  # общий метод, который будут наследовать все наследники этого класса\n",
        "  def draw(self):\n",
        "    print(\"Drew a chess piece.\")\n",
        "\n",
        "  # абстрактный метод, который необходимо будет переопределять для каждого наследника\n",
        "  @abstractmethod\n",
        "  def move(self):\n",
        "    pass\n",
        "\n",
        "#a = ChessPiece() # получим ошибку\n",
        "\n",
        "# мы можем создать экземпляр класса\n",
        "class Queen(ChessPiece):\n",
        "  def move(self):\n",
        "    print(\"Movet Queen to e2e4\")\n",
        "\n",
        "q = Queen()\n",
        "\n",
        "# и нам доступны все методы класса\n",
        "q.draw()\n",
        "q.move()"
      ],
      "execution_count": 2,
      "outputs": [
        {
          "output_type": "stream",
          "name": "stdout",
          "text": [
            "Drew a chess piece.\n",
            "Movet Queen to e2e4\n"
          ]
        }
      ]
    },
    {
      "cell_type": "markdown",
      "metadata": {
        "id": "QeC2lSC18bBa"
      },
      "source": [
        "Абстрактный метод может быть реализован сразу в абстрактном классе, однако декоратор __abstractmethod__ обязует в классе-наследнике реализовать собственную версию метода, либо дополнить существующую."
      ]
    },
    {
      "cell_type": "code",
      "metadata": {
        "colab": {
          "base_uri": "https://localhost:8080/"
        },
        "id": "mGtwd_Bs7ef7",
        "outputId": "7e618397-4be5-43c4-906a-581ea8abe8d2"
      },
      "source": [
        "from abc import ABC, abstractmethod\n",
        "\n",
        "class Basic(ABC):\n",
        "  @abstractmethod\n",
        "  def hello(self):\n",
        "    print(\"Hello from Basic class\")\n",
        "\n",
        "class Advanced(Basic):\n",
        "  def hello(self):\n",
        "    super().hello()\n",
        "    print(\"Enriched fuctionality\")\n",
        "\n",
        "a = Advanced()\n",
        "a.hello()"
      ],
      "execution_count": 4,
      "outputs": [
        {
          "output_type": "stream",
          "name": "stdout",
          "text": [
            "Hello from Basic class\n",
            "Enriched fuctionality\n"
          ]
        }
      ]
    },
    {
      "cell_type": "markdown",
      "metadata": {
        "id": "GBy86IPv9KUk"
      },
      "source": [
        "Таким образом, используя концепцию абстрактных классов, мы можем улучшить архитектуру приложения, уменьшить объем работы и при этом, упростить дальнейшую поддержку кода."
      ]
    }
  ]
}
