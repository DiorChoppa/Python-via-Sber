{
  "nbformat": 4,
  "nbformat_minor": 0,
  "metadata": {
    "colab": {
      "name": "Incapsulation.ipynb",
      "provenance": []
    },
    "kernelspec": {
      "name": "python3",
      "display_name": "Python 3"
    },
    "language_info": {
      "name": "python"
    }
  },
  "cells": [
    {
      "cell_type": "markdown",
      "metadata": {
        "id": "DhN09g6RW5wy"
      },
      "source": [
        "#Инкапсуляция"
      ]
    },
    {
      "cell_type": "markdown",
      "metadata": {
        "id": "QoKUrYprcn5m"
      },
      "source": [
        "Инкапсуляцию правильно рассматривать с двух точек зрения:\n",
        "\n",
        "Это связь данных с методами, которые эти данные используют.\n",
        "Это управление доступом к данным и методам, которые эти данные используют.\n",
        "Объяснение инкапсуляции как связи простое — это может быть любой класс, в котором существуют атрибуты и существуют методы, которые эти атрибуты используют. Ведь никто не запрещает создать класс без пользовательских методов и класс с методами, но без пользовательских переменных.\n",
        "\n",
        "Конечно, обычно инкапсуляцию подразумевают как управление доступом к методам и данным. Доступ в этом случае — это возможность видеть / изменять атрибуты и методы класса. \n",
        "\n",
        "В Python можно выделить три уровня доступа данным:\n",
        "\n",
        "public — доступно всем;\n",
        "private — доступно только внутри класса;\n",
        "protected — доступно внутри класса и внутри классов наследников.\n",
        "Уровень public — это уровень по умолчанию, не нужно использовать особые конструкции, чтобы сделать атрибут или метод публичным. См. пример класса Auto.\n",
        "\n",
        "Чтобы сделать атрибут или метод protected, нужно добавить один символ _ перед названием:"
      ]
    },
    {
      "cell_type": "code",
      "metadata": {
        "id": "rV_l35_HW4pw"
      },
      "source": [
        "class Auto:\n",
        "  wheel_count = 4\n",
        "  def __init__(self, model, year, price):\n",
        "    self.model = model\n",
        "    self.year = year\n",
        "    self._price = price"
      ],
      "execution_count": 3,
      "outputs": []
    },
    {
      "cell_type": "markdown",
      "metadata": {
        "id": "z-Qf_J5adEMF"
      },
      "source": [
        "Чтобы сделать атрибут или метод private, нужно добавить два символа __ перед названием:"
      ]
    },
    {
      "cell_type": "code",
      "metadata": {
        "id": "b5T1Abracl_X"
      },
      "source": [
        "class Auto:\n",
        "  wheel_count = 4\n",
        "  def __init__(self, model, year, price, model_description):\n",
        "    self.model = model\n",
        "    self.year = year\n",
        "    self._price = price\n",
        "    self.__secret_description = model_description"
      ],
      "execution_count": 4,
      "outputs": []
    },
    {
      "cell_type": "markdown",
      "metadata": {
        "id": "Cbu5ROnFdfMt"
      },
      "source": [
        "Хотя при прямом доступе и произойдет ошибка, в Python регулирование инкапсуляции — это лишь условность и договоренность:"
      ]
    },
    {
      "cell_type": "code",
      "metadata": {
        "colab": {
          "base_uri": "https://localhost:8080/"
        },
        "id": "vXjqViI4dcJQ",
        "outputId": "672a0569-0ca7-421a-89dd-4858a461969a"
      },
      "source": [
        "class BankCard:\n",
        "  __serial_number = \"1111 2222 3333 4444\" # private-переменная\n",
        "  __cvv = 999 # private-переменная\n",
        "\n",
        "  def __get_pin(self): # private-метод\n",
        "    print(\"My pin is: \", self.__cvv)\n",
        "\n",
        "b_card = BankCard()\n",
        "b_card._BankCard__get_pin()\n",
        "b_card._BankCard__serial_number = \"5555 6666 7777 8888\"\n",
        "print(\"My serial number is: \", b_card._BankCard__serial_number)"
      ],
      "execution_count": 5,
      "outputs": [
        {
          "output_type": "stream",
          "name": "stdout",
          "text": [
            "My pin is:  999\n",
            "My serial number is:  5555 6666 7777 8888\n"
          ]
        }
      ]
    },
    {
      "cell_type": "markdown",
      "metadata": {
        "id": "K_Ky9G2ze2Yo"
      },
      "source": [
        "Проектируя классы, нужно заранее думать, какие атрибуты и методы оставить публичными, а какие закрыть, ведь не нужно отдавать все внутренности на доступ другим разработчикам. \n",
        "\n",
        "И хоть в Python регулирование доступа — это договоренность, соблюдение ее всеми членами команды необходима и является хорошим тоном."
      ]
    }
  ]
}