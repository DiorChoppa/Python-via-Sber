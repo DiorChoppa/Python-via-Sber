{
  "nbformat": 4,
  "nbformat_minor": 0,
  "metadata": {
    "colab": {
      "name": "decorators.ipynb",
      "provenance": []
    },
    "kernelspec": {
      "name": "python3",
      "display_name": "Python 3"
    },
    "language_info": {
      "name": "python"
    }
  },
  "cells": [
    {
      "cell_type": "markdown",
      "metadata": {
        "id": "Hdgtq8hZtANj"
      },
      "source": [
        "Декоратор — это в первую очередь структурный шаблон проектирования, предназначенный для динамического подключения дополнительного поведения к объекту."
      ]
    },
    {
      "cell_type": "markdown",
      "metadata": {
        "id": "I0_199LMtDaC"
      },
      "source": [
        "В Python этот механизм вынесен на уровень синтаксического сахара благодаря нескольким особенностям языка.\n",
        "\n",
        "1. Функция - это объект, ее можно присвоить переменной:"
      ]
    },
    {
      "cell_type": "code",
      "metadata": {
        "colab": {
          "base_uri": "https://localhost:8080/"
        },
        "id": "VD6gWyDgs2VZ",
        "outputId": "fa3334ff-b3bb-4714-9535-1b983947aae3"
      },
      "source": [
        "def example(p1 = \"test\"):\n",
        "  return p1\n",
        "\n",
        "print(example())\n",
        "var =  example\n",
        "print(var())"
      ],
      "execution_count": 2,
      "outputs": [
        {
          "output_type": "stream",
          "name": "stdout",
          "text": [
            "test\n",
            "test\n"
          ]
        }
      ]
    },
    {
      "cell_type": "markdown",
      "metadata": {
        "id": "Zx4l_UFwtaYz"
      },
      "source": [
        "2. Функция может быть определена внутри другой функции: "
      ]
    },
    {
      "cell_type": "code",
      "metadata": {
        "colab": {
          "base_uri": "https://localhost:8080/"
        },
        "id": "24P-kk4rtTtY",
        "outputId": "80cf32f2-f4cc-4f4e-c908-15a5d975254d"
      },
      "source": [
        "def example():\n",
        "  def under_ft(p1):\n",
        "    print(p1)\n",
        "  print(under_ft(\"test\"))\n",
        "\n",
        "example()"
      ],
      "execution_count": 3,
      "outputs": [
        {
          "output_type": "stream",
          "name": "stdout",
          "text": [
            "test\n",
            "None\n"
          ]
        }
      ]
    },
    {
      "cell_type": "markdown",
      "metadata": {
        "id": "LRT2LqJ6t7xC"
      },
      "source": [
        "3. Функция может вернуть функцию как результат своей работы:"
      ]
    },
    {
      "cell_type": "code",
      "metadata": {
        "colab": {
          "base_uri": "https://localhost:8080/"
        },
        "id": "r01r3jditr2L",
        "outputId": "72694ecd-389b-4359-f24d-5a2810eb41b1"
      },
      "source": [
        "def example():\n",
        "  def under_ft(p1):\n",
        "    print(p1)\n",
        "  return under_ft\n",
        "\n",
        "var = example()\n",
        "print(var(\"test\"))"
      ],
      "execution_count": 5,
      "outputs": [
        {
          "output_type": "stream",
          "name": "stdout",
          "text": [
            "test\n",
            "None\n"
          ]
        }
      ]
    },
    {
      "cell_type": "markdown",
      "metadata": {
        "id": "iRPJiKo4uUeA"
      },
      "source": [
        "4. Функция может принимать другую функцию в качестве входного параметра:"
      ]
    },
    {
      "cell_type": "code",
      "metadata": {
        "colab": {
          "base_uri": "https://localhost:8080/"
        },
        "id": "7vSxI9qmt-F1",
        "outputId": "0bc7ba04-76be-44d3-861f-75825e2c184b"
      },
      "source": [
        "def prt():\n",
        "  print(\"I'm just printing\")\n",
        "\n",
        "def example(func):\n",
        "  print(\"1st\")\n",
        "  func()\n",
        "  print(\"print after func\")\n",
        "\n",
        "example(prt)"
      ],
      "execution_count": 19,
      "outputs": [
        {
          "output_type": "stream",
          "name": "stdout",
          "text": [
            "1st\n",
            "I'm just printing\n",
            "print after func\n"
          ]
        }
      ]
    },
    {
      "cell_type": "markdown",
      "metadata": {
        "id": "9YULSvZ8uxUI"
      },
      "source": [
        "Комбинируя вышеперечисленные особенности, можно создать \"свой\" декоратор, не прибегая к сахару Python:"
      ]
    },
    {
      "cell_type": "code",
      "metadata": {
        "colab": {
          "base_uri": "https://localhost:8080/"
        },
        "id": "99Wwy589ucBz",
        "outputId": "c93eb8d6-a68b-432c-916f-f06fcfdeec3a"
      },
      "source": [
        "def self_decorator(function_to_decorate):\n",
        "  def wrap_original_function():\n",
        "    print(\"before\")\n",
        "    function_to_decorate()\n",
        "    print(\"after\")\n",
        "  return wrap_original_function\n",
        "  \n",
        "def easy_ft():\n",
        "  print(\"I'm just printing this\")\n",
        "\n",
        "decorated_ft = self_decorator(easy_ft)\n",
        "decorated_ft()"
      ],
      "execution_count": 3,
      "outputs": [
        {
          "output_type": "stream",
          "name": "stdout",
          "text": [
            "before\n",
            "I'm just printing this\n",
            "after\n"
          ]
        }
      ]
    },
    {
      "cell_type": "markdown",
      "metadata": {
        "id": "nKJ-0imiwAxP"
      },
      "source": [
        "Но, используя синтаксис декораторов, можно переписать предыдущий пример более коротко:"
      ]
    },
    {
      "cell_type": "code",
      "metadata": {
        "colab": {
          "base_uri": "https://localhost:8080/"
        },
        "id": "PXBkkGT1wBKy",
        "outputId": "fe128ad2-0fa0-4b87-bcc4-a54cdf444629"
      },
      "source": [
        "@self_decorator\n",
        "def easy_ft():\n",
        "  print(\"I'm just printing this\")\n",
        "easy_ft()"
      ],
      "execution_count": 4,
      "outputs": [
        {
          "output_type": "stream",
          "name": "stdout",
          "text": [
            "before\n",
            "I'm just printing this\n",
            "after\n"
          ]
        }
      ]
    },
    {
      "cell_type": "markdown",
      "metadata": {
        "id": "Bd-cGYB1whBt"
      },
      "source": [
        "Конечно, можно использовать не только одну функцию в качестве декоратора, а использовать целую иерархию декораторов:"
      ]
    },
    {
      "cell_type": "code",
      "metadata": {
        "colab": {
          "base_uri": "https://localhost:8080/"
        },
        "id": "JUdIvhtlwFrH",
        "outputId": "98e97e4c-2ac4-45a2-f73a-35478732f64c"
      },
      "source": [
        "@memory_decorator\n",
        "@time_decorator\n",
        "@self_decorator\n",
        "def easy_ft():\n",
        "  print(\"Im just printing this\")"
      ],
      "execution_count": 8,
      "outputs": [
        {
          "output_type": "stream",
          "name": "stdout",
          "text": [
            "\n"
          ]
        }
      ]
    },
    {
      "cell_type": "markdown",
      "metadata": {
        "id": "SeE70-YqzCEZ"
      },
      "source": [
        "При этом важен порядок. Функция easy_ft() будет обернута сначала __@self_decorator__, затем __@time_decorator__, потом __@memory_decorator__."
      ]
    },
    {
      "cell_type": "markdown",
      "metadata": {
        "id": "OcZYYg-izB7L"
      },
      "source": [
        "Т.к. внутри декораторов лежат функции Python, можно легко передавать аргументы внутрь декорируемой функции:"
      ]
    },
    {
      "cell_type": "code",
      "metadata": {
        "colab": {
          "base_uri": "https://localhost:8080/"
        },
        "id": "Gu99I_EWwxoC",
        "outputId": "2e728d73-8416-430a-a422-b743a7664f3a"
      },
      "source": [
        "def self_decorator(ft):\n",
        "  def wrap_original_ft(before_arg, after_arg):\n",
        "    print(before_arg)\n",
        "    ft(before_arg, after_arg)\n",
        "    print(after_arg)\n",
        "  return wrap_original_ft\n",
        "\n",
        "@self_decorator\n",
        "def easy_function(before_arg, after_arg):\n",
        "  print(\"my args\", before_arg, after_arg)\n",
        "\n",
        "easy_function(\"this is before\", \"this is after\")"
      ],
      "execution_count": 9,
      "outputs": [
        {
          "output_type": "stream",
          "name": "stdout",
          "text": [
            "this is before\n",
            "my args this is before this is after\n",
            "this is after\n"
          ]
        }
      ]
    },
    {
      "cell_type": "markdown",
      "metadata": {
        "id": "S6aPMAvkuBMs"
      },
      "source": [
        "Конечно, более логичным является использование *args, **kwargs, для применения декоратора к любым функциям:"
      ]
    },
    {
      "cell_type": "code",
      "metadata": {
        "id": "3Lb_shdftzXt"
      },
      "source": [
        "def self_decorator(ft):\n",
        "  def wrap_original_ft(*args, **kwargs):\n",
        "    ft(*args, **kwargs)\n",
        "  return wrap_original_ft"
      ],
      "execution_count": null,
      "outputs": []
    },
    {
      "cell_type": "markdown",
      "metadata": {
        "id": "YmO5PqPmuekG"
      },
      "source": [
        "Логично было предположить возможность передать аргументы в декоратор — ведь это функция. Такие декораторы называют — параметризированные декораторы:"
      ]
    },
    {
      "cell_type": "code",
      "metadata": {
        "colab": {
          "base_uri": "https://localhost:8080/"
        },
        "id": "d0rSToIqufET",
        "outputId": "cb1b4040-7593-4406-f0e6-6dd62475c628"
      },
      "source": [
        "def parametrized_decorator(arg1, arg2):\n",
        "  print(\"my decorator args\", arg1, arg2)\n",
        "  def custom_decorator(ft):\n",
        "    def wrapped(ft_arg1, ft_arg2):\n",
        "      return ft(ft_arg1, ft_arg2)\n",
        "    return wrapped\n",
        "  return custom_decorator\n",
        "\n",
        "@parametrized_decorator(\"test1\", \"test2\")\n",
        "def easy_function(ft_arg1, ft_arg2):\n",
        "  print(ft_arg1, ft_arg2)\n",
        "\n",
        "easy_function(\"test4\", \"test5\")"
      ],
      "execution_count": 14,
      "outputs": [
        {
          "output_type": "stream",
          "name": "stdout",
          "text": [
            "my decorator args test1 test2\n",
            "test4 test5\n"
          ]
        }
      ]
    },
    {
      "cell_type": "markdown",
      "metadata": {
        "id": "lrqxBKcZvy6i"
      },
      "source": [
        "Нужно помнить, что Python исполняет декораторы только раз, когда первый раз подключает ваш скрипт."
      ]
    }
  ]
}