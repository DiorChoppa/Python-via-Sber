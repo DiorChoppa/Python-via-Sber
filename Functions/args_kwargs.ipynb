{
  "nbformat": 4,
  "nbformat_minor": 0,
  "metadata": {
    "colab": {
      "name": "args-kwargs.ipynb",
      "provenance": []
    },
    "kernelspec": {
      "name": "python3",
      "display_name": "Python 3"
    },
    "language_info": {
      "name": "python"
    }
  },
  "cells": [
    {
      "cell_type": "markdown",
      "metadata": {
        "id": "Mz0g70nNoBVo"
      },
      "source": [
        "####Изменяемое число аргументов — *args, **kwargs."
      ]
    },
    {
      "cell_type": "markdown",
      "metadata": {
        "id": "XON4PVxioHda"
      },
      "source": [
        "__*args__ — для неименованных аргументов.\n",
        "\n",
        "__**kwargs__ — для именованных аргументов.\n",
        "\n",
        "Такой подход применяется, когда количество аргументов в функции заранее неизвестно.\n",
        "\n",
        "__*args__ — в этом случае переменные передаются как кортеж и доступны под тем именем, что указано при объявлении аргумента."
      ]
    },
    {
      "cell_type": "code",
      "metadata": {
        "colab": {
          "base_uri": "https://localhost:8080/"
        },
        "id": "DPEuOBKFnzE5",
        "outputId": "a270c50b-ce05-490a-9e44-8eb3ef00a6c8"
      },
      "source": [
        "def summator(*nums):\n",
        "  sum = 0\n",
        "  for n in nums:\n",
        "    sum += n\n",
        "  print(sum)\n",
        "\n",
        "summator(3, 5)\n",
        "summator(4, 5, 6, 7)\n",
        "summator(1, 2, 3, 5, 6)"
      ],
      "execution_count": 1,
      "outputs": [
        {
          "output_type": "stream",
          "name": "stdout",
          "text": [
            "8\n",
            "22\n",
            "17\n"
          ]
        }
      ]
    },
    {
      "cell_type": "markdown",
      "metadata": {
        "id": "HQkZ4HE7o3ef"
      },
      "source": [
        "__**kwargs__ — в этом случае переменные передаются как словарь и доступны под тем именем, что указано при объявлении аргумента."
      ]
    },
    {
      "cell_type": "code",
      "metadata": {
        "colab": {
          "base_uri": "https://localhost:8080/"
        },
        "id": "TogvMAmoox1F",
        "outputId": "658d7cb4-b7ea-4e23-eb6d-21c2d1ea62ad"
      },
      "source": [
        "def inside_kwargs(**kwargs):\n",
        "  print(\"kwargs type is\", type(kwargs))\n",
        "  for key, value in kwargs.items():\n",
        "    print(key, value)\n",
        "\n",
        "inside_kwargs(Company=\"Sberbank\", info=\"Python_course\", location=\"online\")"
      ],
      "execution_count": 3,
      "outputs": [
        {
          "output_type": "stream",
          "name": "stdout",
          "text": [
            "kwargs type is <class 'dict'>\n",
            "Company Sberbank\n",
            "info Python_course\n",
            "location online\n"
          ]
        }
      ]
    },
    {
      "cell_type": "markdown",
      "metadata": {
        "id": "FeAIdOz5pdql"
      },
      "source": [
        "__*args__, __**kwargs__ — устоявшиеся названия переменных для передачи неизвестного количества переменных в функцию, но именовать их именно так не обязательно.\n",
        "\n",
        "__*args__, __**kwargs__ можно комбинировать, но в таком случае порядок важен и первым идет __*args__, затем __**kwargs__."
      ]
    }
  ]
}