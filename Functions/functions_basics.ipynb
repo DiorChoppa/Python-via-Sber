{
  "nbformat": 4,
  "nbformat_minor": 0,
  "metadata": {
    "colab": {
      "name": "functions-basics.ipynb",
      "provenance": []
    },
    "kernelspec": {
      "name": "python3",
      "display_name": "Python 3"
    },
    "language_info": {
      "name": "python"
    }
  },
  "cells": [
    {
      "cell_type": "markdown",
      "metadata": {
        "id": "TMVcCS6Wlzht"
      },
      "source": [
        "#Функции"
      ]
    },
    {
      "cell_type": "code",
      "metadata": {
        "colab": {
          "base_uri": "https://localhost:8080/"
        },
        "id": "PcpXuBozeAhJ",
        "outputId": "85784220-a9de-4a3f-860d-3e5977002200"
      },
      "source": [
        "def append(my_list):\n",
        "  my_list.append(1)\n",
        "\n",
        "x = [0]\n",
        "append(x)\n",
        "x"
      ],
      "execution_count": 5,
      "outputs": [
        {
          "output_type": "execute_result",
          "data": {
            "text/plain": [
              "[0, 1]"
            ]
          },
          "metadata": {},
          "execution_count": 5
        }
      ]
    },
    {
      "cell_type": "code",
      "metadata": {
        "colab": {
          "base_uri": "https://localhost:8080/"
        },
        "id": "RBQVMmd2mHpV",
        "outputId": "4e6403c3-3466-4a54-8e2a-1375257976ac"
      },
      "source": [
        "def append(my_list):\n",
        "  my_list = [0, 1]\n",
        "\n",
        "x = [0]\n",
        "append(x)\n",
        "x"
      ],
      "execution_count": 6,
      "outputs": [
        {
          "output_type": "execute_result",
          "data": {
            "text/plain": [
              "[0]"
            ]
          },
          "metadata": {},
          "execution_count": 6
        }
      ]
    },
    {
      "cell_type": "markdown",
      "metadata": {
        "id": "QIAx4DHUnOEc"
      },
      "source": [
        "Результатом работы будет [0], т.к. внутри функции создается новый список и в тот момент времени my_list указывает на [0,1], а x все равно указывает на [0]."
      ]
    },
    {
      "cell_type": "markdown",
      "metadata": {
        "id": "RpGJtRv9nY4k"
      },
      "source": [
        "Собственно говоря, поведение из первого примера свойственно для всех изменяемых объектов — list, dict, set.\n",
        "\n",
        "Какие различают аргументы в функциях?\n",
        "\n",
        "<br>В Python существует гибкая настройка аргументов функции, различают следующие:\n",
        "\n",
        "* обязательные аргументы;\n",
        "* ключевые аргументы;\n",
        "* аргументы по умолчанию;\n",
        "* изменяемое число аргументов.\n",
        "Обязательные аргументы — это аргументы, которые были переданы в функцию в правильном позиционном порядке. Количество передаваемых аргументов должно соответствовать количеству описанных аргументов."
      ]
    },
    {
      "cell_type": "code",
      "metadata": {
        "colab": {
          "base_uri": "https://localhost:8080/"
        },
        "id": "z2MriEo4mqij",
        "outputId": "377f95bb-675a-48a8-d5aa-62e077f521fd"
      },
      "source": [
        "def print_func(str_to_print, int_to_print=50):\n",
        "    print(str_to_print)\n",
        "    print(int_to_print)\n",
        "print_func(str_to_print=\"test\")"
      ],
      "execution_count": 7,
      "outputs": [
        {
          "output_type": "stream",
          "name": "stdout",
          "text": [
            "test\n",
            "50\n"
          ]
        }
      ]
    }
  ]
}