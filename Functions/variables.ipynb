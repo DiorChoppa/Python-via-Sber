{
  "nbformat": 4,
  "nbformat_minor": 0,
  "metadata": {
    "colab": {
      "name": "variables.ipynb",
      "provenance": []
    },
    "kernelspec": {
      "name": "python3",
      "display_name": "Python 3"
    },
    "language_info": {
      "name": "python"
    }
  },
  "cells": [
    {
      "cell_type": "markdown",
      "metadata": {
        "id": "mKQPctsrqJPA"
      },
      "source": [
        "В Python различают глобальные и локальные переменные.\n",
        "\n",
        "Глобальные (global) переменные — это переменные, объявленные вне функций или внутри глобальной области видимости."
      ]
    },
    {
      "cell_type": "code",
      "metadata": {
        "colab": {
          "base_uri": "https://localhost:8080/"
        },
        "id": "YVegaD3aqCcX",
        "outputId": "f0e87c44-3c9c-4256-b786-565fea652919"
      },
      "source": [
        "x = \"global\"\n",
        "def foo():\n",
        "    print(\"x inside :\", x)\n",
        "foo()\n",
        "print(\"x outside:\", x)"
      ],
      "execution_count": 1,
      "outputs": [
        {
          "output_type": "stream",
          "name": "stdout",
          "text": [
            "x inside : global\n",
            "x outside: global\n"
          ]
        }
      ]
    },
    {
      "cell_type": "markdown",
      "metadata": {
        "id": "f_9Nxk3Oqbkg"
      },
      "source": [
        "Мы получили доступ к переменной x внутри функции foo() и снаружи от нее.\n",
        "Но стоит отметить интересный момент, что при попытке изменить эту переменную внутри функции foo() мы получим __ошибку__."
      ]
    },
    {
      "cell_type": "code",
      "metadata": {
        "colab": {
          "base_uri": "https://localhost:8080/",
          "height": 317
        },
        "id": "_mIKFXLbqa76",
        "outputId": "bbc30dab-6068-4f9c-ab13-0ea085324013"
      },
      "source": [
        "x = \"global\"\n",
        "def foo():\n",
        "    x = x * 2\n",
        "    print(x)\n",
        "foo()"
      ],
      "execution_count": 2,
      "outputs": [
        {
          "output_type": "error",
          "ename": "UnboundLocalError",
          "evalue": "ignored",
          "traceback": [
            "\u001b[0;31m---------------------------------------------------------------------------\u001b[0m",
            "\u001b[0;31mUnboundLocalError\u001b[0m                         Traceback (most recent call last)",
            "\u001b[0;32m<ipython-input-2-d2dba610a413>\u001b[0m in \u001b[0;36m<module>\u001b[0;34m()\u001b[0m\n\u001b[1;32m      3\u001b[0m     \u001b[0mx\u001b[0m \u001b[0;34m=\u001b[0m \u001b[0mx\u001b[0m \u001b[0;34m*\u001b[0m \u001b[0;36m2\u001b[0m\u001b[0;34m\u001b[0m\u001b[0;34m\u001b[0m\u001b[0m\n\u001b[1;32m      4\u001b[0m     \u001b[0mprint\u001b[0m\u001b[0;34m(\u001b[0m\u001b[0mx\u001b[0m\u001b[0;34m)\u001b[0m\u001b[0;34m\u001b[0m\u001b[0;34m\u001b[0m\u001b[0m\n\u001b[0;32m----> 5\u001b[0;31m \u001b[0mfoo\u001b[0m\u001b[0;34m(\u001b[0m\u001b[0;34m)\u001b[0m\u001b[0;34m\u001b[0m\u001b[0;34m\u001b[0m\u001b[0m\n\u001b[0m",
            "\u001b[0;32m<ipython-input-2-d2dba610a413>\u001b[0m in \u001b[0;36mfoo\u001b[0;34m()\u001b[0m\n\u001b[1;32m      1\u001b[0m \u001b[0mx\u001b[0m \u001b[0;34m=\u001b[0m \u001b[0;34m\"global\"\u001b[0m\u001b[0;34m\u001b[0m\u001b[0;34m\u001b[0m\u001b[0m\n\u001b[1;32m      2\u001b[0m \u001b[0;32mdef\u001b[0m \u001b[0mfoo\u001b[0m\u001b[0;34m(\u001b[0m\u001b[0;34m)\u001b[0m\u001b[0;34m:\u001b[0m\u001b[0;34m\u001b[0m\u001b[0;34m\u001b[0m\u001b[0m\n\u001b[0;32m----> 3\u001b[0;31m     \u001b[0mx\u001b[0m \u001b[0;34m=\u001b[0m \u001b[0mx\u001b[0m \u001b[0;34m*\u001b[0m \u001b[0;36m2\u001b[0m\u001b[0;34m\u001b[0m\u001b[0;34m\u001b[0m\u001b[0m\n\u001b[0m\u001b[1;32m      4\u001b[0m     \u001b[0mprint\u001b[0m\u001b[0;34m(\u001b[0m\u001b[0mx\u001b[0m\u001b[0;34m)\u001b[0m\u001b[0;34m\u001b[0m\u001b[0;34m\u001b[0m\u001b[0m\n\u001b[1;32m      5\u001b[0m \u001b[0mfoo\u001b[0m\u001b[0;34m(\u001b[0m\u001b[0;34m)\u001b[0m\u001b[0;34m\u001b[0m\u001b[0;34m\u001b[0m\u001b[0m\n",
            "\u001b[0;31mUnboundLocalError\u001b[0m: local variable 'x' referenced before assignment"
          ]
        }
      ]
    },
    {
      "cell_type": "markdown",
      "metadata": {
        "id": "5Sy_YRTeqhd8"
      },
      "source": [
        ""
      ]
    },
    {
      "cell_type": "markdown",
      "metadata": {
        "id": "bcoNvyooqqBH"
      },
      "source": [
        "Это происходит потому, что при изменении переменной функция ищет ее внутри локальной области видимости, но не находит ее первичного определения. Чтобы исправить эту ошибку следует использовать ключевое слово __global__:"
      ]
    },
    {
      "cell_type": "code",
      "metadata": {
        "colab": {
          "base_uri": "https://localhost:8080/"
        },
        "id": "S3zpyhSHqf4p",
        "outputId": "9f12e511-4798-44e3-8c96-183489572ea3"
      },
      "source": [
        "x = \"global\"\n",
        "def foo():\n",
        "  global x\n",
        "  x = x * 2\n",
        "  print(x)\n",
        "\n",
        "foo()"
      ],
      "execution_count": 3,
      "outputs": [
        {
          "output_type": "stream",
          "name": "stdout",
          "text": [
            "globalglobal\n"
          ]
        }
      ]
    },
    {
      "cell_type": "markdown",
      "metadata": {
        "id": "0rxZZkvEq9sw"
      },
      "source": [
        "Python гибкий язык, он позволяет создавать функции внутри функций и т.д.\n",
        "\n",
        "Например:"
      ]
    },
    {
      "cell_type": "code",
      "metadata": {
        "colab": {
          "base_uri": "https://localhost:8080/"
        },
        "id": "w1mERBaWqyhx",
        "outputId": "1faa0abd-6df5-45d5-e4aa-c71a60d85800"
      },
      "source": [
        "def foo():\n",
        "  def under_foo():\n",
        "    print(\"in foo\")\n",
        "  under_foo()\n",
        "\n",
        "foo()"
      ],
      "execution_count": 4,
      "outputs": [
        {
          "output_type": "stream",
          "name": "stdout",
          "text": [
            "in foo\n"
          ]
        }
      ]
    },
    {
      "cell_type": "markdown",
      "metadata": {
        "id": "R9QvtReTrNIi"
      },
      "source": [
        "Применимо к функции under_foo() можно описать нелокальную переменную, используя ключевое слово __nonlocal__.\n",
        "\n",
        "Это означает, что переменная не может быть ни в локальной, ни в глобальной области видимости."
      ]
    },
    {
      "cell_type": "code",
      "metadata": {
        "colab": {
          "base_uri": "https://localhost:8080/"
        },
        "id": "pWnbNJ-urHSs",
        "outputId": "c8036629-c9ee-46e4-f2ce-96b2c9670634"
      },
      "source": [
        "def outer():\n",
        "  x = \"local\"\n",
        "  def inner():\n",
        "    nonlocal x\n",
        "    x = \"nonlocal\"\n",
        "    print(\"inner:\", x)\n",
        "  inner()\n",
        "  print(\"outer:\", x)\n",
        "\n",
        "outer()"
      ],
      "execution_count": 5,
      "outputs": [
        {
          "output_type": "stream",
          "name": "stdout",
          "text": [
            "inner: nonlocal\n",
            "outer: nonlocal\n"
          ]
        }
      ]
    },
    {
      "cell_type": "markdown",
      "metadata": {
        "id": "UmrFyjtxroDO"
      },
      "source": [
        "Тут внутри функции inner() мы определяем нелокальную переменную X. Функция inner() определена в области видимости функции outer(), поэтому, используя ключевое слово nonlocal, меняется значение локальной переменной X функции outer()."
      ]
    }
  ]
}