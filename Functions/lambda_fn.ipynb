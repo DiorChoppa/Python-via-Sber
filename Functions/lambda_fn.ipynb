{
  "nbformat": 4,
  "nbformat_minor": 0,
  "metadata": {
    "colab": {
      "name": "lambda-fn.ipynb",
      "provenance": []
    },
    "kernelspec": {
      "name": "python3",
      "display_name": "Python 3"
    },
    "language_info": {
      "name": "python"
    }
  },
  "cells": [
    {
      "cell_type": "markdown",
      "metadata": {
        "id": "AGepLpr_sEte"
      },
      "source": [
        "Lambda-функции в Python определяются следующим способом:"
      ]
    },
    {
      "cell_type": "code",
      "metadata": {
        "colab": {
          "base_uri": "https://localhost:8080/"
        },
        "id": "fbVhketir3F0",
        "outputId": "0bb77dc1-6a8a-4f3f-e2e9-532ee2685b41"
      },
      "source": [
        "lambda x: x + 1"
      ],
      "execution_count": 1,
      "outputs": [
        {
          "output_type": "execute_result",
          "data": {
            "text/plain": [
              "<function __main__.<lambda>>"
            ]
          },
          "metadata": {},
          "execution_count": 1
        }
      ]
    },
    {
      "cell_type": "markdown",
      "metadata": {
        "id": "jirHTfuQsHqG"
      },
      "source": [
        "где:\n",
        "\n",
        "lambda - ключевое слово;\n",
        "\n",
        "x - входной аргумент;\n",
        "\n",
        "x + 1 - действия над аргументом."
      ]
    },
    {
      "cell_type": "code",
      "metadata": {
        "colab": {
          "base_uri": "https://localhost:8080/"
        },
        "id": "AXXF4DT3sEOv",
        "outputId": "52706670-bf5d-45e7-d261-d47fa3f35f85"
      },
      "source": [
        "(lambda x: x + 1)(2)"
      ],
      "execution_count": 2,
      "outputs": [
        {
          "output_type": "execute_result",
          "data": {
            "text/plain": [
              "3"
            ]
          },
          "metadata": {},
          "execution_count": 2
        }
      ]
    },
    {
      "cell_type": "code",
      "metadata": {
        "colab": {
          "base_uri": "https://localhost:8080/"
        },
        "id": "bX65DgVRsMtK",
        "outputId": "e272f424-1db8-42a3-e3f0-5922f3d0b1a2"
      },
      "source": [
        "add_one = lambda x: x + 1\n",
        "add_one(2)"
      ],
      "execution_count": 3,
      "outputs": [
        {
          "output_type": "execute_result",
          "data": {
            "text/plain": [
              "3"
            ]
          },
          "metadata": {},
          "execution_count": 3
        }
      ]
    },
    {
      "cell_type": "code",
      "metadata": {
        "colab": {
          "base_uri": "https://localhost:8080/"
        },
        "id": "8mIaIWFbsVhi",
        "outputId": "955912f5-5d31-433f-949b-4f19bbdc3240"
      },
      "source": [
        "colors = [\"Goldenrod\", \"purple\", \"Salmon\", \"turquoise\", \"cyan\"]\n",
        "print(sorted(colors, key=lambda s: s.casefold()))"
      ],
      "execution_count": 4,
      "outputs": [
        {
          "output_type": "stream",
          "name": "stdout",
          "text": [
            "['cyan', 'Goldenrod', 'purple', 'Salmon', 'turquoise']\n"
          ]
        }
      ]
    },
    {
      "cell_type": "markdown",
      "metadata": {
        "id": "q4Sn8FXzsyAS"
      },
      "source": [
        "В других случаях применения lambda оправдано, если:\n",
        "\n",
        "Внутри метода класса / функции нужно выполнить несколько раз простую операцию, которую нет желания выносить в отдельную функцию.\n",
        "Наличие lambda-функции делает код более понятным.\n",
        "Твой коллега также понимает зачем нужно использовать lambda."
      ]
    }
  ]
}